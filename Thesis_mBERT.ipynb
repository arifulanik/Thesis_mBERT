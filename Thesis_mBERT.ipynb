{
  "nbformat": 4,
  "nbformat_minor": 0,
  "metadata": {
    "colab": {
      "provenance": [],
      "gpuType": "T4"
    },
    "kernelspec": {
      "name": "python3",
      "display_name": "Python 3"
    },
    "accelerator": "GPU",
    "widgets": {
      "application/vnd.jupyter.widget-state+json": {
        "baf9ab8c52fe43028514cf096f8983bb": {
          "model_module": "@jupyter-widgets/controls",
          "model_name": "HBoxModel",
          "model_module_version": "1.5.0",
          "state": {
            "_dom_classes": [],
            "_model_module": "@jupyter-widgets/controls",
            "_model_module_version": "1.5.0",
            "_model_name": "HBoxModel",
            "_view_count": null,
            "_view_module": "@jupyter-widgets/controls",
            "_view_module_version": "1.5.0",
            "_view_name": "HBoxView",
            "box_style": "",
            "children": [
              "IPY_MODEL_08adecd45b0649e4bbcb0c88eaca9abc",
              "IPY_MODEL_952a3446eafa4c3e83c55db121c86711",
              "IPY_MODEL_f26de4cc5d024f25b77573dc31db40b2"
            ],
            "layout": "IPY_MODEL_d42a97a276ca4be1a4cc33c2aee1ec1b"
          }
        },
        "08adecd45b0649e4bbcb0c88eaca9abc": {
          "model_module": "@jupyter-widgets/controls",
          "model_name": "HTMLModel",
          "model_module_version": "1.5.0",
          "state": {
            "_dom_classes": [],
            "_model_module": "@jupyter-widgets/controls",
            "_model_module_version": "1.5.0",
            "_model_name": "HTMLModel",
            "_view_count": null,
            "_view_module": "@jupyter-widgets/controls",
            "_view_module_version": "1.5.0",
            "_view_name": "HTMLView",
            "description": "",
            "description_tooltip": null,
            "layout": "IPY_MODEL_76281b1472144375ab72bab39271a8b4",
            "placeholder": "​",
            "style": "IPY_MODEL_cf35c3b863cf4bf29e090c322f94dcd4",
            "value": "Downloading (…)okenizer_config.json: 100%"
          }
        },
        "952a3446eafa4c3e83c55db121c86711": {
          "model_module": "@jupyter-widgets/controls",
          "model_name": "FloatProgressModel",
          "model_module_version": "1.5.0",
          "state": {
            "_dom_classes": [],
            "_model_module": "@jupyter-widgets/controls",
            "_model_module_version": "1.5.0",
            "_model_name": "FloatProgressModel",
            "_view_count": null,
            "_view_module": "@jupyter-widgets/controls",
            "_view_module_version": "1.5.0",
            "_view_name": "ProgressView",
            "bar_style": "success",
            "description": "",
            "description_tooltip": null,
            "layout": "IPY_MODEL_29081637b70c46a5a89908b3b0fbbd21",
            "max": 29,
            "min": 0,
            "orientation": "horizontal",
            "style": "IPY_MODEL_ffd83bee361a42988df20d5cc2707320",
            "value": 29
          }
        },
        "f26de4cc5d024f25b77573dc31db40b2": {
          "model_module": "@jupyter-widgets/controls",
          "model_name": "HTMLModel",
          "model_module_version": "1.5.0",
          "state": {
            "_dom_classes": [],
            "_model_module": "@jupyter-widgets/controls",
            "_model_module_version": "1.5.0",
            "_model_name": "HTMLModel",
            "_view_count": null,
            "_view_module": "@jupyter-widgets/controls",
            "_view_module_version": "1.5.0",
            "_view_name": "HTMLView",
            "description": "",
            "description_tooltip": null,
            "layout": "IPY_MODEL_1fcdb90e119c476bbdfb050ce3511933",
            "placeholder": "​",
            "style": "IPY_MODEL_d12afdab44d14c1bbd8ef0f185717bb4",
            "value": " 29.0/29.0 [00:00&lt;00:00, 1.32kB/s]"
          }
        },
        "d42a97a276ca4be1a4cc33c2aee1ec1b": {
          "model_module": "@jupyter-widgets/base",
          "model_name": "LayoutModel",
          "model_module_version": "1.2.0",
          "state": {
            "_model_module": "@jupyter-widgets/base",
            "_model_module_version": "1.2.0",
            "_model_name": "LayoutModel",
            "_view_count": null,
            "_view_module": "@jupyter-widgets/base",
            "_view_module_version": "1.2.0",
            "_view_name": "LayoutView",
            "align_content": null,
            "align_items": null,
            "align_self": null,
            "border": null,
            "bottom": null,
            "display": null,
            "flex": null,
            "flex_flow": null,
            "grid_area": null,
            "grid_auto_columns": null,
            "grid_auto_flow": null,
            "grid_auto_rows": null,
            "grid_column": null,
            "grid_gap": null,
            "grid_row": null,
            "grid_template_areas": null,
            "grid_template_columns": null,
            "grid_template_rows": null,
            "height": null,
            "justify_content": null,
            "justify_items": null,
            "left": null,
            "margin": null,
            "max_height": null,
            "max_width": null,
            "min_height": null,
            "min_width": null,
            "object_fit": null,
            "object_position": null,
            "order": null,
            "overflow": null,
            "overflow_x": null,
            "overflow_y": null,
            "padding": null,
            "right": null,
            "top": null,
            "visibility": null,
            "width": null
          }
        },
        "76281b1472144375ab72bab39271a8b4": {
          "model_module": "@jupyter-widgets/base",
          "model_name": "LayoutModel",
          "model_module_version": "1.2.0",
          "state": {
            "_model_module": "@jupyter-widgets/base",
            "_model_module_version": "1.2.0",
            "_model_name": "LayoutModel",
            "_view_count": null,
            "_view_module": "@jupyter-widgets/base",
            "_view_module_version": "1.2.0",
            "_view_name": "LayoutView",
            "align_content": null,
            "align_items": null,
            "align_self": null,
            "border": null,
            "bottom": null,
            "display": null,
            "flex": null,
            "flex_flow": null,
            "grid_area": null,
            "grid_auto_columns": null,
            "grid_auto_flow": null,
            "grid_auto_rows": null,
            "grid_column": null,
            "grid_gap": null,
            "grid_row": null,
            "grid_template_areas": null,
            "grid_template_columns": null,
            "grid_template_rows": null,
            "height": null,
            "justify_content": null,
            "justify_items": null,
            "left": null,
            "margin": null,
            "max_height": null,
            "max_width": null,
            "min_height": null,
            "min_width": null,
            "object_fit": null,
            "object_position": null,
            "order": null,
            "overflow": null,
            "overflow_x": null,
            "overflow_y": null,
            "padding": null,
            "right": null,
            "top": null,
            "visibility": null,
            "width": null
          }
        },
        "cf35c3b863cf4bf29e090c322f94dcd4": {
          "model_module": "@jupyter-widgets/controls",
          "model_name": "DescriptionStyleModel",
          "model_module_version": "1.5.0",
          "state": {
            "_model_module": "@jupyter-widgets/controls",
            "_model_module_version": "1.5.0",
            "_model_name": "DescriptionStyleModel",
            "_view_count": null,
            "_view_module": "@jupyter-widgets/base",
            "_view_module_version": "1.2.0",
            "_view_name": "StyleView",
            "description_width": ""
          }
        },
        "29081637b70c46a5a89908b3b0fbbd21": {
          "model_module": "@jupyter-widgets/base",
          "model_name": "LayoutModel",
          "model_module_version": "1.2.0",
          "state": {
            "_model_module": "@jupyter-widgets/base",
            "_model_module_version": "1.2.0",
            "_model_name": "LayoutModel",
            "_view_count": null,
            "_view_module": "@jupyter-widgets/base",
            "_view_module_version": "1.2.0",
            "_view_name": "LayoutView",
            "align_content": null,
            "align_items": null,
            "align_self": null,
            "border": null,
            "bottom": null,
            "display": null,
            "flex": null,
            "flex_flow": null,
            "grid_area": null,
            "grid_auto_columns": null,
            "grid_auto_flow": null,
            "grid_auto_rows": null,
            "grid_column": null,
            "grid_gap": null,
            "grid_row": null,
            "grid_template_areas": null,
            "grid_template_columns": null,
            "grid_template_rows": null,
            "height": null,
            "justify_content": null,
            "justify_items": null,
            "left": null,
            "margin": null,
            "max_height": null,
            "max_width": null,
            "min_height": null,
            "min_width": null,
            "object_fit": null,
            "object_position": null,
            "order": null,
            "overflow": null,
            "overflow_x": null,
            "overflow_y": null,
            "padding": null,
            "right": null,
            "top": null,
            "visibility": null,
            "width": null
          }
        },
        "ffd83bee361a42988df20d5cc2707320": {
          "model_module": "@jupyter-widgets/controls",
          "model_name": "ProgressStyleModel",
          "model_module_version": "1.5.0",
          "state": {
            "_model_module": "@jupyter-widgets/controls",
            "_model_module_version": "1.5.0",
            "_model_name": "ProgressStyleModel",
            "_view_count": null,
            "_view_module": "@jupyter-widgets/base",
            "_view_module_version": "1.2.0",
            "_view_name": "StyleView",
            "bar_color": null,
            "description_width": ""
          }
        },
        "1fcdb90e119c476bbdfb050ce3511933": {
          "model_module": "@jupyter-widgets/base",
          "model_name": "LayoutModel",
          "model_module_version": "1.2.0",
          "state": {
            "_model_module": "@jupyter-widgets/base",
            "_model_module_version": "1.2.0",
            "_model_name": "LayoutModel",
            "_view_count": null,
            "_view_module": "@jupyter-widgets/base",
            "_view_module_version": "1.2.0",
            "_view_name": "LayoutView",
            "align_content": null,
            "align_items": null,
            "align_self": null,
            "border": null,
            "bottom": null,
            "display": null,
            "flex": null,
            "flex_flow": null,
            "grid_area": null,
            "grid_auto_columns": null,
            "grid_auto_flow": null,
            "grid_auto_rows": null,
            "grid_column": null,
            "grid_gap": null,
            "grid_row": null,
            "grid_template_areas": null,
            "grid_template_columns": null,
            "grid_template_rows": null,
            "height": null,
            "justify_content": null,
            "justify_items": null,
            "left": null,
            "margin": null,
            "max_height": null,
            "max_width": null,
            "min_height": null,
            "min_width": null,
            "object_fit": null,
            "object_position": null,
            "order": null,
            "overflow": null,
            "overflow_x": null,
            "overflow_y": null,
            "padding": null,
            "right": null,
            "top": null,
            "visibility": null,
            "width": null
          }
        },
        "d12afdab44d14c1bbd8ef0f185717bb4": {
          "model_module": "@jupyter-widgets/controls",
          "model_name": "DescriptionStyleModel",
          "model_module_version": "1.5.0",
          "state": {
            "_model_module": "@jupyter-widgets/controls",
            "_model_module_version": "1.5.0",
            "_model_name": "DescriptionStyleModel",
            "_view_count": null,
            "_view_module": "@jupyter-widgets/base",
            "_view_module_version": "1.2.0",
            "_view_name": "StyleView",
            "description_width": ""
          }
        },
        "84d18ede19df4682bc473051ef7e764d": {
          "model_module": "@jupyter-widgets/controls",
          "model_name": "HBoxModel",
          "model_module_version": "1.5.0",
          "state": {
            "_dom_classes": [],
            "_model_module": "@jupyter-widgets/controls",
            "_model_module_version": "1.5.0",
            "_model_name": "HBoxModel",
            "_view_count": null,
            "_view_module": "@jupyter-widgets/controls",
            "_view_module_version": "1.5.0",
            "_view_name": "HBoxView",
            "box_style": "",
            "children": [
              "IPY_MODEL_5cea36af252344cbb24feaccae53605d",
              "IPY_MODEL_b01e5be0e69b45f78188c845fed2626a",
              "IPY_MODEL_55d4a820803c4d849fa433720621ea9f"
            ],
            "layout": "IPY_MODEL_dcbc211dd8cc41c3a18ee5cbac226e37"
          }
        },
        "5cea36af252344cbb24feaccae53605d": {
          "model_module": "@jupyter-widgets/controls",
          "model_name": "HTMLModel",
          "model_module_version": "1.5.0",
          "state": {
            "_dom_classes": [],
            "_model_module": "@jupyter-widgets/controls",
            "_model_module_version": "1.5.0",
            "_model_name": "HTMLModel",
            "_view_count": null,
            "_view_module": "@jupyter-widgets/controls",
            "_view_module_version": "1.5.0",
            "_view_name": "HTMLView",
            "description": "",
            "description_tooltip": null,
            "layout": "IPY_MODEL_89363084187441e4bb3cb49e36d98833",
            "placeholder": "​",
            "style": "IPY_MODEL_61c36ce66f734b15b69ff1ea850da354",
            "value": "Downloading (…)lve/main/config.json: 100%"
          }
        },
        "b01e5be0e69b45f78188c845fed2626a": {
          "model_module": "@jupyter-widgets/controls",
          "model_name": "FloatProgressModel",
          "model_module_version": "1.5.0",
          "state": {
            "_dom_classes": [],
            "_model_module": "@jupyter-widgets/controls",
            "_model_module_version": "1.5.0",
            "_model_name": "FloatProgressModel",
            "_view_count": null,
            "_view_module": "@jupyter-widgets/controls",
            "_view_module_version": "1.5.0",
            "_view_name": "ProgressView",
            "bar_style": "success",
            "description": "",
            "description_tooltip": null,
            "layout": "IPY_MODEL_546dba6c26584604a9a3b88ad8c43907",
            "max": 625,
            "min": 0,
            "orientation": "horizontal",
            "style": "IPY_MODEL_315e3e5c358245ae81e9820414a3703e",
            "value": 625
          }
        },
        "55d4a820803c4d849fa433720621ea9f": {
          "model_module": "@jupyter-widgets/controls",
          "model_name": "HTMLModel",
          "model_module_version": "1.5.0",
          "state": {
            "_dom_classes": [],
            "_model_module": "@jupyter-widgets/controls",
            "_model_module_version": "1.5.0",
            "_model_name": "HTMLModel",
            "_view_count": null,
            "_view_module": "@jupyter-widgets/controls",
            "_view_module_version": "1.5.0",
            "_view_name": "HTMLView",
            "description": "",
            "description_tooltip": null,
            "layout": "IPY_MODEL_ad8e19a3f04a4e7fb264383f3e022624",
            "placeholder": "​",
            "style": "IPY_MODEL_3cd24c999e1847c28f8e7dd468023cc1",
            "value": " 625/625 [00:00&lt;00:00, 38.6kB/s]"
          }
        },
        "dcbc211dd8cc41c3a18ee5cbac226e37": {
          "model_module": "@jupyter-widgets/base",
          "model_name": "LayoutModel",
          "model_module_version": "1.2.0",
          "state": {
            "_model_module": "@jupyter-widgets/base",
            "_model_module_version": "1.2.0",
            "_model_name": "LayoutModel",
            "_view_count": null,
            "_view_module": "@jupyter-widgets/base",
            "_view_module_version": "1.2.0",
            "_view_name": "LayoutView",
            "align_content": null,
            "align_items": null,
            "align_self": null,
            "border": null,
            "bottom": null,
            "display": null,
            "flex": null,
            "flex_flow": null,
            "grid_area": null,
            "grid_auto_columns": null,
            "grid_auto_flow": null,
            "grid_auto_rows": null,
            "grid_column": null,
            "grid_gap": null,
            "grid_row": null,
            "grid_template_areas": null,
            "grid_template_columns": null,
            "grid_template_rows": null,
            "height": null,
            "justify_content": null,
            "justify_items": null,
            "left": null,
            "margin": null,
            "max_height": null,
            "max_width": null,
            "min_height": null,
            "min_width": null,
            "object_fit": null,
            "object_position": null,
            "order": null,
            "overflow": null,
            "overflow_x": null,
            "overflow_y": null,
            "padding": null,
            "right": null,
            "top": null,
            "visibility": null,
            "width": null
          }
        },
        "89363084187441e4bb3cb49e36d98833": {
          "model_module": "@jupyter-widgets/base",
          "model_name": "LayoutModel",
          "model_module_version": "1.2.0",
          "state": {
            "_model_module": "@jupyter-widgets/base",
            "_model_module_version": "1.2.0",
            "_model_name": "LayoutModel",
            "_view_count": null,
            "_view_module": "@jupyter-widgets/base",
            "_view_module_version": "1.2.0",
            "_view_name": "LayoutView",
            "align_content": null,
            "align_items": null,
            "align_self": null,
            "border": null,
            "bottom": null,
            "display": null,
            "flex": null,
            "flex_flow": null,
            "grid_area": null,
            "grid_auto_columns": null,
            "grid_auto_flow": null,
            "grid_auto_rows": null,
            "grid_column": null,
            "grid_gap": null,
            "grid_row": null,
            "grid_template_areas": null,
            "grid_template_columns": null,
            "grid_template_rows": null,
            "height": null,
            "justify_content": null,
            "justify_items": null,
            "left": null,
            "margin": null,
            "max_height": null,
            "max_width": null,
            "min_height": null,
            "min_width": null,
            "object_fit": null,
            "object_position": null,
            "order": null,
            "overflow": null,
            "overflow_x": null,
            "overflow_y": null,
            "padding": null,
            "right": null,
            "top": null,
            "visibility": null,
            "width": null
          }
        },
        "61c36ce66f734b15b69ff1ea850da354": {
          "model_module": "@jupyter-widgets/controls",
          "model_name": "DescriptionStyleModel",
          "model_module_version": "1.5.0",
          "state": {
            "_model_module": "@jupyter-widgets/controls",
            "_model_module_version": "1.5.0",
            "_model_name": "DescriptionStyleModel",
            "_view_count": null,
            "_view_module": "@jupyter-widgets/base",
            "_view_module_version": "1.2.0",
            "_view_name": "StyleView",
            "description_width": ""
          }
        },
        "546dba6c26584604a9a3b88ad8c43907": {
          "model_module": "@jupyter-widgets/base",
          "model_name": "LayoutModel",
          "model_module_version": "1.2.0",
          "state": {
            "_model_module": "@jupyter-widgets/base",
            "_model_module_version": "1.2.0",
            "_model_name": "LayoutModel",
            "_view_count": null,
            "_view_module": "@jupyter-widgets/base",
            "_view_module_version": "1.2.0",
            "_view_name": "LayoutView",
            "align_content": null,
            "align_items": null,
            "align_self": null,
            "border": null,
            "bottom": null,
            "display": null,
            "flex": null,
            "flex_flow": null,
            "grid_area": null,
            "grid_auto_columns": null,
            "grid_auto_flow": null,
            "grid_auto_rows": null,
            "grid_column": null,
            "grid_gap": null,
            "grid_row": null,
            "grid_template_areas": null,
            "grid_template_columns": null,
            "grid_template_rows": null,
            "height": null,
            "justify_content": null,
            "justify_items": null,
            "left": null,
            "margin": null,
            "max_height": null,
            "max_width": null,
            "min_height": null,
            "min_width": null,
            "object_fit": null,
            "object_position": null,
            "order": null,
            "overflow": null,
            "overflow_x": null,
            "overflow_y": null,
            "padding": null,
            "right": null,
            "top": null,
            "visibility": null,
            "width": null
          }
        },
        "315e3e5c358245ae81e9820414a3703e": {
          "model_module": "@jupyter-widgets/controls",
          "model_name": "ProgressStyleModel",
          "model_module_version": "1.5.0",
          "state": {
            "_model_module": "@jupyter-widgets/controls",
            "_model_module_version": "1.5.0",
            "_model_name": "ProgressStyleModel",
            "_view_count": null,
            "_view_module": "@jupyter-widgets/base",
            "_view_module_version": "1.2.0",
            "_view_name": "StyleView",
            "bar_color": null,
            "description_width": ""
          }
        },
        "ad8e19a3f04a4e7fb264383f3e022624": {
          "model_module": "@jupyter-widgets/base",
          "model_name": "LayoutModel",
          "model_module_version": "1.2.0",
          "state": {
            "_model_module": "@jupyter-widgets/base",
            "_model_module_version": "1.2.0",
            "_model_name": "LayoutModel",
            "_view_count": null,
            "_view_module": "@jupyter-widgets/base",
            "_view_module_version": "1.2.0",
            "_view_name": "LayoutView",
            "align_content": null,
            "align_items": null,
            "align_self": null,
            "border": null,
            "bottom": null,
            "display": null,
            "flex": null,
            "flex_flow": null,
            "grid_area": null,
            "grid_auto_columns": null,
            "grid_auto_flow": null,
            "grid_auto_rows": null,
            "grid_column": null,
            "grid_gap": null,
            "grid_row": null,
            "grid_template_areas": null,
            "grid_template_columns": null,
            "grid_template_rows": null,
            "height": null,
            "justify_content": null,
            "justify_items": null,
            "left": null,
            "margin": null,
            "max_height": null,
            "max_width": null,
            "min_height": null,
            "min_width": null,
            "object_fit": null,
            "object_position": null,
            "order": null,
            "overflow": null,
            "overflow_x": null,
            "overflow_y": null,
            "padding": null,
            "right": null,
            "top": null,
            "visibility": null,
            "width": null
          }
        },
        "3cd24c999e1847c28f8e7dd468023cc1": {
          "model_module": "@jupyter-widgets/controls",
          "model_name": "DescriptionStyleModel",
          "model_module_version": "1.5.0",
          "state": {
            "_model_module": "@jupyter-widgets/controls",
            "_model_module_version": "1.5.0",
            "_model_name": "DescriptionStyleModel",
            "_view_count": null,
            "_view_module": "@jupyter-widgets/base",
            "_view_module_version": "1.2.0",
            "_view_name": "StyleView",
            "description_width": ""
          }
        },
        "c2e4f3d6212a4943bc896a8da8c961ff": {
          "model_module": "@jupyter-widgets/controls",
          "model_name": "HBoxModel",
          "model_module_version": "1.5.0",
          "state": {
            "_dom_classes": [],
            "_model_module": "@jupyter-widgets/controls",
            "_model_module_version": "1.5.0",
            "_model_name": "HBoxModel",
            "_view_count": null,
            "_view_module": "@jupyter-widgets/controls",
            "_view_module_version": "1.5.0",
            "_view_name": "HBoxView",
            "box_style": "",
            "children": [
              "IPY_MODEL_e374d943d5944002b89f7fd33c820f1d",
              "IPY_MODEL_2d927054a200405aa8b1c883d80e7edd",
              "IPY_MODEL_7f4d18874608410eb3afd4a90e8a5e24"
            ],
            "layout": "IPY_MODEL_a8437789768d440ba91c396982d61a25"
          }
        },
        "e374d943d5944002b89f7fd33c820f1d": {
          "model_module": "@jupyter-widgets/controls",
          "model_name": "HTMLModel",
          "model_module_version": "1.5.0",
          "state": {
            "_dom_classes": [],
            "_model_module": "@jupyter-widgets/controls",
            "_model_module_version": "1.5.0",
            "_model_name": "HTMLModel",
            "_view_count": null,
            "_view_module": "@jupyter-widgets/controls",
            "_view_module_version": "1.5.0",
            "_view_name": "HTMLView",
            "description": "",
            "description_tooltip": null,
            "layout": "IPY_MODEL_fc501fc0b7c94a34bc3da8af9f102557",
            "placeholder": "​",
            "style": "IPY_MODEL_8acb9beb535c4b3c955f353fa5f13faf",
            "value": "Downloading (…)solve/main/vocab.txt: 100%"
          }
        },
        "2d927054a200405aa8b1c883d80e7edd": {
          "model_module": "@jupyter-widgets/controls",
          "model_name": "FloatProgressModel",
          "model_module_version": "1.5.0",
          "state": {
            "_dom_classes": [],
            "_model_module": "@jupyter-widgets/controls",
            "_model_module_version": "1.5.0",
            "_model_name": "FloatProgressModel",
            "_view_count": null,
            "_view_module": "@jupyter-widgets/controls",
            "_view_module_version": "1.5.0",
            "_view_name": "ProgressView",
            "bar_style": "success",
            "description": "",
            "description_tooltip": null,
            "layout": "IPY_MODEL_3cc8450edd91438981bd7b0675fdefa9",
            "max": 995526,
            "min": 0,
            "orientation": "horizontal",
            "style": "IPY_MODEL_21c4cf2861094fdab319b7b5157c1525",
            "value": 995526
          }
        },
        "7f4d18874608410eb3afd4a90e8a5e24": {
          "model_module": "@jupyter-widgets/controls",
          "model_name": "HTMLModel",
          "model_module_version": "1.5.0",
          "state": {
            "_dom_classes": [],
            "_model_module": "@jupyter-widgets/controls",
            "_model_module_version": "1.5.0",
            "_model_name": "HTMLModel",
            "_view_count": null,
            "_view_module": "@jupyter-widgets/controls",
            "_view_module_version": "1.5.0",
            "_view_name": "HTMLView",
            "description": "",
            "description_tooltip": null,
            "layout": "IPY_MODEL_24839ffc15df4330a00a980ba748eab7",
            "placeholder": "​",
            "style": "IPY_MODEL_1d00538a0a7c411d8e0a789436fa66b8",
            "value": " 996k/996k [00:00&lt;00:00, 32.5MB/s]"
          }
        },
        "a8437789768d440ba91c396982d61a25": {
          "model_module": "@jupyter-widgets/base",
          "model_name": "LayoutModel",
          "model_module_version": "1.2.0",
          "state": {
            "_model_module": "@jupyter-widgets/base",
            "_model_module_version": "1.2.0",
            "_model_name": "LayoutModel",
            "_view_count": null,
            "_view_module": "@jupyter-widgets/base",
            "_view_module_version": "1.2.0",
            "_view_name": "LayoutView",
            "align_content": null,
            "align_items": null,
            "align_self": null,
            "border": null,
            "bottom": null,
            "display": null,
            "flex": null,
            "flex_flow": null,
            "grid_area": null,
            "grid_auto_columns": null,
            "grid_auto_flow": null,
            "grid_auto_rows": null,
            "grid_column": null,
            "grid_gap": null,
            "grid_row": null,
            "grid_template_areas": null,
            "grid_template_columns": null,
            "grid_template_rows": null,
            "height": null,
            "justify_content": null,
            "justify_items": null,
            "left": null,
            "margin": null,
            "max_height": null,
            "max_width": null,
            "min_height": null,
            "min_width": null,
            "object_fit": null,
            "object_position": null,
            "order": null,
            "overflow": null,
            "overflow_x": null,
            "overflow_y": null,
            "padding": null,
            "right": null,
            "top": null,
            "visibility": null,
            "width": null
          }
        },
        "fc501fc0b7c94a34bc3da8af9f102557": {
          "model_module": "@jupyter-widgets/base",
          "model_name": "LayoutModel",
          "model_module_version": "1.2.0",
          "state": {
            "_model_module": "@jupyter-widgets/base",
            "_model_module_version": "1.2.0",
            "_model_name": "LayoutModel",
            "_view_count": null,
            "_view_module": "@jupyter-widgets/base",
            "_view_module_version": "1.2.0",
            "_view_name": "LayoutView",
            "align_content": null,
            "align_items": null,
            "align_self": null,
            "border": null,
            "bottom": null,
            "display": null,
            "flex": null,
            "flex_flow": null,
            "grid_area": null,
            "grid_auto_columns": null,
            "grid_auto_flow": null,
            "grid_auto_rows": null,
            "grid_column": null,
            "grid_gap": null,
            "grid_row": null,
            "grid_template_areas": null,
            "grid_template_columns": null,
            "grid_template_rows": null,
            "height": null,
            "justify_content": null,
            "justify_items": null,
            "left": null,
            "margin": null,
            "max_height": null,
            "max_width": null,
            "min_height": null,
            "min_width": null,
            "object_fit": null,
            "object_position": null,
            "order": null,
            "overflow": null,
            "overflow_x": null,
            "overflow_y": null,
            "padding": null,
            "right": null,
            "top": null,
            "visibility": null,
            "width": null
          }
        },
        "8acb9beb535c4b3c955f353fa5f13faf": {
          "model_module": "@jupyter-widgets/controls",
          "model_name": "DescriptionStyleModel",
          "model_module_version": "1.5.0",
          "state": {
            "_model_module": "@jupyter-widgets/controls",
            "_model_module_version": "1.5.0",
            "_model_name": "DescriptionStyleModel",
            "_view_count": null,
            "_view_module": "@jupyter-widgets/base",
            "_view_module_version": "1.2.0",
            "_view_name": "StyleView",
            "description_width": ""
          }
        },
        "3cc8450edd91438981bd7b0675fdefa9": {
          "model_module": "@jupyter-widgets/base",
          "model_name": "LayoutModel",
          "model_module_version": "1.2.0",
          "state": {
            "_model_module": "@jupyter-widgets/base",
            "_model_module_version": "1.2.0",
            "_model_name": "LayoutModel",
            "_view_count": null,
            "_view_module": "@jupyter-widgets/base",
            "_view_module_version": "1.2.0",
            "_view_name": "LayoutView",
            "align_content": null,
            "align_items": null,
            "align_self": null,
            "border": null,
            "bottom": null,
            "display": null,
            "flex": null,
            "flex_flow": null,
            "grid_area": null,
            "grid_auto_columns": null,
            "grid_auto_flow": null,
            "grid_auto_rows": null,
            "grid_column": null,
            "grid_gap": null,
            "grid_row": null,
            "grid_template_areas": null,
            "grid_template_columns": null,
            "grid_template_rows": null,
            "height": null,
            "justify_content": null,
            "justify_items": null,
            "left": null,
            "margin": null,
            "max_height": null,
            "max_width": null,
            "min_height": null,
            "min_width": null,
            "object_fit": null,
            "object_position": null,
            "order": null,
            "overflow": null,
            "overflow_x": null,
            "overflow_y": null,
            "padding": null,
            "right": null,
            "top": null,
            "visibility": null,
            "width": null
          }
        },
        "21c4cf2861094fdab319b7b5157c1525": {
          "model_module": "@jupyter-widgets/controls",
          "model_name": "ProgressStyleModel",
          "model_module_version": "1.5.0",
          "state": {
            "_model_module": "@jupyter-widgets/controls",
            "_model_module_version": "1.5.0",
            "_model_name": "ProgressStyleModel",
            "_view_count": null,
            "_view_module": "@jupyter-widgets/base",
            "_view_module_version": "1.2.0",
            "_view_name": "StyleView",
            "bar_color": null,
            "description_width": ""
          }
        },
        "24839ffc15df4330a00a980ba748eab7": {
          "model_module": "@jupyter-widgets/base",
          "model_name": "LayoutModel",
          "model_module_version": "1.2.0",
          "state": {
            "_model_module": "@jupyter-widgets/base",
            "_model_module_version": "1.2.0",
            "_model_name": "LayoutModel",
            "_view_count": null,
            "_view_module": "@jupyter-widgets/base",
            "_view_module_version": "1.2.0",
            "_view_name": "LayoutView",
            "align_content": null,
            "align_items": null,
            "align_self": null,
            "border": null,
            "bottom": null,
            "display": null,
            "flex": null,
            "flex_flow": null,
            "grid_area": null,
            "grid_auto_columns": null,
            "grid_auto_flow": null,
            "grid_auto_rows": null,
            "grid_column": null,
            "grid_gap": null,
            "grid_row": null,
            "grid_template_areas": null,
            "grid_template_columns": null,
            "grid_template_rows": null,
            "height": null,
            "justify_content": null,
            "justify_items": null,
            "left": null,
            "margin": null,
            "max_height": null,
            "max_width": null,
            "min_height": null,
            "min_width": null,
            "object_fit": null,
            "object_position": null,
            "order": null,
            "overflow": null,
            "overflow_x": null,
            "overflow_y": null,
            "padding": null,
            "right": null,
            "top": null,
            "visibility": null,
            "width": null
          }
        },
        "1d00538a0a7c411d8e0a789436fa66b8": {
          "model_module": "@jupyter-widgets/controls",
          "model_name": "DescriptionStyleModel",
          "model_module_version": "1.5.0",
          "state": {
            "_model_module": "@jupyter-widgets/controls",
            "_model_module_version": "1.5.0",
            "_model_name": "DescriptionStyleModel",
            "_view_count": null,
            "_view_module": "@jupyter-widgets/base",
            "_view_module_version": "1.2.0",
            "_view_name": "StyleView",
            "description_width": ""
          }
        },
        "d296b8ca974a4941bbbdf5591054d8dc": {
          "model_module": "@jupyter-widgets/controls",
          "model_name": "HBoxModel",
          "model_module_version": "1.5.0",
          "state": {
            "_dom_classes": [],
            "_model_module": "@jupyter-widgets/controls",
            "_model_module_version": "1.5.0",
            "_model_name": "HBoxModel",
            "_view_count": null,
            "_view_module": "@jupyter-widgets/controls",
            "_view_module_version": "1.5.0",
            "_view_name": "HBoxView",
            "box_style": "",
            "children": [
              "IPY_MODEL_a660b4da67ad409188058eeefe9461af",
              "IPY_MODEL_6d527b901ed64091848991a7bad482e3",
              "IPY_MODEL_c17c8b973aaa4fd3b0c0306471d91cbf"
            ],
            "layout": "IPY_MODEL_792e821fde3149e283e2d37e788125bc"
          }
        },
        "a660b4da67ad409188058eeefe9461af": {
          "model_module": "@jupyter-widgets/controls",
          "model_name": "HTMLModel",
          "model_module_version": "1.5.0",
          "state": {
            "_dom_classes": [],
            "_model_module": "@jupyter-widgets/controls",
            "_model_module_version": "1.5.0",
            "_model_name": "HTMLModel",
            "_view_count": null,
            "_view_module": "@jupyter-widgets/controls",
            "_view_module_version": "1.5.0",
            "_view_name": "HTMLView",
            "description": "",
            "description_tooltip": null,
            "layout": "IPY_MODEL_7aa98defd2e34b8582eeba351f218043",
            "placeholder": "​",
            "style": "IPY_MODEL_46353855be7242488ecef11dcb8fb9b8",
            "value": "Downloading (…)/main/tokenizer.json: 100%"
          }
        },
        "6d527b901ed64091848991a7bad482e3": {
          "model_module": "@jupyter-widgets/controls",
          "model_name": "FloatProgressModel",
          "model_module_version": "1.5.0",
          "state": {
            "_dom_classes": [],
            "_model_module": "@jupyter-widgets/controls",
            "_model_module_version": "1.5.0",
            "_model_name": "FloatProgressModel",
            "_view_count": null,
            "_view_module": "@jupyter-widgets/controls",
            "_view_module_version": "1.5.0",
            "_view_name": "ProgressView",
            "bar_style": "success",
            "description": "",
            "description_tooltip": null,
            "layout": "IPY_MODEL_ec02cf64e5054420b6c08468d6cd0a9b",
            "max": 1961828,
            "min": 0,
            "orientation": "horizontal",
            "style": "IPY_MODEL_3a875280a3b74a88ab58cfdccc2a711c",
            "value": 1961828
          }
        },
        "c17c8b973aaa4fd3b0c0306471d91cbf": {
          "model_module": "@jupyter-widgets/controls",
          "model_name": "HTMLModel",
          "model_module_version": "1.5.0",
          "state": {
            "_dom_classes": [],
            "_model_module": "@jupyter-widgets/controls",
            "_model_module_version": "1.5.0",
            "_model_name": "HTMLModel",
            "_view_count": null,
            "_view_module": "@jupyter-widgets/controls",
            "_view_module_version": "1.5.0",
            "_view_name": "HTMLView",
            "description": "",
            "description_tooltip": null,
            "layout": "IPY_MODEL_4dc7772e432848eabf975d76a4150dc0",
            "placeholder": "​",
            "style": "IPY_MODEL_e29c7aa740a4481ca8ad9e0caf06dc54",
            "value": " 1.96M/1.96M [00:01&lt;00:00, 1.82MB/s]"
          }
        },
        "792e821fde3149e283e2d37e788125bc": {
          "model_module": "@jupyter-widgets/base",
          "model_name": "LayoutModel",
          "model_module_version": "1.2.0",
          "state": {
            "_model_module": "@jupyter-widgets/base",
            "_model_module_version": "1.2.0",
            "_model_name": "LayoutModel",
            "_view_count": null,
            "_view_module": "@jupyter-widgets/base",
            "_view_module_version": "1.2.0",
            "_view_name": "LayoutView",
            "align_content": null,
            "align_items": null,
            "align_self": null,
            "border": null,
            "bottom": null,
            "display": null,
            "flex": null,
            "flex_flow": null,
            "grid_area": null,
            "grid_auto_columns": null,
            "grid_auto_flow": null,
            "grid_auto_rows": null,
            "grid_column": null,
            "grid_gap": null,
            "grid_row": null,
            "grid_template_areas": null,
            "grid_template_columns": null,
            "grid_template_rows": null,
            "height": null,
            "justify_content": null,
            "justify_items": null,
            "left": null,
            "margin": null,
            "max_height": null,
            "max_width": null,
            "min_height": null,
            "min_width": null,
            "object_fit": null,
            "object_position": null,
            "order": null,
            "overflow": null,
            "overflow_x": null,
            "overflow_y": null,
            "padding": null,
            "right": null,
            "top": null,
            "visibility": null,
            "width": null
          }
        },
        "7aa98defd2e34b8582eeba351f218043": {
          "model_module": "@jupyter-widgets/base",
          "model_name": "LayoutModel",
          "model_module_version": "1.2.0",
          "state": {
            "_model_module": "@jupyter-widgets/base",
            "_model_module_version": "1.2.0",
            "_model_name": "LayoutModel",
            "_view_count": null,
            "_view_module": "@jupyter-widgets/base",
            "_view_module_version": "1.2.0",
            "_view_name": "LayoutView",
            "align_content": null,
            "align_items": null,
            "align_self": null,
            "border": null,
            "bottom": null,
            "display": null,
            "flex": null,
            "flex_flow": null,
            "grid_area": null,
            "grid_auto_columns": null,
            "grid_auto_flow": null,
            "grid_auto_rows": null,
            "grid_column": null,
            "grid_gap": null,
            "grid_row": null,
            "grid_template_areas": null,
            "grid_template_columns": null,
            "grid_template_rows": null,
            "height": null,
            "justify_content": null,
            "justify_items": null,
            "left": null,
            "margin": null,
            "max_height": null,
            "max_width": null,
            "min_height": null,
            "min_width": null,
            "object_fit": null,
            "object_position": null,
            "order": null,
            "overflow": null,
            "overflow_x": null,
            "overflow_y": null,
            "padding": null,
            "right": null,
            "top": null,
            "visibility": null,
            "width": null
          }
        },
        "46353855be7242488ecef11dcb8fb9b8": {
          "model_module": "@jupyter-widgets/controls",
          "model_name": "DescriptionStyleModel",
          "model_module_version": "1.5.0",
          "state": {
            "_model_module": "@jupyter-widgets/controls",
            "_model_module_version": "1.5.0",
            "_model_name": "DescriptionStyleModel",
            "_view_count": null,
            "_view_module": "@jupyter-widgets/base",
            "_view_module_version": "1.2.0",
            "_view_name": "StyleView",
            "description_width": ""
          }
        },
        "ec02cf64e5054420b6c08468d6cd0a9b": {
          "model_module": "@jupyter-widgets/base",
          "model_name": "LayoutModel",
          "model_module_version": "1.2.0",
          "state": {
            "_model_module": "@jupyter-widgets/base",
            "_model_module_version": "1.2.0",
            "_model_name": "LayoutModel",
            "_view_count": null,
            "_view_module": "@jupyter-widgets/base",
            "_view_module_version": "1.2.0",
            "_view_name": "LayoutView",
            "align_content": null,
            "align_items": null,
            "align_self": null,
            "border": null,
            "bottom": null,
            "display": null,
            "flex": null,
            "flex_flow": null,
            "grid_area": null,
            "grid_auto_columns": null,
            "grid_auto_flow": null,
            "grid_auto_rows": null,
            "grid_column": null,
            "grid_gap": null,
            "grid_row": null,
            "grid_template_areas": null,
            "grid_template_columns": null,
            "grid_template_rows": null,
            "height": null,
            "justify_content": null,
            "justify_items": null,
            "left": null,
            "margin": null,
            "max_height": null,
            "max_width": null,
            "min_height": null,
            "min_width": null,
            "object_fit": null,
            "object_position": null,
            "order": null,
            "overflow": null,
            "overflow_x": null,
            "overflow_y": null,
            "padding": null,
            "right": null,
            "top": null,
            "visibility": null,
            "width": null
          }
        },
        "3a875280a3b74a88ab58cfdccc2a711c": {
          "model_module": "@jupyter-widgets/controls",
          "model_name": "ProgressStyleModel",
          "model_module_version": "1.5.0",
          "state": {
            "_model_module": "@jupyter-widgets/controls",
            "_model_module_version": "1.5.0",
            "_model_name": "ProgressStyleModel",
            "_view_count": null,
            "_view_module": "@jupyter-widgets/base",
            "_view_module_version": "1.2.0",
            "_view_name": "StyleView",
            "bar_color": null,
            "description_width": ""
          }
        },
        "4dc7772e432848eabf975d76a4150dc0": {
          "model_module": "@jupyter-widgets/base",
          "model_name": "LayoutModel",
          "model_module_version": "1.2.0",
          "state": {
            "_model_module": "@jupyter-widgets/base",
            "_model_module_version": "1.2.0",
            "_model_name": "LayoutModel",
            "_view_count": null,
            "_view_module": "@jupyter-widgets/base",
            "_view_module_version": "1.2.0",
            "_view_name": "LayoutView",
            "align_content": null,
            "align_items": null,
            "align_self": null,
            "border": null,
            "bottom": null,
            "display": null,
            "flex": null,
            "flex_flow": null,
            "grid_area": null,
            "grid_auto_columns": null,
            "grid_auto_flow": null,
            "grid_auto_rows": null,
            "grid_column": null,
            "grid_gap": null,
            "grid_row": null,
            "grid_template_areas": null,
            "grid_template_columns": null,
            "grid_template_rows": null,
            "height": null,
            "justify_content": null,
            "justify_items": null,
            "left": null,
            "margin": null,
            "max_height": null,
            "max_width": null,
            "min_height": null,
            "min_width": null,
            "object_fit": null,
            "object_position": null,
            "order": null,
            "overflow": null,
            "overflow_x": null,
            "overflow_y": null,
            "padding": null,
            "right": null,
            "top": null,
            "visibility": null,
            "width": null
          }
        },
        "e29c7aa740a4481ca8ad9e0caf06dc54": {
          "model_module": "@jupyter-widgets/controls",
          "model_name": "DescriptionStyleModel",
          "model_module_version": "1.5.0",
          "state": {
            "_model_module": "@jupyter-widgets/controls",
            "_model_module_version": "1.5.0",
            "_model_name": "DescriptionStyleModel",
            "_view_count": null,
            "_view_module": "@jupyter-widgets/base",
            "_view_module_version": "1.2.0",
            "_view_name": "StyleView",
            "description_width": ""
          }
        },
        "8bc4cb10133045c886bf33f03956c8f1": {
          "model_module": "@jupyter-widgets/controls",
          "model_name": "HBoxModel",
          "model_module_version": "1.5.0",
          "state": {
            "_dom_classes": [],
            "_model_module": "@jupyter-widgets/controls",
            "_model_module_version": "1.5.0",
            "_model_name": "HBoxModel",
            "_view_count": null,
            "_view_module": "@jupyter-widgets/controls",
            "_view_module_version": "1.5.0",
            "_view_name": "HBoxView",
            "box_style": "",
            "children": [
              "IPY_MODEL_65e29705b20d4880824633edca31578b",
              "IPY_MODEL_e0a2723b570343a4a3bd5b6566651c34",
              "IPY_MODEL_af22c1ea5e484c15b6697ff7051a1bf0"
            ],
            "layout": "IPY_MODEL_160b405092cd4e559caa80a6d9c3d09c"
          }
        },
        "65e29705b20d4880824633edca31578b": {
          "model_module": "@jupyter-widgets/controls",
          "model_name": "HTMLModel",
          "model_module_version": "1.5.0",
          "state": {
            "_dom_classes": [],
            "_model_module": "@jupyter-widgets/controls",
            "_model_module_version": "1.5.0",
            "_model_name": "HTMLModel",
            "_view_count": null,
            "_view_module": "@jupyter-widgets/controls",
            "_view_module_version": "1.5.0",
            "_view_name": "HTMLView",
            "description": "",
            "description_tooltip": null,
            "layout": "IPY_MODEL_1fc400601a9044e0860a5a4a81a37342",
            "placeholder": "​",
            "style": "IPY_MODEL_2eb8ce24c25145fb99ea8d4ca2e5aac7",
            "value": "Downloading model.safetensors: 100%"
          }
        },
        "e0a2723b570343a4a3bd5b6566651c34": {
          "model_module": "@jupyter-widgets/controls",
          "model_name": "FloatProgressModel",
          "model_module_version": "1.5.0",
          "state": {
            "_dom_classes": [],
            "_model_module": "@jupyter-widgets/controls",
            "_model_module_version": "1.5.0",
            "_model_name": "FloatProgressModel",
            "_view_count": null,
            "_view_module": "@jupyter-widgets/controls",
            "_view_module_version": "1.5.0",
            "_view_name": "ProgressView",
            "bar_style": "success",
            "description": "",
            "description_tooltip": null,
            "layout": "IPY_MODEL_bb0585a1f64c49c2855a800ec24eb565",
            "max": 714290682,
            "min": 0,
            "orientation": "horizontal",
            "style": "IPY_MODEL_caf858b79280437f809757ced4f34f13",
            "value": 714290682
          }
        },
        "af22c1ea5e484c15b6697ff7051a1bf0": {
          "model_module": "@jupyter-widgets/controls",
          "model_name": "HTMLModel",
          "model_module_version": "1.5.0",
          "state": {
            "_dom_classes": [],
            "_model_module": "@jupyter-widgets/controls",
            "_model_module_version": "1.5.0",
            "_model_name": "HTMLModel",
            "_view_count": null,
            "_view_module": "@jupyter-widgets/controls",
            "_view_module_version": "1.5.0",
            "_view_name": "HTMLView",
            "description": "",
            "description_tooltip": null,
            "layout": "IPY_MODEL_9a80d1931d114e349f9bf298b628613f",
            "placeholder": "​",
            "style": "IPY_MODEL_65230188f03d472f957a2017d233eb9c",
            "value": " 714M/714M [00:02&lt;00:00, 258MB/s]"
          }
        },
        "160b405092cd4e559caa80a6d9c3d09c": {
          "model_module": "@jupyter-widgets/base",
          "model_name": "LayoutModel",
          "model_module_version": "1.2.0",
          "state": {
            "_model_module": "@jupyter-widgets/base",
            "_model_module_version": "1.2.0",
            "_model_name": "LayoutModel",
            "_view_count": null,
            "_view_module": "@jupyter-widgets/base",
            "_view_module_version": "1.2.0",
            "_view_name": "LayoutView",
            "align_content": null,
            "align_items": null,
            "align_self": null,
            "border": null,
            "bottom": null,
            "display": null,
            "flex": null,
            "flex_flow": null,
            "grid_area": null,
            "grid_auto_columns": null,
            "grid_auto_flow": null,
            "grid_auto_rows": null,
            "grid_column": null,
            "grid_gap": null,
            "grid_row": null,
            "grid_template_areas": null,
            "grid_template_columns": null,
            "grid_template_rows": null,
            "height": null,
            "justify_content": null,
            "justify_items": null,
            "left": null,
            "margin": null,
            "max_height": null,
            "max_width": null,
            "min_height": null,
            "min_width": null,
            "object_fit": null,
            "object_position": null,
            "order": null,
            "overflow": null,
            "overflow_x": null,
            "overflow_y": null,
            "padding": null,
            "right": null,
            "top": null,
            "visibility": null,
            "width": null
          }
        },
        "1fc400601a9044e0860a5a4a81a37342": {
          "model_module": "@jupyter-widgets/base",
          "model_name": "LayoutModel",
          "model_module_version": "1.2.0",
          "state": {
            "_model_module": "@jupyter-widgets/base",
            "_model_module_version": "1.2.0",
            "_model_name": "LayoutModel",
            "_view_count": null,
            "_view_module": "@jupyter-widgets/base",
            "_view_module_version": "1.2.0",
            "_view_name": "LayoutView",
            "align_content": null,
            "align_items": null,
            "align_self": null,
            "border": null,
            "bottom": null,
            "display": null,
            "flex": null,
            "flex_flow": null,
            "grid_area": null,
            "grid_auto_columns": null,
            "grid_auto_flow": null,
            "grid_auto_rows": null,
            "grid_column": null,
            "grid_gap": null,
            "grid_row": null,
            "grid_template_areas": null,
            "grid_template_columns": null,
            "grid_template_rows": null,
            "height": null,
            "justify_content": null,
            "justify_items": null,
            "left": null,
            "margin": null,
            "max_height": null,
            "max_width": null,
            "min_height": null,
            "min_width": null,
            "object_fit": null,
            "object_position": null,
            "order": null,
            "overflow": null,
            "overflow_x": null,
            "overflow_y": null,
            "padding": null,
            "right": null,
            "top": null,
            "visibility": null,
            "width": null
          }
        },
        "2eb8ce24c25145fb99ea8d4ca2e5aac7": {
          "model_module": "@jupyter-widgets/controls",
          "model_name": "DescriptionStyleModel",
          "model_module_version": "1.5.0",
          "state": {
            "_model_module": "@jupyter-widgets/controls",
            "_model_module_version": "1.5.0",
            "_model_name": "DescriptionStyleModel",
            "_view_count": null,
            "_view_module": "@jupyter-widgets/base",
            "_view_module_version": "1.2.0",
            "_view_name": "StyleView",
            "description_width": ""
          }
        },
        "bb0585a1f64c49c2855a800ec24eb565": {
          "model_module": "@jupyter-widgets/base",
          "model_name": "LayoutModel",
          "model_module_version": "1.2.0",
          "state": {
            "_model_module": "@jupyter-widgets/base",
            "_model_module_version": "1.2.0",
            "_model_name": "LayoutModel",
            "_view_count": null,
            "_view_module": "@jupyter-widgets/base",
            "_view_module_version": "1.2.0",
            "_view_name": "LayoutView",
            "align_content": null,
            "align_items": null,
            "align_self": null,
            "border": null,
            "bottom": null,
            "display": null,
            "flex": null,
            "flex_flow": null,
            "grid_area": null,
            "grid_auto_columns": null,
            "grid_auto_flow": null,
            "grid_auto_rows": null,
            "grid_column": null,
            "grid_gap": null,
            "grid_row": null,
            "grid_template_areas": null,
            "grid_template_columns": null,
            "grid_template_rows": null,
            "height": null,
            "justify_content": null,
            "justify_items": null,
            "left": null,
            "margin": null,
            "max_height": null,
            "max_width": null,
            "min_height": null,
            "min_width": null,
            "object_fit": null,
            "object_position": null,
            "order": null,
            "overflow": null,
            "overflow_x": null,
            "overflow_y": null,
            "padding": null,
            "right": null,
            "top": null,
            "visibility": null,
            "width": null
          }
        },
        "caf858b79280437f809757ced4f34f13": {
          "model_module": "@jupyter-widgets/controls",
          "model_name": "ProgressStyleModel",
          "model_module_version": "1.5.0",
          "state": {
            "_model_module": "@jupyter-widgets/controls",
            "_model_module_version": "1.5.0",
            "_model_name": "ProgressStyleModel",
            "_view_count": null,
            "_view_module": "@jupyter-widgets/base",
            "_view_module_version": "1.2.0",
            "_view_name": "StyleView",
            "bar_color": null,
            "description_width": ""
          }
        },
        "9a80d1931d114e349f9bf298b628613f": {
          "model_module": "@jupyter-widgets/base",
          "model_name": "LayoutModel",
          "model_module_version": "1.2.0",
          "state": {
            "_model_module": "@jupyter-widgets/base",
            "_model_module_version": "1.2.0",
            "_model_name": "LayoutModel",
            "_view_count": null,
            "_view_module": "@jupyter-widgets/base",
            "_view_module_version": "1.2.0",
            "_view_name": "LayoutView",
            "align_content": null,
            "align_items": null,
            "align_self": null,
            "border": null,
            "bottom": null,
            "display": null,
            "flex": null,
            "flex_flow": null,
            "grid_area": null,
            "grid_auto_columns": null,
            "grid_auto_flow": null,
            "grid_auto_rows": null,
            "grid_column": null,
            "grid_gap": null,
            "grid_row": null,
            "grid_template_areas": null,
            "grid_template_columns": null,
            "grid_template_rows": null,
            "height": null,
            "justify_content": null,
            "justify_items": null,
            "left": null,
            "margin": null,
            "max_height": null,
            "max_width": null,
            "min_height": null,
            "min_width": null,
            "object_fit": null,
            "object_position": null,
            "order": null,
            "overflow": null,
            "overflow_x": null,
            "overflow_y": null,
            "padding": null,
            "right": null,
            "top": null,
            "visibility": null,
            "width": null
          }
        },
        "65230188f03d472f957a2017d233eb9c": {
          "model_module": "@jupyter-widgets/controls",
          "model_name": "DescriptionStyleModel",
          "model_module_version": "1.5.0",
          "state": {
            "_model_module": "@jupyter-widgets/controls",
            "_model_module_version": "1.5.0",
            "_model_name": "DescriptionStyleModel",
            "_view_count": null,
            "_view_module": "@jupyter-widgets/base",
            "_view_module_version": "1.2.0",
            "_view_name": "StyleView",
            "description_width": ""
          }
        }
      }
    }
  },
  "cells": [
    {
      "cell_type": "markdown",
      "metadata": {
        "id": "elqe9PQrVH6P"
      },
      "source": [
        "### Performing checks for the resources available"
      ]
    },
    {
      "cell_type": "code",
      "metadata": {
        "colab": {
          "base_uri": "https://localhost:8080/"
        },
        "id": "fSELLChxa5su",
        "outputId": "2a3c34b1-131e-4216-d432-d346978c647c"
      },
      "source": [
        "import torch\n",
        "\n",
        "# If there's a GPU available...\n",
        "if torch.cuda.is_available():\n",
        "\n",
        "    # Tell PyTorch to use the GPU.\n",
        "    device = torch.device(\"cuda\")\n",
        "\n",
        "    print('There are %d GPU(s) available.' % torch.cuda.device_count())\n",
        "\n",
        "    print('We will use the GPU:', torch.cuda.get_device_name(0))\n",
        "\n",
        "# If not...\n",
        "else:\n",
        "    print('No GPU available, using the CPU instead.')\n",
        "    device = torch.device(\"cpu\")"
      ],
      "execution_count": 145,
      "outputs": [
        {
          "output_type": "stream",
          "name": "stdout",
          "text": [
            "There are 1 GPU(s) available.\n",
            "We will use the GPU: Tesla T4\n"
          ]
        }
      ]
    },
    {
      "cell_type": "markdown",
      "metadata": {
        "id": "K-gbOgflVRxg"
      },
      "source": [
        "### Installing huggingface transformers library"
      ]
    },
    {
      "cell_type": "code",
      "metadata": {
        "colab": {
          "base_uri": "https://localhost:8080/"
        },
        "id": "DbDuxKy0a9Zl",
        "outputId": "da789243-0d71-41a6-b05a-5d1b73abafe3"
      },
      "source": [
        "!pip install transformers"
      ],
      "execution_count": 146,
      "outputs": [
        {
          "output_type": "stream",
          "name": "stdout",
          "text": [
            "Requirement already satisfied: transformers in /usr/local/lib/python3.10/dist-packages (4.30.2)\n",
            "Requirement already satisfied: filelock in /usr/local/lib/python3.10/dist-packages (from transformers) (3.12.2)\n",
            "Requirement already satisfied: huggingface-hub<1.0,>=0.14.1 in /usr/local/lib/python3.10/dist-packages (from transformers) (0.16.4)\n",
            "Requirement already satisfied: numpy>=1.17 in /usr/local/lib/python3.10/dist-packages (from transformers) (1.22.4)\n",
            "Requirement already satisfied: packaging>=20.0 in /usr/local/lib/python3.10/dist-packages (from transformers) (23.1)\n",
            "Requirement already satisfied: pyyaml>=5.1 in /usr/local/lib/python3.10/dist-packages (from transformers) (6.0)\n",
            "Requirement already satisfied: regex!=2019.12.17 in /usr/local/lib/python3.10/dist-packages (from transformers) (2022.10.31)\n",
            "Requirement already satisfied: requests in /usr/local/lib/python3.10/dist-packages (from transformers) (2.27.1)\n",
            "Requirement already satisfied: tokenizers!=0.11.3,<0.14,>=0.11.1 in /usr/local/lib/python3.10/dist-packages (from transformers) (0.13.3)\n",
            "Requirement already satisfied: safetensors>=0.3.1 in /usr/local/lib/python3.10/dist-packages (from transformers) (0.3.1)\n",
            "Requirement already satisfied: tqdm>=4.27 in /usr/local/lib/python3.10/dist-packages (from transformers) (4.65.0)\n",
            "Requirement already satisfied: fsspec in /usr/local/lib/python3.10/dist-packages (from huggingface-hub<1.0,>=0.14.1->transformers) (2023.6.0)\n",
            "Requirement already satisfied: typing-extensions>=3.7.4.3 in /usr/local/lib/python3.10/dist-packages (from huggingface-hub<1.0,>=0.14.1->transformers) (4.7.1)\n",
            "Requirement already satisfied: urllib3<1.27,>=1.21.1 in /usr/local/lib/python3.10/dist-packages (from requests->transformers) (1.26.16)\n",
            "Requirement already satisfied: certifi>=2017.4.17 in /usr/local/lib/python3.10/dist-packages (from requests->transformers) (2023.5.7)\n",
            "Requirement already satisfied: charset-normalizer~=2.0.0 in /usr/local/lib/python3.10/dist-packages (from requests->transformers) (2.0.12)\n",
            "Requirement already satisfied: idna<4,>=2.5 in /usr/local/lib/python3.10/dist-packages (from requests->transformers) (3.4)\n"
          ]
        }
      ]
    },
    {
      "cell_type": "markdown",
      "metadata": {
        "id": "bPwaYLiRSNPC"
      },
      "source": [
        "## Importing necessary packages"
      ]
    },
    {
      "cell_type": "code",
      "metadata": {
        "id": "0XdFrhr8SRG0"
      },
      "source": [
        "import pandas as pd\n",
        "import numpy as np\n",
        "import random\n",
        "from sklearn.preprocessing import LabelEncoder\n",
        "from sklearn.utils.class_weight import compute_class_weight\n",
        "import time\n",
        "import datetime\n",
        "from sklearn.metrics import classification_report,confusion_matrix\n",
        "import random\n",
        "import time\n",
        "import torch.nn as nn\n",
        "from transformers import AutoModel , AutoModelForSequenceClassification, AutoConfig , AutoTokenizer , AdamW ,get_linear_schedule_with_warmup\n",
        "import torch\n",
        "import matplotlib.pyplot as plt\n",
        "import seaborn as sns\n",
        "from matplotlib import rc\n",
        "from matplotlib.ticker import MaxNLocator"
      ],
      "execution_count": 147,
      "outputs": []
    },
    {
      "cell_type": "markdown",
      "metadata": {
        "id": "dROX3juhVCxC"
      },
      "source": [
        "## Setting some configuration values"
      ]
    },
    {
      "cell_type": "code",
      "metadata": {
        "id": "Kzafv4BzVCC9"
      },
      "source": [
        "# Use plot styling from seaborn.\n",
        "sns.set(style='darkgrid')\n",
        "\n",
        "# Increase the plot size and font size.\n",
        "sns.set(font_scale=1.5)\n",
        "plt.rcParams[\"figure.figsize\"] = (16,12)\n",
        "\n",
        "# Set the seed value all over the place to make this reproducible.\n",
        "seed_val = 42\n",
        "\n",
        "random.seed(seed_val)\n",
        "np.random.seed(seed_val)\n",
        "torch.manual_seed(seed_val)\n",
        "torch.cuda.manual_seed_all(seed_val)"
      ],
      "execution_count": 148,
      "outputs": []
    },
    {
      "cell_type": "markdown",
      "metadata": {
        "id": "2v1AIN_OVX4t"
      },
      "source": [
        "## Importing drive into the colaboratory"
      ]
    },
    {
      "cell_type": "code",
      "metadata": {
        "colab": {
          "base_uri": "https://localhost:8080/"
        },
        "id": "Lofimyh2a_tp",
        "outputId": "87d00ef9-6a4d-43a8-8604-9029931118f7"
      },
      "source": [
        "from google.colab import drive\n",
        "drive.mount('/content/drive')"
      ],
      "execution_count": 149,
      "outputs": [
        {
          "output_type": "stream",
          "name": "stdout",
          "text": [
            "Drive already mounted at /content/drive; to attempt to forcibly remount, call drive.mount(\"/content/drive\", force_remount=True).\n"
          ]
        }
      ]
    },
    {
      "cell_type": "markdown",
      "metadata": {
        "id": "FUPkZxjLVjLK"
      },
      "source": [
        "## Loading training data"
      ]
    },
    {
      "cell_type": "code",
      "metadata": {
        "colab": {
          "base_uri": "https://localhost:8080/",
          "height": 397
        },
        "id": "joone3H4bINR",
        "outputId": "9f419773-d0b7-452c-f109-115a02cd3551"
      },
      "source": [
        "\n",
        "train_df = pd.read_csv('/content/drive/MyDrive/Colab Notebooks/ariful/train_data (3).csv')\n",
        "\n",
        "# Report the number of sentences.\n",
        "print('Number of training sentences: {:,}\\n'.format(train_df.shape[0]))\n",
        "\n",
        "# Display 10 random rows from the data.\n",
        "train_df.sample(10)"
      ],
      "execution_count": 150,
      "outputs": [
        {
          "output_type": "stream",
          "name": "stdout",
          "text": [
            "Number of training sentences: 6,602\n",
            "\n"
          ]
        },
        {
          "output_type": "execute_result",
          "data": {
            "text/plain": [
              "        PID                                               text    labels\n",
              "4256   1450  একটি দৃশ্য সঙ্গে খাদ্য। একটি কোণ ঘুরাঘুরি এর জ...  positive\n",
              "3167    461  গ্রেট খাদ্য, বিশেষভাবে JadurKathi.com দেশী(Lol...  positive\n",
              "5424   6036  আমি তাদের মেগা প্লেটার যা ভ্যাট এবং সার্ভিস চা...  negative\n",
              "4019   9907  একটি উচ্চ প্রাইস.Nothing সঙ্গে খুব খারাপ সেবা ...  negative\n",
              "683    5901  নিম্ন মানের খাদ্য। BBQ মুরগির খারাপ গন্ধ .. ইয়...  negative\n",
              "2899   3076  onkkk mojar kabar Gulo & ফোঁপানোর kceu onkkkk ...  positive\n",
              "2464   2913  এই রেস্তোরাঁর আমন্ত্রিত সব বন্ধু ভাই ও বোনেরা ...  positive\n",
              "5436   6151  তুমি তোমার খাদ্য উন্নতি প্রয়োজন। চিকেন পিজা স...  negative\n",
              "3787  10421  গড় খাবারের গুণমান তবে তাদের পরিষেবার মানটি এত...   neutral\n",
              "1195   4587  এই রেস্তোরায় কফি টানা বেশ কয়েক ঘন্টা কাজ করা...  positive"
            ],
            "text/html": [
              "\n",
              "\n",
              "  <div id=\"df-1540be71-ffe1-4ddf-9a65-5bdb568cab5c\">\n",
              "    <div class=\"colab-df-container\">\n",
              "      <div>\n",
              "<style scoped>\n",
              "    .dataframe tbody tr th:only-of-type {\n",
              "        vertical-align: middle;\n",
              "    }\n",
              "\n",
              "    .dataframe tbody tr th {\n",
              "        vertical-align: top;\n",
              "    }\n",
              "\n",
              "    .dataframe thead th {\n",
              "        text-align: right;\n",
              "    }\n",
              "</style>\n",
              "<table border=\"1\" class=\"dataframe\">\n",
              "  <thead>\n",
              "    <tr style=\"text-align: right;\">\n",
              "      <th></th>\n",
              "      <th>PID</th>\n",
              "      <th>text</th>\n",
              "      <th>labels</th>\n",
              "    </tr>\n",
              "  </thead>\n",
              "  <tbody>\n",
              "    <tr>\n",
              "      <th>4256</th>\n",
              "      <td>1450</td>\n",
              "      <td>একটি দৃশ্য সঙ্গে খাদ্য। একটি কোণ ঘুরাঘুরি এর জ...</td>\n",
              "      <td>positive</td>\n",
              "    </tr>\n",
              "    <tr>\n",
              "      <th>3167</th>\n",
              "      <td>461</td>\n",
              "      <td>গ্রেট খাদ্য, বিশেষভাবে JadurKathi.com দেশী(Lol...</td>\n",
              "      <td>positive</td>\n",
              "    </tr>\n",
              "    <tr>\n",
              "      <th>5424</th>\n",
              "      <td>6036</td>\n",
              "      <td>আমি তাদের মেগা প্লেটার যা ভ্যাট এবং সার্ভিস চা...</td>\n",
              "      <td>negative</td>\n",
              "    </tr>\n",
              "    <tr>\n",
              "      <th>4019</th>\n",
              "      <td>9907</td>\n",
              "      <td>একটি উচ্চ প্রাইস.Nothing সঙ্গে খুব খারাপ সেবা ...</td>\n",
              "      <td>negative</td>\n",
              "    </tr>\n",
              "    <tr>\n",
              "      <th>683</th>\n",
              "      <td>5901</td>\n",
              "      <td>নিম্ন মানের খাদ্য। BBQ মুরগির খারাপ গন্ধ .. ইয়...</td>\n",
              "      <td>negative</td>\n",
              "    </tr>\n",
              "    <tr>\n",
              "      <th>2899</th>\n",
              "      <td>3076</td>\n",
              "      <td>onkkk mojar kabar Gulo &amp; ফোঁপানোর kceu onkkkk ...</td>\n",
              "      <td>positive</td>\n",
              "    </tr>\n",
              "    <tr>\n",
              "      <th>2464</th>\n",
              "      <td>2913</td>\n",
              "      <td>এই রেস্তোরাঁর আমন্ত্রিত সব বন্ধু ভাই ও বোনেরা ...</td>\n",
              "      <td>positive</td>\n",
              "    </tr>\n",
              "    <tr>\n",
              "      <th>5436</th>\n",
              "      <td>6151</td>\n",
              "      <td>তুমি তোমার খাদ্য উন্নতি প্রয়োজন। চিকেন পিজা স...</td>\n",
              "      <td>negative</td>\n",
              "    </tr>\n",
              "    <tr>\n",
              "      <th>3787</th>\n",
              "      <td>10421</td>\n",
              "      <td>গড় খাবারের গুণমান তবে তাদের পরিষেবার মানটি এত...</td>\n",
              "      <td>neutral</td>\n",
              "    </tr>\n",
              "    <tr>\n",
              "      <th>1195</th>\n",
              "      <td>4587</td>\n",
              "      <td>এই রেস্তোরায় কফি টানা বেশ কয়েক ঘন্টা কাজ করা...</td>\n",
              "      <td>positive</td>\n",
              "    </tr>\n",
              "  </tbody>\n",
              "</table>\n",
              "</div>\n",
              "      <button class=\"colab-df-convert\" onclick=\"convertToInteractive('df-1540be71-ffe1-4ddf-9a65-5bdb568cab5c')\"\n",
              "              title=\"Convert this dataframe to an interactive table.\"\n",
              "              style=\"display:none;\">\n",
              "\n",
              "  <svg xmlns=\"http://www.w3.org/2000/svg\" height=\"24px\"viewBox=\"0 0 24 24\"\n",
              "       width=\"24px\">\n",
              "    <path d=\"M0 0h24v24H0V0z\" fill=\"none\"/>\n",
              "    <path d=\"M18.56 5.44l.94 2.06.94-2.06 2.06-.94-2.06-.94-.94-2.06-.94 2.06-2.06.94zm-11 1L8.5 8.5l.94-2.06 2.06-.94-2.06-.94L8.5 2.5l-.94 2.06-2.06.94zm10 10l.94 2.06.94-2.06 2.06-.94-2.06-.94-.94-2.06-.94 2.06-2.06.94z\"/><path d=\"M17.41 7.96l-1.37-1.37c-.4-.4-.92-.59-1.43-.59-.52 0-1.04.2-1.43.59L10.3 9.45l-7.72 7.72c-.78.78-.78 2.05 0 2.83L4 21.41c.39.39.9.59 1.41.59.51 0 1.02-.2 1.41-.59l7.78-7.78 2.81-2.81c.8-.78.8-2.07 0-2.86zM5.41 20L4 18.59l7.72-7.72 1.47 1.35L5.41 20z\"/>\n",
              "  </svg>\n",
              "      </button>\n",
              "\n",
              "\n",
              "\n",
              "    <div id=\"df-2709ea18-0355-42cc-b16c-075f2c27f1f5\">\n",
              "      <button class=\"colab-df-quickchart\" onclick=\"quickchart('df-2709ea18-0355-42cc-b16c-075f2c27f1f5')\"\n",
              "              title=\"Suggest charts.\"\n",
              "              style=\"display:none;\">\n",
              "\n",
              "<svg xmlns=\"http://www.w3.org/2000/svg\" height=\"24px\"viewBox=\"0 0 24 24\"\n",
              "     width=\"24px\">\n",
              "    <g>\n",
              "        <path d=\"M19 3H5c-1.1 0-2 .9-2 2v14c0 1.1.9 2 2 2h14c1.1 0 2-.9 2-2V5c0-1.1-.9-2-2-2zM9 17H7v-7h2v7zm4 0h-2V7h2v10zm4 0h-2v-4h2v4z\"/>\n",
              "    </g>\n",
              "</svg>\n",
              "      </button>\n",
              "    </div>\n",
              "\n",
              "<style>\n",
              "  .colab-df-quickchart {\n",
              "    background-color: #E8F0FE;\n",
              "    border: none;\n",
              "    border-radius: 50%;\n",
              "    cursor: pointer;\n",
              "    display: none;\n",
              "    fill: #1967D2;\n",
              "    height: 32px;\n",
              "    padding: 0 0 0 0;\n",
              "    width: 32px;\n",
              "  }\n",
              "\n",
              "  .colab-df-quickchart:hover {\n",
              "    background-color: #E2EBFA;\n",
              "    box-shadow: 0px 1px 2px rgba(60, 64, 67, 0.3), 0px 1px 3px 1px rgba(60, 64, 67, 0.15);\n",
              "    fill: #174EA6;\n",
              "  }\n",
              "\n",
              "  [theme=dark] .colab-df-quickchart {\n",
              "    background-color: #3B4455;\n",
              "    fill: #D2E3FC;\n",
              "  }\n",
              "\n",
              "  [theme=dark] .colab-df-quickchart:hover {\n",
              "    background-color: #434B5C;\n",
              "    box-shadow: 0px 1px 3px 1px rgba(0, 0, 0, 0.15);\n",
              "    filter: drop-shadow(0px 1px 2px rgba(0, 0, 0, 0.3));\n",
              "    fill: #FFFFFF;\n",
              "  }\n",
              "</style>\n",
              "\n",
              "    <script>\n",
              "      async function quickchart(key) {\n",
              "        const containerElement = document.querySelector('#' + key);\n",
              "        const charts = await google.colab.kernel.invokeFunction(\n",
              "            'suggestCharts', [key], {});\n",
              "      }\n",
              "    </script>\n",
              "\n",
              "      <script>\n",
              "\n",
              "function displayQuickchartButton(domScope) {\n",
              "  let quickchartButtonEl =\n",
              "    domScope.querySelector('#df-2709ea18-0355-42cc-b16c-075f2c27f1f5 button.colab-df-quickchart');\n",
              "  quickchartButtonEl.style.display =\n",
              "    google.colab.kernel.accessAllowed ? 'block' : 'none';\n",
              "}\n",
              "\n",
              "        displayQuickchartButton(document);\n",
              "      </script>\n",
              "      <style>\n",
              "    .colab-df-container {\n",
              "      display:flex;\n",
              "      flex-wrap:wrap;\n",
              "      gap: 12px;\n",
              "    }\n",
              "\n",
              "    .colab-df-convert {\n",
              "      background-color: #E8F0FE;\n",
              "      border: none;\n",
              "      border-radius: 50%;\n",
              "      cursor: pointer;\n",
              "      display: none;\n",
              "      fill: #1967D2;\n",
              "      height: 32px;\n",
              "      padding: 0 0 0 0;\n",
              "      width: 32px;\n",
              "    }\n",
              "\n",
              "    .colab-df-convert:hover {\n",
              "      background-color: #E2EBFA;\n",
              "      box-shadow: 0px 1px 2px rgba(60, 64, 67, 0.3), 0px 1px 3px 1px rgba(60, 64, 67, 0.15);\n",
              "      fill: #174EA6;\n",
              "    }\n",
              "\n",
              "    [theme=dark] .colab-df-convert {\n",
              "      background-color: #3B4455;\n",
              "      fill: #D2E3FC;\n",
              "    }\n",
              "\n",
              "    [theme=dark] .colab-df-convert:hover {\n",
              "      background-color: #434B5C;\n",
              "      box-shadow: 0px 1px 3px 1px rgba(0, 0, 0, 0.15);\n",
              "      filter: drop-shadow(0px 1px 2px rgba(0, 0, 0, 0.3));\n",
              "      fill: #FFFFFF;\n",
              "    }\n",
              "  </style>\n",
              "\n",
              "      <script>\n",
              "        const buttonEl =\n",
              "          document.querySelector('#df-1540be71-ffe1-4ddf-9a65-5bdb568cab5c button.colab-df-convert');\n",
              "        buttonEl.style.display =\n",
              "          google.colab.kernel.accessAllowed ? 'block' : 'none';\n",
              "\n",
              "        async function convertToInteractive(key) {\n",
              "          const element = document.querySelector('#df-1540be71-ffe1-4ddf-9a65-5bdb568cab5c');\n",
              "          const dataTable =\n",
              "            await google.colab.kernel.invokeFunction('convertToInteractive',\n",
              "                                                     [key], {});\n",
              "          if (!dataTable) return;\n",
              "\n",
              "          const docLinkHtml = 'Like what you see? Visit the ' +\n",
              "            '<a target=\"_blank\" href=https://colab.research.google.com/notebooks/data_table.ipynb>data table notebook</a>'\n",
              "            + ' to learn more about interactive tables.';\n",
              "          element.innerHTML = '';\n",
              "          dataTable['output_type'] = 'display_data';\n",
              "          await google.colab.output.renderOutput(dataTable, element);\n",
              "          const docLink = document.createElement('div');\n",
              "          docLink.innerHTML = docLinkHtml;\n",
              "          element.appendChild(docLink);\n",
              "        }\n",
              "      </script>\n",
              "    </div>\n",
              "  </div>\n"
            ]
          },
          "metadata": {},
          "execution_count": 150
        }
      ]
    },
    {
      "cell_type": "code",
      "source": [
        "train_df"
      ],
      "metadata": {
        "colab": {
          "base_uri": "https://localhost:8080/",
          "height": 423
        },
        "id": "GNakCSLC7cIb",
        "outputId": "b0eaa292-92d9-46d7-8844-cb402786ccc9"
      },
      "execution_count": 151,
      "outputs": [
        {
          "output_type": "execute_result",
          "data": {
            "text/plain": [
              "        PID                                               text    labels\n",
              "0      3143                      আমি সব খাদ্য শহুরে চামচ পছন্দ  positive\n",
              "1      5010  আমি সত্যিই বিশ্বাস না হয় যে বিস্ফোরক ডায়রিয়...  positive\n",
              "2      3206  আমার প্রিয় এক স্থান এটা। সেবা ভাল & চমৎকার স্...  positive\n",
              "3      9985  খাবার ভাল ছিল, কিন্তু সেহরি সময় সেবা খারাপ। আ...  negative\n",
              "4     10539  অসাধারণ ভাল খাবার ... পরিবেশ: 10/10 আচরণ: 9/10...   neutral\n",
              "...     ...                                                ...       ...\n",
              "6597   5735  জট্টিল স্বাদ। খুব ভালো কর্মচারী বন্ধুত্বপূর্ণ ...  negative\n",
              "6598   5192  চিফ কাসিনে এর সাথে তুলনা করলে বুর্গের এর সাইজও...  positive\n",
              "6599   5391               জ্যামাইকান ফ্রাই প্লেটার সত্যিই ভাল।  positive\n",
              "6600    861  শ্রেষ্ঠ JadurKathi.com বাংলাদেশের ধান ও বাংলাদ...  positive\n",
              "6601   7271  জেরি এর ... ইসস! আমি তোমাকে পছন্দ করি আমরা একে...  negative\n",
              "\n",
              "[6602 rows x 3 columns]"
            ],
            "text/html": [
              "\n",
              "\n",
              "  <div id=\"df-a54d4d39-b193-4621-a267-e48dc64fefad\">\n",
              "    <div class=\"colab-df-container\">\n",
              "      <div>\n",
              "<style scoped>\n",
              "    .dataframe tbody tr th:only-of-type {\n",
              "        vertical-align: middle;\n",
              "    }\n",
              "\n",
              "    .dataframe tbody tr th {\n",
              "        vertical-align: top;\n",
              "    }\n",
              "\n",
              "    .dataframe thead th {\n",
              "        text-align: right;\n",
              "    }\n",
              "</style>\n",
              "<table border=\"1\" class=\"dataframe\">\n",
              "  <thead>\n",
              "    <tr style=\"text-align: right;\">\n",
              "      <th></th>\n",
              "      <th>PID</th>\n",
              "      <th>text</th>\n",
              "      <th>labels</th>\n",
              "    </tr>\n",
              "  </thead>\n",
              "  <tbody>\n",
              "    <tr>\n",
              "      <th>0</th>\n",
              "      <td>3143</td>\n",
              "      <td>আমি সব খাদ্য শহুরে চামচ পছন্দ</td>\n",
              "      <td>positive</td>\n",
              "    </tr>\n",
              "    <tr>\n",
              "      <th>1</th>\n",
              "      <td>5010</td>\n",
              "      <td>আমি সত্যিই বিশ্বাস না হয় যে বিস্ফোরক ডায়রিয়...</td>\n",
              "      <td>positive</td>\n",
              "    </tr>\n",
              "    <tr>\n",
              "      <th>2</th>\n",
              "      <td>3206</td>\n",
              "      <td>আমার প্রিয় এক স্থান এটা। সেবা ভাল &amp; চমৎকার স্...</td>\n",
              "      <td>positive</td>\n",
              "    </tr>\n",
              "    <tr>\n",
              "      <th>3</th>\n",
              "      <td>9985</td>\n",
              "      <td>খাবার ভাল ছিল, কিন্তু সেহরি সময় সেবা খারাপ। আ...</td>\n",
              "      <td>negative</td>\n",
              "    </tr>\n",
              "    <tr>\n",
              "      <th>4</th>\n",
              "      <td>10539</td>\n",
              "      <td>অসাধারণ ভাল খাবার ... পরিবেশ: 10/10 আচরণ: 9/10...</td>\n",
              "      <td>neutral</td>\n",
              "    </tr>\n",
              "    <tr>\n",
              "      <th>...</th>\n",
              "      <td>...</td>\n",
              "      <td>...</td>\n",
              "      <td>...</td>\n",
              "    </tr>\n",
              "    <tr>\n",
              "      <th>6597</th>\n",
              "      <td>5735</td>\n",
              "      <td>জট্টিল স্বাদ। খুব ভালো কর্মচারী বন্ধুত্বপূর্ণ ...</td>\n",
              "      <td>negative</td>\n",
              "    </tr>\n",
              "    <tr>\n",
              "      <th>6598</th>\n",
              "      <td>5192</td>\n",
              "      <td>চিফ কাসিনে এর সাথে তুলনা করলে বুর্গের এর সাইজও...</td>\n",
              "      <td>positive</td>\n",
              "    </tr>\n",
              "    <tr>\n",
              "      <th>6599</th>\n",
              "      <td>5391</td>\n",
              "      <td>জ্যামাইকান ফ্রাই প্লেটার সত্যিই ভাল।</td>\n",
              "      <td>positive</td>\n",
              "    </tr>\n",
              "    <tr>\n",
              "      <th>6600</th>\n",
              "      <td>861</td>\n",
              "      <td>শ্রেষ্ঠ JadurKathi.com বাংলাদেশের ধান ও বাংলাদ...</td>\n",
              "      <td>positive</td>\n",
              "    </tr>\n",
              "    <tr>\n",
              "      <th>6601</th>\n",
              "      <td>7271</td>\n",
              "      <td>জেরি এর ... ইসস! আমি তোমাকে পছন্দ করি আমরা একে...</td>\n",
              "      <td>negative</td>\n",
              "    </tr>\n",
              "  </tbody>\n",
              "</table>\n",
              "<p>6602 rows × 3 columns</p>\n",
              "</div>\n",
              "      <button class=\"colab-df-convert\" onclick=\"convertToInteractive('df-a54d4d39-b193-4621-a267-e48dc64fefad')\"\n",
              "              title=\"Convert this dataframe to an interactive table.\"\n",
              "              style=\"display:none;\">\n",
              "\n",
              "  <svg xmlns=\"http://www.w3.org/2000/svg\" height=\"24px\"viewBox=\"0 0 24 24\"\n",
              "       width=\"24px\">\n",
              "    <path d=\"M0 0h24v24H0V0z\" fill=\"none\"/>\n",
              "    <path d=\"M18.56 5.44l.94 2.06.94-2.06 2.06-.94-2.06-.94-.94-2.06-.94 2.06-2.06.94zm-11 1L8.5 8.5l.94-2.06 2.06-.94-2.06-.94L8.5 2.5l-.94 2.06-2.06.94zm10 10l.94 2.06.94-2.06 2.06-.94-2.06-.94-.94-2.06-.94 2.06-2.06.94z\"/><path d=\"M17.41 7.96l-1.37-1.37c-.4-.4-.92-.59-1.43-.59-.52 0-1.04.2-1.43.59L10.3 9.45l-7.72 7.72c-.78.78-.78 2.05 0 2.83L4 21.41c.39.39.9.59 1.41.59.51 0 1.02-.2 1.41-.59l7.78-7.78 2.81-2.81c.8-.78.8-2.07 0-2.86zM5.41 20L4 18.59l7.72-7.72 1.47 1.35L5.41 20z\"/>\n",
              "  </svg>\n",
              "      </button>\n",
              "\n",
              "\n",
              "\n",
              "    <div id=\"df-0fd734e1-7848-4ec5-b682-808f7ee31f24\">\n",
              "      <button class=\"colab-df-quickchart\" onclick=\"quickchart('df-0fd734e1-7848-4ec5-b682-808f7ee31f24')\"\n",
              "              title=\"Suggest charts.\"\n",
              "              style=\"display:none;\">\n",
              "\n",
              "<svg xmlns=\"http://www.w3.org/2000/svg\" height=\"24px\"viewBox=\"0 0 24 24\"\n",
              "     width=\"24px\">\n",
              "    <g>\n",
              "        <path d=\"M19 3H5c-1.1 0-2 .9-2 2v14c0 1.1.9 2 2 2h14c1.1 0 2-.9 2-2V5c0-1.1-.9-2-2-2zM9 17H7v-7h2v7zm4 0h-2V7h2v10zm4 0h-2v-4h2v4z\"/>\n",
              "    </g>\n",
              "</svg>\n",
              "      </button>\n",
              "    </div>\n",
              "\n",
              "<style>\n",
              "  .colab-df-quickchart {\n",
              "    background-color: #E8F0FE;\n",
              "    border: none;\n",
              "    border-radius: 50%;\n",
              "    cursor: pointer;\n",
              "    display: none;\n",
              "    fill: #1967D2;\n",
              "    height: 32px;\n",
              "    padding: 0 0 0 0;\n",
              "    width: 32px;\n",
              "  }\n",
              "\n",
              "  .colab-df-quickchart:hover {\n",
              "    background-color: #E2EBFA;\n",
              "    box-shadow: 0px 1px 2px rgba(60, 64, 67, 0.3), 0px 1px 3px 1px rgba(60, 64, 67, 0.15);\n",
              "    fill: #174EA6;\n",
              "  }\n",
              "\n",
              "  [theme=dark] .colab-df-quickchart {\n",
              "    background-color: #3B4455;\n",
              "    fill: #D2E3FC;\n",
              "  }\n",
              "\n",
              "  [theme=dark] .colab-df-quickchart:hover {\n",
              "    background-color: #434B5C;\n",
              "    box-shadow: 0px 1px 3px 1px rgba(0, 0, 0, 0.15);\n",
              "    filter: drop-shadow(0px 1px 2px rgba(0, 0, 0, 0.3));\n",
              "    fill: #FFFFFF;\n",
              "  }\n",
              "</style>\n",
              "\n",
              "    <script>\n",
              "      async function quickchart(key) {\n",
              "        const containerElement = document.querySelector('#' + key);\n",
              "        const charts = await google.colab.kernel.invokeFunction(\n",
              "            'suggestCharts', [key], {});\n",
              "      }\n",
              "    </script>\n",
              "\n",
              "      <script>\n",
              "\n",
              "function displayQuickchartButton(domScope) {\n",
              "  let quickchartButtonEl =\n",
              "    domScope.querySelector('#df-0fd734e1-7848-4ec5-b682-808f7ee31f24 button.colab-df-quickchart');\n",
              "  quickchartButtonEl.style.display =\n",
              "    google.colab.kernel.accessAllowed ? 'block' : 'none';\n",
              "}\n",
              "\n",
              "        displayQuickchartButton(document);\n",
              "      </script>\n",
              "      <style>\n",
              "    .colab-df-container {\n",
              "      display:flex;\n",
              "      flex-wrap:wrap;\n",
              "      gap: 12px;\n",
              "    }\n",
              "\n",
              "    .colab-df-convert {\n",
              "      background-color: #E8F0FE;\n",
              "      border: none;\n",
              "      border-radius: 50%;\n",
              "      cursor: pointer;\n",
              "      display: none;\n",
              "      fill: #1967D2;\n",
              "      height: 32px;\n",
              "      padding: 0 0 0 0;\n",
              "      width: 32px;\n",
              "    }\n",
              "\n",
              "    .colab-df-convert:hover {\n",
              "      background-color: #E2EBFA;\n",
              "      box-shadow: 0px 1px 2px rgba(60, 64, 67, 0.3), 0px 1px 3px 1px rgba(60, 64, 67, 0.15);\n",
              "      fill: #174EA6;\n",
              "    }\n",
              "\n",
              "    [theme=dark] .colab-df-convert {\n",
              "      background-color: #3B4455;\n",
              "      fill: #D2E3FC;\n",
              "    }\n",
              "\n",
              "    [theme=dark] .colab-df-convert:hover {\n",
              "      background-color: #434B5C;\n",
              "      box-shadow: 0px 1px 3px 1px rgba(0, 0, 0, 0.15);\n",
              "      filter: drop-shadow(0px 1px 2px rgba(0, 0, 0, 0.3));\n",
              "      fill: #FFFFFF;\n",
              "    }\n",
              "  </style>\n",
              "\n",
              "      <script>\n",
              "        const buttonEl =\n",
              "          document.querySelector('#df-a54d4d39-b193-4621-a267-e48dc64fefad button.colab-df-convert');\n",
              "        buttonEl.style.display =\n",
              "          google.colab.kernel.accessAllowed ? 'block' : 'none';\n",
              "\n",
              "        async function convertToInteractive(key) {\n",
              "          const element = document.querySelector('#df-a54d4d39-b193-4621-a267-e48dc64fefad');\n",
              "          const dataTable =\n",
              "            await google.colab.kernel.invokeFunction('convertToInteractive',\n",
              "                                                     [key], {});\n",
              "          if (!dataTable) return;\n",
              "\n",
              "          const docLinkHtml = 'Like what you see? Visit the ' +\n",
              "            '<a target=\"_blank\" href=https://colab.research.google.com/notebooks/data_table.ipynb>data table notebook</a>'\n",
              "            + ' to learn more about interactive tables.';\n",
              "          element.innerHTML = '';\n",
              "          dataTable['output_type'] = 'display_data';\n",
              "          await google.colab.output.renderOutput(dataTable, element);\n",
              "          const docLink = document.createElement('div');\n",
              "          docLink.innerHTML = docLinkHtml;\n",
              "          element.appendChild(docLink);\n",
              "        }\n",
              "      </script>\n",
              "    </div>\n",
              "  </div>\n"
            ]
          },
          "metadata": {},
          "execution_count": 151
        }
      ]
    },
    {
      "cell_type": "code",
      "metadata": {
        "colab": {
          "base_uri": "https://localhost:8080/"
        },
        "id": "w4VW351225YK",
        "outputId": "5f7e2932-d6ce-47cc-a659-023ae03ef5fa"
      },
      "source": [
        "train_df['labels'].value_counts()"
      ],
      "execution_count": 152,
      "outputs": [
        {
          "output_type": "execute_result",
          "data": {
            "text/plain": [
              "positive    3345\n",
              "negative    2647\n",
              "neutral      610\n",
              "Name: labels, dtype: int64"
            ]
          },
          "metadata": {},
          "execution_count": 152
        }
      ]
    },
    {
      "cell_type": "code",
      "metadata": {
        "id": "ooOv9QZtnLIF"
      },
      "source": [
        "\n",
        "le = LabelEncoder()\n",
        "train_df['labels'] = le.fit_transform(train_df['labels'])"
      ],
      "execution_count": 153,
      "outputs": []
    },
    {
      "cell_type": "code",
      "metadata": {
        "colab": {
          "base_uri": "https://localhost:8080/"
        },
        "id": "a89Bf4LpnigU",
        "outputId": "d2c0dc24-d0a6-4748-931b-8619392617b6"
      },
      "source": [
        "train_df['labels'].value_counts()"
      ],
      "execution_count": 154,
      "outputs": [
        {
          "output_type": "execute_result",
          "data": {
            "text/plain": [
              "2    3345\n",
              "0    2647\n",
              "1     610\n",
              "Name: labels, dtype: int64"
            ]
          },
          "metadata": {},
          "execution_count": 154
        }
      ]
    },
    {
      "cell_type": "markdown",
      "metadata": {
        "id": "bvNeR4lTVnK0"
      },
      "source": [
        "### Loading `train_sentences` and `train_labels`"
      ]
    },
    {
      "cell_type": "code",
      "metadata": {
        "id": "EufQZx2dbKMT"
      },
      "source": [
        "# Get the lists of sentences and their labels.\n",
        "train_sentences = train_df['text'].values\n",
        "train_labels = train_df['labels'].values"
      ],
      "execution_count": 155,
      "outputs": []
    },
    {
      "cell_type": "markdown",
      "metadata": {
        "id": "wnZSg5f7ZWs_"
      },
      "source": [
        "## Saving Class Names"
      ]
    },
    {
      "cell_type": "code",
      "metadata": {
        "id": "83tTT-wbZa1o"
      },
      "source": [
        "class_names = [\n",
        "               'positive','negative','neutral'\n",
        "]"
      ],
      "execution_count": 156,
      "outputs": []
    },
    {
      "cell_type": "markdown",
      "metadata": {
        "id": "ToUbAgZ9ap63"
      },
      "source": [
        "## Loading the validation data"
      ]
    },
    {
      "cell_type": "code",
      "metadata": {
        "colab": {
          "base_uri": "https://localhost:8080/",
          "height": 397
        },
        "id": "Dle8VzoAjOLS",
        "outputId": "5893a959-13c6-4cd5-f0a8-a36b4ba5e87a"
      },
      "source": [
        "# val_df_path = join(dataset_dir,'tamil_offensive_full_dev_corrected.csv')\n",
        "# Load the dataset into a pandas dataframe.\n",
        "val_df = pd.read_csv('/content/drive/MyDrive/Colab Notebooks/ariful/valid_data.csv')\n",
        "\n",
        "# Report the number of sentences.\n",
        "print('Number of training sentences: {:,}\\n'.format(val_df.shape[0]))\n",
        "\n",
        "# Display 10 random rows from the data.\n",
        "val_df.sample(10)"
      ],
      "execution_count": 157,
      "outputs": [
        {
          "output_type": "stream",
          "name": "stdout",
          "text": [
            "Number of training sentences: 2,201\n",
            "\n"
          ]
        },
        {
          "output_type": "execute_result",
          "data": {
            "text/plain": [
              "        PID                                               text    labels\n",
              "1245   6342  Cheeseroom বার্গার একেবারেই ফালতু ছিল ফ্রেন্স ...  negative\n",
              "22     9628     সার্ভিস আপ চিহ্ন খাদ্য মূল্য তুলনা ছিল না ....  negative\n",
              "563    5381  জ্যামাইকান চিকেন আমি সেখানে সময় এবং সময় :) #...  positive\n",
              "1628   9998  এফএনএফ সঙ্গে ছোট করুন একসাথে জন্য খুব ভাল জায়...  negative\n",
              "1239   5428    আমি দেখেছি খাবারেএ মান গত 2 পরিদর্শনে কমে গেছে।  negative\n",
              "1034   4044                               খাদ্য সুন্দর ছিল !!!  positive\n",
              "305    9610  ফটো তোলার জন্য চমৎকার জায়গা। ই.এম. অনেক। কিন্...  negative\n",
              "917   10404  আমি মিঃ হপার চেষ্টা করেছি। এটা ভাল ছিল। তবে পর...   neutral\n",
              "705    3884  এটি একটি ভয়ঙ্কর জায়গা সময় কাটাতে এবং এটি সে...  positive\n",
              "1199   7738  এখানে যাবেন না। খারাপ রেস্টুরেন্টে অভিজ্ঞতা আম...  negative"
            ],
            "text/html": [
              "\n",
              "\n",
              "  <div id=\"df-eddd67a4-792f-47b1-ac88-5d689120a5e5\">\n",
              "    <div class=\"colab-df-container\">\n",
              "      <div>\n",
              "<style scoped>\n",
              "    .dataframe tbody tr th:only-of-type {\n",
              "        vertical-align: middle;\n",
              "    }\n",
              "\n",
              "    .dataframe tbody tr th {\n",
              "        vertical-align: top;\n",
              "    }\n",
              "\n",
              "    .dataframe thead th {\n",
              "        text-align: right;\n",
              "    }\n",
              "</style>\n",
              "<table border=\"1\" class=\"dataframe\">\n",
              "  <thead>\n",
              "    <tr style=\"text-align: right;\">\n",
              "      <th></th>\n",
              "      <th>PID</th>\n",
              "      <th>text</th>\n",
              "      <th>labels</th>\n",
              "    </tr>\n",
              "  </thead>\n",
              "  <tbody>\n",
              "    <tr>\n",
              "      <th>1245</th>\n",
              "      <td>6342</td>\n",
              "      <td>Cheeseroom বার্গার একেবারেই ফালতু ছিল ফ্রেন্স ...</td>\n",
              "      <td>negative</td>\n",
              "    </tr>\n",
              "    <tr>\n",
              "      <th>22</th>\n",
              "      <td>9628</td>\n",
              "      <td>সার্ভিস আপ চিহ্ন খাদ্য মূল্য তুলনা ছিল না ....</td>\n",
              "      <td>negative</td>\n",
              "    </tr>\n",
              "    <tr>\n",
              "      <th>563</th>\n",
              "      <td>5381</td>\n",
              "      <td>জ্যামাইকান চিকেন আমি সেখানে সময় এবং সময় :) #...</td>\n",
              "      <td>positive</td>\n",
              "    </tr>\n",
              "    <tr>\n",
              "      <th>1628</th>\n",
              "      <td>9998</td>\n",
              "      <td>এফএনএফ সঙ্গে ছোট করুন একসাথে জন্য খুব ভাল জায়...</td>\n",
              "      <td>negative</td>\n",
              "    </tr>\n",
              "    <tr>\n",
              "      <th>1239</th>\n",
              "      <td>5428</td>\n",
              "      <td>আমি দেখেছি খাবারেএ মান গত 2 পরিদর্শনে কমে গেছে।</td>\n",
              "      <td>negative</td>\n",
              "    </tr>\n",
              "    <tr>\n",
              "      <th>1034</th>\n",
              "      <td>4044</td>\n",
              "      <td>খাদ্য সুন্দর ছিল !!!</td>\n",
              "      <td>positive</td>\n",
              "    </tr>\n",
              "    <tr>\n",
              "      <th>305</th>\n",
              "      <td>9610</td>\n",
              "      <td>ফটো তোলার জন্য চমৎকার জায়গা। ই.এম. অনেক। কিন্...</td>\n",
              "      <td>negative</td>\n",
              "    </tr>\n",
              "    <tr>\n",
              "      <th>917</th>\n",
              "      <td>10404</td>\n",
              "      <td>আমি মিঃ হপার চেষ্টা করেছি। এটা ভাল ছিল। তবে পর...</td>\n",
              "      <td>neutral</td>\n",
              "    </tr>\n",
              "    <tr>\n",
              "      <th>705</th>\n",
              "      <td>3884</td>\n",
              "      <td>এটি একটি ভয়ঙ্কর জায়গা সময় কাটাতে এবং এটি সে...</td>\n",
              "      <td>positive</td>\n",
              "    </tr>\n",
              "    <tr>\n",
              "      <th>1199</th>\n",
              "      <td>7738</td>\n",
              "      <td>এখানে যাবেন না। খারাপ রেস্টুরেন্টে অভিজ্ঞতা আম...</td>\n",
              "      <td>negative</td>\n",
              "    </tr>\n",
              "  </tbody>\n",
              "</table>\n",
              "</div>\n",
              "      <button class=\"colab-df-convert\" onclick=\"convertToInteractive('df-eddd67a4-792f-47b1-ac88-5d689120a5e5')\"\n",
              "              title=\"Convert this dataframe to an interactive table.\"\n",
              "              style=\"display:none;\">\n",
              "\n",
              "  <svg xmlns=\"http://www.w3.org/2000/svg\" height=\"24px\"viewBox=\"0 0 24 24\"\n",
              "       width=\"24px\">\n",
              "    <path d=\"M0 0h24v24H0V0z\" fill=\"none\"/>\n",
              "    <path d=\"M18.56 5.44l.94 2.06.94-2.06 2.06-.94-2.06-.94-.94-2.06-.94 2.06-2.06.94zm-11 1L8.5 8.5l.94-2.06 2.06-.94-2.06-.94L8.5 2.5l-.94 2.06-2.06.94zm10 10l.94 2.06.94-2.06 2.06-.94-2.06-.94-.94-2.06-.94 2.06-2.06.94z\"/><path d=\"M17.41 7.96l-1.37-1.37c-.4-.4-.92-.59-1.43-.59-.52 0-1.04.2-1.43.59L10.3 9.45l-7.72 7.72c-.78.78-.78 2.05 0 2.83L4 21.41c.39.39.9.59 1.41.59.51 0 1.02-.2 1.41-.59l7.78-7.78 2.81-2.81c.8-.78.8-2.07 0-2.86zM5.41 20L4 18.59l7.72-7.72 1.47 1.35L5.41 20z\"/>\n",
              "  </svg>\n",
              "      </button>\n",
              "\n",
              "\n",
              "\n",
              "    <div id=\"df-7d9e87a8-9ea2-4cc3-8ec7-205957be8fa5\">\n",
              "      <button class=\"colab-df-quickchart\" onclick=\"quickchart('df-7d9e87a8-9ea2-4cc3-8ec7-205957be8fa5')\"\n",
              "              title=\"Suggest charts.\"\n",
              "              style=\"display:none;\">\n",
              "\n",
              "<svg xmlns=\"http://www.w3.org/2000/svg\" height=\"24px\"viewBox=\"0 0 24 24\"\n",
              "     width=\"24px\">\n",
              "    <g>\n",
              "        <path d=\"M19 3H5c-1.1 0-2 .9-2 2v14c0 1.1.9 2 2 2h14c1.1 0 2-.9 2-2V5c0-1.1-.9-2-2-2zM9 17H7v-7h2v7zm4 0h-2V7h2v10zm4 0h-2v-4h2v4z\"/>\n",
              "    </g>\n",
              "</svg>\n",
              "      </button>\n",
              "    </div>\n",
              "\n",
              "<style>\n",
              "  .colab-df-quickchart {\n",
              "    background-color: #E8F0FE;\n",
              "    border: none;\n",
              "    border-radius: 50%;\n",
              "    cursor: pointer;\n",
              "    display: none;\n",
              "    fill: #1967D2;\n",
              "    height: 32px;\n",
              "    padding: 0 0 0 0;\n",
              "    width: 32px;\n",
              "  }\n",
              "\n",
              "  .colab-df-quickchart:hover {\n",
              "    background-color: #E2EBFA;\n",
              "    box-shadow: 0px 1px 2px rgba(60, 64, 67, 0.3), 0px 1px 3px 1px rgba(60, 64, 67, 0.15);\n",
              "    fill: #174EA6;\n",
              "  }\n",
              "\n",
              "  [theme=dark] .colab-df-quickchart {\n",
              "    background-color: #3B4455;\n",
              "    fill: #D2E3FC;\n",
              "  }\n",
              "\n",
              "  [theme=dark] .colab-df-quickchart:hover {\n",
              "    background-color: #434B5C;\n",
              "    box-shadow: 0px 1px 3px 1px rgba(0, 0, 0, 0.15);\n",
              "    filter: drop-shadow(0px 1px 2px rgba(0, 0, 0, 0.3));\n",
              "    fill: #FFFFFF;\n",
              "  }\n",
              "</style>\n",
              "\n",
              "    <script>\n",
              "      async function quickchart(key) {\n",
              "        const containerElement = document.querySelector('#' + key);\n",
              "        const charts = await google.colab.kernel.invokeFunction(\n",
              "            'suggestCharts', [key], {});\n",
              "      }\n",
              "    </script>\n",
              "\n",
              "      <script>\n",
              "\n",
              "function displayQuickchartButton(domScope) {\n",
              "  let quickchartButtonEl =\n",
              "    domScope.querySelector('#df-7d9e87a8-9ea2-4cc3-8ec7-205957be8fa5 button.colab-df-quickchart');\n",
              "  quickchartButtonEl.style.display =\n",
              "    google.colab.kernel.accessAllowed ? 'block' : 'none';\n",
              "}\n",
              "\n",
              "        displayQuickchartButton(document);\n",
              "      </script>\n",
              "      <style>\n",
              "    .colab-df-container {\n",
              "      display:flex;\n",
              "      flex-wrap:wrap;\n",
              "      gap: 12px;\n",
              "    }\n",
              "\n",
              "    .colab-df-convert {\n",
              "      background-color: #E8F0FE;\n",
              "      border: none;\n",
              "      border-radius: 50%;\n",
              "      cursor: pointer;\n",
              "      display: none;\n",
              "      fill: #1967D2;\n",
              "      height: 32px;\n",
              "      padding: 0 0 0 0;\n",
              "      width: 32px;\n",
              "    }\n",
              "\n",
              "    .colab-df-convert:hover {\n",
              "      background-color: #E2EBFA;\n",
              "      box-shadow: 0px 1px 2px rgba(60, 64, 67, 0.3), 0px 1px 3px 1px rgba(60, 64, 67, 0.15);\n",
              "      fill: #174EA6;\n",
              "    }\n",
              "\n",
              "    [theme=dark] .colab-df-convert {\n",
              "      background-color: #3B4455;\n",
              "      fill: #D2E3FC;\n",
              "    }\n",
              "\n",
              "    [theme=dark] .colab-df-convert:hover {\n",
              "      background-color: #434B5C;\n",
              "      box-shadow: 0px 1px 3px 1px rgba(0, 0, 0, 0.15);\n",
              "      filter: drop-shadow(0px 1px 2px rgba(0, 0, 0, 0.3));\n",
              "      fill: #FFFFFF;\n",
              "    }\n",
              "  </style>\n",
              "\n",
              "      <script>\n",
              "        const buttonEl =\n",
              "          document.querySelector('#df-eddd67a4-792f-47b1-ac88-5d689120a5e5 button.colab-df-convert');\n",
              "        buttonEl.style.display =\n",
              "          google.colab.kernel.accessAllowed ? 'block' : 'none';\n",
              "\n",
              "        async function convertToInteractive(key) {\n",
              "          const element = document.querySelector('#df-eddd67a4-792f-47b1-ac88-5d689120a5e5');\n",
              "          const dataTable =\n",
              "            await google.colab.kernel.invokeFunction('convertToInteractive',\n",
              "                                                     [key], {});\n",
              "          if (!dataTable) return;\n",
              "\n",
              "          const docLinkHtml = 'Like what you see? Visit the ' +\n",
              "            '<a target=\"_blank\" href=https://colab.research.google.com/notebooks/data_table.ipynb>data table notebook</a>'\n",
              "            + ' to learn more about interactive tables.';\n",
              "          element.innerHTML = '';\n",
              "          dataTable['output_type'] = 'display_data';\n",
              "          await google.colab.output.renderOutput(dataTable, element);\n",
              "          const docLink = document.createElement('div');\n",
              "          docLink.innerHTML = docLinkHtml;\n",
              "          element.appendChild(docLink);\n",
              "        }\n",
              "      </script>\n",
              "    </div>\n",
              "  </div>\n"
            ]
          },
          "metadata": {},
          "execution_count": 157
        }
      ]
    },
    {
      "cell_type": "code",
      "metadata": {
        "colab": {
          "base_uri": "https://localhost:8080/"
        },
        "id": "AypCmtBcDV6v",
        "outputId": "08ee37a4-cb35-4881-b972-555dba12b35c"
      },
      "source": [
        "val_df['labels'].value_counts()"
      ],
      "execution_count": 158,
      "outputs": [
        {
          "output_type": "execute_result",
          "data": {
            "text/plain": [
              "positive    1124\n",
              "negative     896\n",
              "neutral      181\n",
              "Name: labels, dtype: int64"
            ]
          },
          "metadata": {},
          "execution_count": 158
        }
      ]
    },
    {
      "cell_type": "code",
      "metadata": {
        "id": "-CgK81lGDPKC"
      },
      "source": [
        "val_df['labels'] = le.transform(val_df['labels'])"
      ],
      "execution_count": 159,
      "outputs": []
    },
    {
      "cell_type": "code",
      "metadata": {
        "colab": {
          "base_uri": "https://localhost:8080/"
        },
        "id": "Yfgn-E6JDZQZ",
        "outputId": "4ed93c3f-ed9e-4203-f870-45f5ed6f1fba"
      },
      "source": [
        "\n",
        "val_df['labels'].value_counts()"
      ],
      "execution_count": 160,
      "outputs": [
        {
          "output_type": "execute_result",
          "data": {
            "text/plain": [
              "2    1124\n",
              "0     896\n",
              "1     181\n",
              "Name: labels, dtype: int64"
            ]
          },
          "metadata": {},
          "execution_count": 160
        }
      ]
    },
    {
      "cell_type": "markdown",
      "metadata": {
        "id": "DMdNNVqrDCuN"
      },
      "source": [
        "### Loading `val_sentences` and `val_labels`"
      ]
    },
    {
      "cell_type": "code",
      "metadata": {
        "id": "LvGhjUkaDCuO"
      },
      "source": [
        "# Get the lists of sentences and their labels.\n",
        "val_sentences = val_df['text'].values\n",
        "val_labels = val_df['labels'].values"
      ],
      "execution_count": 161,
      "outputs": []
    },
    {
      "cell_type": "markdown",
      "metadata": {
        "id": "z_WjMTuibsrf"
      },
      "source": [
        "## Helper Functions"
      ]
    },
    {
      "cell_type": "markdown",
      "metadata": {
        "id": "Bef28eHNV-_d"
      },
      "source": [
        "#### 1) Update Interval Function"
      ]
    },
    {
      "cell_type": "code",
      "metadata": {
        "id": "lBK0ujfEbMir"
      },
      "source": [
        "def good_update_interval(total_iters, num_desired_updates):\n",
        "    '''\n",
        "    This function will try to pick an intelligent progress update interval\n",
        "    based on the magnitude of the total iterations.\n",
        "\n",
        "    Parameters:\n",
        "      `total_iters` - The number of iterations in the for-loop.\n",
        "      `num_desired_updates` - How many times we want to see an update over the\n",
        "                              course of the for-loop.\n",
        "    '''\n",
        "    # Divide the total iterations by the desired number of updates. Most likely\n",
        "    # this will be some ugly number.\n",
        "    exact_interval = total_iters / num_desired_updates\n",
        "\n",
        "    # The `round` function has the ability to round down a number to, e.g., the\n",
        "    # nearest thousandth: round(exact_interval, -3)\n",
        "    #\n",
        "    # To determine the magnitude to round to, find the magnitude of the total,\n",
        "    # and then go one magnitude below that.\n",
        "\n",
        "    # Get the order of magnitude of the total.\n",
        "    order_of_mag = len(str(total_iters)) - 1\n",
        "\n",
        "    # Our update interval should be rounded to an order of magnitude smaller.\n",
        "    round_mag = order_of_mag - 1\n",
        "\n",
        "    # Round down and cast to an int.\n",
        "    update_interval = int(round(exact_interval, -round_mag))\n",
        "\n",
        "    # Don't allow the interval to be zero!\n",
        "    if update_interval == 0:\n",
        "        update_interval = 1\n",
        "\n",
        "    return update_interval"
      ],
      "execution_count": 162,
      "outputs": []
    },
    {
      "cell_type": "markdown",
      "metadata": {
        "id": "eMGycwGAWFyO"
      },
      "source": [
        "#### 2) Format time function"
      ]
    },
    {
      "cell_type": "code",
      "metadata": {
        "id": "c9zVyNQLm-3q"
      },
      "source": [
        "def format_time(elapsed):\n",
        "    '''\n",
        "    Takes a time in seconds and returns a string hh:mm:ss\n",
        "    '''\n",
        "    # Round to the nearest second.\n",
        "    elapsed_rounded = int(round((elapsed)))\n",
        "\n",
        "    # Format as hh:mm:ss\n",
        "    return str(datetime.timedelta(seconds=elapsed_rounded))\n"
      ],
      "execution_count": 163,
      "outputs": []
    },
    {
      "cell_type": "markdown",
      "metadata": {
        "id": "EBAo04ENWw3n"
      },
      "source": [
        "#### 3) Make Smart Batches function"
      ]
    },
    {
      "cell_type": "code",
      "metadata": {
        "id": "nof-AUeoiZc2"
      },
      "source": [
        "def make_smart_batches(text_samples, labels, batch_size,tokenizer,max_input_length):\n",
        "    '''\n",
        "    This function combines all of the required steps to prepare batches.\n",
        "    '''\n",
        "\n",
        "    print('Creating Smart Batches from {:,} examples with batch size {:,}...\\n'.format(len(text_samples), batch_size))\n",
        "\n",
        "    # =========================\n",
        "    #   Tokenize & Truncate\n",
        "    # =========================\n",
        "\n",
        "    full_input_ids = []\n",
        "\n",
        "    # Tokenize all training examples\n",
        "    print('Tokenizing {:,} samples...'.format(len(labels)))\n",
        "\n",
        "    # Choose an interval on which to print progress updates.\n",
        "    update_interval = good_update_interval(total_iters=len(labels), num_desired_updates=10)\n",
        "\n",
        "    # For each training example...\n",
        "    for text in text_samples:\n",
        "\n",
        "        # Report progress.\n",
        "        if ((len(full_input_ids) % update_interval) == 0):\n",
        "            print('  Tokenized {:,} samples.'.format(len(full_input_ids)))\n",
        "\n",
        "        # Tokenize the sample.\n",
        "        input_ids = tokenizer.encode(text=text,              # Text to encode.\n",
        "                                    add_special_tokens=True, # Do add specials.\n",
        "                                    max_length=max_input_length,\n",
        "                                    truncation=True,         # Do Truncate!\n",
        "                                    padding=False)           # DO NOT pad.\n",
        "\n",
        "        # Add the tokenized result to our list.\n",
        "        full_input_ids.append(input_ids)\n",
        "\n",
        "    print('DONE.')\n",
        "    print('{:>10,} samples\\n'.format(len(full_input_ids)))\n",
        "\n",
        "    # =========================\n",
        "    #      Select Batches\n",
        "    # =========================\n",
        "\n",
        "    # Sort the two lists together by the length of the input sequence.\n",
        "    samples = sorted(zip(full_input_ids, labels), key=lambda x: len(x[0]))\n",
        "\n",
        "    print('{:>10,} samples after sorting\\n'.format(len(samples)))\n",
        "\n",
        "    import random\n",
        "\n",
        "    # List of batches that we'll construct.\n",
        "    batch_ordered_sentences = []\n",
        "    batch_ordered_labels = []\n",
        "\n",
        "    print('Creating batches of size {:}...'.format(batch_size))\n",
        "\n",
        "    # Choose an interval on which to print progress updates.\n",
        "    update_interval = good_update_interval(total_iters=len(samples), num_desired_updates=10)\n",
        "\n",
        "    # Loop over all of the input samples...\n",
        "    while len(samples) > 0:\n",
        "\n",
        "        # Report progress.\n",
        "        if ((len(batch_ordered_sentences) % update_interval) == 0 \\\n",
        "            and not len(batch_ordered_sentences) == 0):\n",
        "            print('  Selected {:,} batches.'.format(len(batch_ordered_sentences)))\n",
        "\n",
        "        # `to_take` is our actual batch size. It will be `batch_size` until\n",
        "        # we get to the last batch, which may be smaller.\n",
        "        to_take = min(batch_size, len(samples))\n",
        "\n",
        "        # Pick a random index in the list of remaining samples to start\n",
        "        # our batch at.\n",
        "        select = random.randint(0, len(samples) - to_take)\n",
        "\n",
        "        # Select a contiguous batch of samples starting at `select`.\n",
        "        #print(\"Selecting batch from {:} to {:}\".format(select, select+to_take))\n",
        "        batch = samples[select:(select + to_take)]\n",
        "\n",
        "        #print(\"Batch length:\", len(batch))\n",
        "\n",
        "        # Each sample is a tuple--split them apart to create a separate list of\n",
        "        # sequences and a list of labels for this batch.\n",
        "        batch_ordered_sentences.append([s[0] for s in batch])\n",
        "        batch_ordered_labels.append([s[1] for s in batch])\n",
        "\n",
        "        # Remove these samples from the list.\n",
        "        del samples[select:select + to_take]\n",
        "\n",
        "    print('\\n  DONE - Selected {:,} batches.\\n'.format(len(batch_ordered_sentences)))\n",
        "\n",
        "    # =========================\n",
        "    #        Add Padding\n",
        "    # =========================\n",
        "\n",
        "    print('Padding out sequences within each batch...')\n",
        "\n",
        "    py_inputs = []\n",
        "    py_attn_masks = []\n",
        "    py_labels = []\n",
        "\n",
        "    # For each batch...\n",
        "    for (batch_inputs, batch_labels) in zip(batch_ordered_sentences, batch_ordered_labels):\n",
        "\n",
        "        # New version of the batch, this time with padded sequences and now with\n",
        "        # attention masks defined.\n",
        "        batch_padded_inputs = []\n",
        "        batch_attn_masks = []\n",
        "\n",
        "        # First, find the longest sample in the batch.\n",
        "        # Note that the sequences do currently include the special tokens!\n",
        "        max_size = max([len(sen) for sen in batch_inputs])\n",
        "\n",
        "        # For each input in this batch...\n",
        "        for sen in batch_inputs:\n",
        "\n",
        "            # How many pad tokens do we need to add?\n",
        "            num_pads = max_size - len(sen)\n",
        "\n",
        "            # Add `num_pads` padding tokens to the end of the sequence.\n",
        "            padded_input = sen + [tokenizer.pad_token_id]*num_pads\n",
        "\n",
        "            # Define the attention mask--it's just a `1` for every real token\n",
        "            # and a `0` for every padding token.\n",
        "            attn_mask = [1] * len(sen) + [0] * num_pads\n",
        "\n",
        "            # Add the padded results to the batch.\n",
        "            batch_padded_inputs.append(padded_input)\n",
        "            batch_attn_masks.append(attn_mask)\n",
        "\n",
        "        # Our batch has been padded, so we need to save this updated batch.\n",
        "        # We also need the inputs to be PyTorch tensors, so we'll do that here.\n",
        "        # Todo - Michael's code specified \"dtype=torch.long\"\n",
        "        py_inputs.append(torch.tensor(batch_padded_inputs))\n",
        "        py_attn_masks.append(torch.tensor(batch_attn_masks))\n",
        "        py_labels.append(torch.tensor(batch_labels))\n",
        "\n",
        "    print('  DONE.')\n",
        "\n",
        "    # Return the smart-batched dataset!\n",
        "    return (py_inputs, py_attn_masks, py_labels)\n"
      ],
      "execution_count": 164,
      "outputs": []
    },
    {
      "cell_type": "code",
      "metadata": {
        "id": "ggH8AkAEaV9N"
      },
      "source": [
        "def make_smart_batches_on_test(text_samples, text_ids, batch_size,tokenizer,max_input_length):\n",
        "    '''\n",
        "    This function combines all of the required steps to prepare batches.\n",
        "    '''\n",
        "\n",
        "    print('Creating Smart Batches from {:,} examples with batch size {:,}...\\n'.format(len(text_samples), batch_size))\n",
        "\n",
        "    # =========================\n",
        "    #   Tokenize & Truncate\n",
        "    # =========================\n",
        "\n",
        "    full_input_ids = []\n",
        "\n",
        "    # Tokenize all training examples\n",
        "    print('Tokenizing {:,} samples...'.format(len(text_samples)))\n",
        "\n",
        "    # Choose an interval on which to print progress updates.\n",
        "    update_interval = good_update_interval(total_iters=len(text_samples), num_desired_updates=10)\n",
        "\n",
        "    # For each training example...\n",
        "    for text in text_samples:\n",
        "\n",
        "        # Report progress.\n",
        "        if ((len(full_input_ids) % update_interval) == 0):\n",
        "            print('  Tokenized {:,} samples.'.format(len(full_input_ids)))\n",
        "\n",
        "        # Tokenize the sample.\n",
        "        input_ids = tokenizer.encode(text=text,              # Text to encode.\n",
        "                                    add_special_tokens=True, # Do add specials.\n",
        "                                    max_length=max_input_length,\n",
        "                                    truncation=True,         # Do Truncate!\n",
        "                                    padding=False)           # DO NOT pad.\n",
        "\n",
        "        # Add the tokenized result to our list.\n",
        "        full_input_ids.append(input_ids)\n",
        "\n",
        "    print('DONE.')\n",
        "    print('{:>10,} samples\\n'.format(len(full_input_ids)))\n",
        "\n",
        "    # =========================\n",
        "    #      Select Batches\n",
        "    # =========================\n",
        "\n",
        "    # Sort the two lists together by the length of the input sequence.\n",
        "    samples = sorted(zip(full_input_ids, text_ids), key=lambda x: len(x[0]))\n",
        "\n",
        "    print('{:>10,} samples after sorting\\n'.format(len(samples)))\n",
        "\n",
        "    import random\n",
        "\n",
        "    # List of batches that we'll construct.\n",
        "    batch_ordered_sentences = []\n",
        "    batch_ordered_ids = []\n",
        "\n",
        "    print('Creating batches of size {:}...'.format(batch_size))\n",
        "\n",
        "    # Choose an interval on which to print progress updates.\n",
        "    update_interval = good_update_interval(total_iters=len(samples), num_desired_updates=10)\n",
        "\n",
        "    # Loop over all of the input samples...\n",
        "    while len(samples) > 0:\n",
        "\n",
        "        # Report progress.\n",
        "        if ((len(batch_ordered_sentences) % update_interval) == 0 \\\n",
        "            and not len(batch_ordered_sentences) == 0):\n",
        "            print('  Selected {:,} batches.'.format(len(batch_ordered_sentences)))\n",
        "\n",
        "        # `to_take` is our actual batch size. It will be `batch_size` until\n",
        "        # we get to the last batch, which may be smaller.\n",
        "        to_take = min(batch_size, len(samples))\n",
        "\n",
        "        # Pick a random index in the list of remaining samples to start\n",
        "        # our batch at.\n",
        "        select = random.randint(0, len(samples) - to_take)\n",
        "\n",
        "        # Select a contiguous batch of samples starting at `select`.\n",
        "        #print(\"Selecting batch from {:} to {:}\".format(select, select+to_take))\n",
        "        batch = samples[select:(select + to_take)]\n",
        "\n",
        "        #print(\"Batch length:\", len(batch))\n",
        "\n",
        "        # Each sample is a tuple--split them apart to create a separate list of\n",
        "        # sequences and a list of labels for this batch.\n",
        "        batch_ordered_sentences.append([s[0] for s in batch])\n",
        "        batch_ordered_ids.append([s[1] for s in batch])\n",
        "\n",
        "        # Remove these samples from the list.\n",
        "        del samples[select:select + to_take]\n",
        "\n",
        "    print('\\n  DONE - Selected {:,} batches.\\n'.format(len(batch_ordered_sentences)))\n",
        "\n",
        "    # =========================\n",
        "    #        Add Padding\n",
        "    # =========================\n",
        "\n",
        "    print('Padding out sequences within each batch...')\n",
        "\n",
        "    py_inputs = []\n",
        "    py_attn_masks = []\n",
        "    py_ids = []\n",
        "\n",
        "    # For each batch...\n",
        "    for (batch_inputs, batch_ids) in zip(batch_ordered_sentences, batch_ordered_ids):\n",
        "\n",
        "        # New version of the batch, this time with padded sequences and now with\n",
        "        # attention masks defined.\n",
        "        batch_padded_inputs = []\n",
        "        batch_attn_masks = []\n",
        "\n",
        "        # First, find the longest sample in the batch.\n",
        "        # Note that the sequences do currently include the special tokens!\n",
        "        max_size = max([len(sen) for sen in batch_inputs])\n",
        "\n",
        "        # For each input in this batch...\n",
        "        for sen in batch_inputs:\n",
        "\n",
        "            # How many pad tokens do we need to add?\n",
        "            num_pads = max_size - len(sen)\n",
        "\n",
        "            # Add `num_pads` padding tokens to the end of the sequence.\n",
        "            padded_input = sen + [tokenizer.pad_token_id]*num_pads\n",
        "\n",
        "            # Define the attention mask--it's just a `1` for every real token\n",
        "            # and a `0` for every padding token.\n",
        "            attn_mask = [1] * len(sen) + [0] * num_pads\n",
        "\n",
        "            # Add the padded results to the batch.\n",
        "            batch_padded_inputs.append(padded_input)\n",
        "            batch_attn_masks.append(attn_mask)\n",
        "\n",
        "        # Our batch has been padded, so we need to save this updated batch.\n",
        "        # We also need the inputs to be PyTorch tensors, so we'll do that here.\n",
        "        # Todo - Michael's code specified \"dtype=torch.long\"\n",
        "        py_inputs.append(torch.tensor(batch_padded_inputs))\n",
        "        py_attn_masks.append(torch.tensor(batch_attn_masks))\n",
        "        py_ids.append(torch.tensor(batch_ids))\n",
        "\n",
        "    print('  DONE.')\n",
        "\n",
        "    # Return the smart-batched dataset!\n",
        "    return (py_inputs, py_attn_masks, py_ids)\n"
      ],
      "execution_count": 165,
      "outputs": []
    },
    {
      "cell_type": "markdown",
      "metadata": {
        "id": "x6EHYpUbz8fo"
      },
      "source": [
        "#### 4) Function for calculating accuracy per class"
      ]
    },
    {
      "cell_type": "code",
      "metadata": {
        "id": "Knuw_DOei8RO"
      },
      "source": [
        "def accuracy_per_class(preds, labels , label_dict):\n",
        "\n",
        "    preds_flat = np.argmax(preds, axis=1).flatten()\n",
        "    labels_flat = labels.flatten()\n",
        "\n",
        "    for label in np.unique(labels_flat):\n",
        "        y_preds = preds_flat[labels_flat==label]\n",
        "        y_true = labels_flat[labels_flat==label]\n",
        "        print(f'Class: {label_dict[label]}')\n",
        "        print(f'Accuracy: {round(100*len(y_preds[y_preds==label])/len(y_true) , 2)}\\n')"
      ],
      "execution_count": 166,
      "outputs": []
    },
    {
      "cell_type": "markdown",
      "metadata": {
        "id": "sOWk_8lpWO17"
      },
      "source": [
        "### 5) Function for plotting training history"
      ]
    },
    {
      "cell_type": "code",
      "metadata": {
        "id": "R7-FAyfnWM65"
      },
      "source": [
        "def plot_training_history(history):\n",
        "  fig, (ax1, ax2) = plt.subplots(1, 2, figsize=(18, 6))\n",
        "\n",
        "  ax1.plot(history['train_loss'], label='train loss')\n",
        "  ax1.plot(history['val_loss'], label='validation loss')\n",
        "\n",
        "  ax1.xaxis.set_major_locator(MaxNLocator(integer=True))\n",
        "  ax1.set_ylim([-0.05, 1.05])\n",
        "  ax1.legend()\n",
        "  ax1.set_ylabel('Loss')\n",
        "  ax1.set_xlabel('Epoch')\n",
        "\n",
        "  ax2.plot(history['train_acc'], label='train accuracy')\n",
        "  ax2.plot(history['val_acc'], label='validation accuracy')\n",
        "\n",
        "  ax2.xaxis.set_major_locator(MaxNLocator(integer=True))\n",
        "  ax2.set_ylim([-0.05, 1.05])\n",
        "  ax2.legend()\n",
        "\n",
        "  ax2.set_ylabel('Accuracy')\n",
        "  ax2.set_xlabel('Epoch')\n",
        "\n",
        "  fig.suptitle('Training history')"
      ],
      "execution_count": 167,
      "outputs": []
    },
    {
      "cell_type": "markdown",
      "metadata": {
        "id": "A7QOTORh_JHa"
      },
      "source": [
        "### 6) Function to check accuracy"
      ]
    },
    {
      "cell_type": "code",
      "metadata": {
        "id": "yzRDobQ6MwaR"
      },
      "source": [
        "def check_accuracy(predictions,true_labels):\n",
        "  # Combine the results across the batches.\n",
        "  predictions = np.concatenate(predictions, axis=0)\n",
        "  true_labels = np.concatenate(true_labels, axis=0)\n",
        "\n",
        "  # Choose the label with the highest score as our prediction.\n",
        "  preds = np.argmax(predictions, axis=1).flatten()\n",
        "\n",
        "  # Calculate simple flat accuracy -- number correct over total number.\n",
        "  accuracy = (preds == true_labels).mean()\n",
        "\n",
        "  return accuracy"
      ],
      "execution_count": 168,
      "outputs": []
    },
    {
      "cell_type": "markdown",
      "metadata": {
        "id": "D7TtFkV5_Olz"
      },
      "source": [
        "### 7) Function to evaluate model"
      ]
    },
    {
      "cell_type": "code",
      "metadata": {
        "id": "TSBNdYHYMA7Q"
      },
      "source": [
        "def eval_model(model,py_inputs, py_attn_masks, py_labels):\n",
        "# Prediction on test set\n",
        "  t0 = time.time()\n",
        "\n",
        "  print('Doing validation on {:,} sentences...'.format(len(py_labels)))\n",
        "\n",
        "  # Put model in evaluation mode\n",
        "  model.eval()\n",
        "\n",
        "  # Tracking variables\n",
        "  predictions , true_labels = [], []\n",
        "\n",
        "  # Choose an interval on which to print progress updates.\n",
        "  update_interval = good_update_interval(total_iters=len(py_inputs), num_desired_updates=10)\n",
        "\n",
        "  # Measure elapsed time.\n",
        "  t0 = time.time()\n",
        "  total_val_loss = 0\n",
        "\n",
        "  # Put model in evaluation mode\n",
        "  model.eval()\n",
        "\n",
        "  # For each batch of training data...\n",
        "  for step in range(0, len(py_inputs)):\n",
        "\n",
        "      # Progress update every 100 batches.\n",
        "      if step % update_interval == 0 and not step == 0:\n",
        "          # Calculate elapsed time in minutes.\n",
        "          elapsed = format_time(time.time() - t0)\n",
        "\n",
        "          # Calculate the time remaining based on our progress.\n",
        "          steps_per_sec = (time.time() - t0) / step\n",
        "          remaining_sec = steps_per_sec * (len(py_inputs) - step)\n",
        "          remaining = format_time(remaining_sec)\n",
        "\n",
        "          # Report progress.\n",
        "          print('  Batch {:>7,}  of  {:>7,}.    Elapsed: {:}.  Remaining: {:}'.format(step, len(py_inputs), elapsed, remaining))\n",
        "\n",
        "      # Copy the batch to the GPU.\n",
        "      b_input_ids = py_inputs[step].to(device)\n",
        "      b_input_mask = py_attn_masks[step].to(device)\n",
        "      b_labels = py_labels[step].to(device)\n",
        "\n",
        "      # Telling the model not to compute or store gradients, saving memory and\n",
        "      # speeding up prediction\n",
        "      with torch.no_grad():\n",
        "        output = model(b_input_ids,\n",
        "                             token_type_ids=None,\n",
        "                             attention_mask=b_input_mask,\n",
        "                             labels=b_labels)\n",
        "\n",
        "\n",
        "      logits = output.logits\n",
        "      loss = output.loss\n",
        "      # Move logits and labels to CPU\n",
        "      logits = logits.detach().cpu().numpy()\n",
        "      label_ids = b_labels.to('cpu').numpy()\n",
        "\n",
        "      # Store predictions and true labels\n",
        "      predictions.append(logits)\n",
        "      true_labels.append(label_ids)\n",
        "\n",
        "      total_val_loss += loss.item()\n",
        "\n",
        "  val_accuracy = check_accuracy(predictions,true_labels)\n",
        "\n",
        "  validation_time = format_time(time.time() - t0)\n",
        "\n",
        "  # Calculate the average loss over all of the batches.\n",
        "  avg_val_loss = total_val_loss / len(py_inputs)\n",
        "\n",
        "\n",
        "  # print('Accuracy: {:.3f}'.format(val_accuracy))\n",
        "  return (avg_val_loss,val_accuracy,validation_time)\n"
      ],
      "execution_count": 169,
      "outputs": []
    },
    {
      "cell_type": "markdown",
      "metadata": {
        "id": "Lrt_FyJIbC8j"
      },
      "source": [
        "### 8) Function for making predictions on our test dataset"
      ]
    },
    {
      "cell_type": "code",
      "metadata": {
        "id": "eylCkH2Zipq5"
      },
      "source": [
        "def get_predictions(py_inputs, py_attn_masks, py_labels):\n",
        "\n",
        "  print('Predicting labels for {:,} test batches...'.format(len(py_labels)))\n",
        "\n",
        "  # Put model in evaluation mode\n",
        "  model.eval()\n",
        "\n",
        "  # Tracking variables\n",
        "  predictions , true_labels = [], []\n",
        "\n",
        "  # Choose an interval on which to print progress updates.\n",
        "  update_interval = good_update_interval(total_iters=len(py_inputs), num_desired_updates=10)\n",
        "\n",
        "  # Measure elapsed time.\n",
        "  t0 = time.time()\n",
        "\n",
        "  # Put model in evaluation mode\n",
        "  model.eval()\n",
        "\n",
        "  # For each batch of training data...\n",
        "  for step in range(0, len(py_inputs)):\n",
        "\n",
        "      # Progress update every 100 batches.\n",
        "      if step % update_interval == 0 and not step == 0:\n",
        "          # Calculate elapsed time in minutes.\n",
        "          elapsed = format_time(time.time() - t0)\n",
        "\n",
        "          # Calculate the time remaining based on our progress.\n",
        "          steps_per_sec = (time.time() - t0) / step\n",
        "          remaining_sec = steps_per_sec * (len(py_inputs) - step)\n",
        "          remaining = format_time(remaining_sec)\n",
        "\n",
        "          # Report progress.\n",
        "          print('  Batch {:>7,}  of  {:>7,}.    Elapsed: {:}.  Remaining: {:}'.format(step, len(py_inputs), elapsed, remaining))\n",
        "\n",
        "      # Copy the batch to the GPU.\n",
        "      b_input_ids = py_inputs[step].to(device)\n",
        "      b_input_mask = py_attn_masks[step].to(device)\n",
        "      b_labels = py_labels[step].to(device)\n",
        "\n",
        "      # Telling the model not to compute or store gradients, saving memory and\n",
        "      # speeding up prediction\n",
        "      with torch.no_grad():\n",
        "          # Forward pass, calculate logit predictions\n",
        "          outputs = model(b_input_ids, b_input_mask)\n",
        "\n",
        "      logits = outputs.logits\n",
        "\n",
        "      # Move logits and labels to CPU\n",
        "      logits = logits.detach().cpu().numpy()\n",
        "      label_ids = b_labels.to('cpu').numpy()\n",
        "\n",
        "      # Store predictions and true labels\n",
        "      predictions.append(logits)\n",
        "      true_labels.append(label_ids)\n",
        "      # Combine the results across the batches.\n",
        "  predictions = np.concatenate(predictions, axis=0)\n",
        "  true_labels = np.concatenate(true_labels, axis=0)\n",
        "\n",
        "      # Choose the label with the highest score as our prediction.\n",
        "  preds = np.argmax(predictions, axis=1).flatten()\n",
        "\n",
        "  return (preds,true_labels)"
      ],
      "execution_count": 170,
      "outputs": []
    },
    {
      "cell_type": "markdown",
      "metadata": {
        "id": "eiRNCS-EbZmy"
      },
      "source": [
        "### 9) Function for making predictions on test dataset(without labels)"
      ]
    },
    {
      "cell_type": "code",
      "metadata": {
        "id": "RIuwhVSmZvkd"
      },
      "source": [
        "def get_predictions_test(py_inputs, py_attn_masks,py_ids):\n",
        "\n",
        "  print('Predicting labels for {:,} test batches...'.format(len(py_inputs)))\n",
        "\n",
        "  # Put model in evaluation mode\n",
        "  model.eval()\n",
        "\n",
        "  # Tracking variables\n",
        "  predictions , true_labels ,ids = [], [] , []\n",
        "\n",
        "  # Choose an interval on which to print progress updates.\n",
        "  update_interval = good_update_interval(total_iters=len(py_inputs), num_desired_updates=10)\n",
        "\n",
        "  # Measure elapsed time.\n",
        "  t0 = time.time()\n",
        "\n",
        "  # Put model in evaluation mode\n",
        "  model.eval()\n",
        "\n",
        "  # For each batch of training data...\n",
        "  for step in range(0, len(py_inputs)):\n",
        "\n",
        "      # Progress update every 100 batches.\n",
        "      if step % update_interval == 0 and not step == 0:\n",
        "          # Calculate elapsed time in minutes.\n",
        "          elapsed = format_time(time.time() - t0)\n",
        "\n",
        "          # Calculate the time remaining based on our progress.\n",
        "          steps_per_sec = (time.time() - t0) / step\n",
        "          remaining_sec = steps_per_sec * (len(py_inputs) - step)\n",
        "          remaining = format_time(remaining_sec)\n",
        "\n",
        "          # Report progress.\n",
        "          print('  Batch {:>7,}  of  {:>7,}.    Elapsed: {:}.  Remaining: {:}'.format(step, len(py_inputs), elapsed, remaining))\n",
        "\n",
        "      # Copy the batch to the GPU.\n",
        "      b_input_ids = py_inputs[step].to(device)\n",
        "      b_input_mask = py_attn_masks[step].to(device)\n",
        "      b_ids = py_ids[step].to(device)\n",
        "\n",
        "      # Telling the model not to compute or store gradients, saving memory and\n",
        "      # speeding up prediction\n",
        "      with torch.no_grad():\n",
        "          # Forward pass, calculate logit predictions\n",
        "          outputs = model(b_input_ids, b_input_mask)\n",
        "\n",
        "      logits = outputs.logits\n",
        "\n",
        "      # Move logits and labels to CPU\n",
        "      logits = logits.detach().cpu().numpy()\n",
        "      b_ids = b_ids.detach().cpu().numpy()\n",
        "      # Store predictions\n",
        "      predictions.append(logits)\n",
        "      ids.append(b_ids)\n",
        "      # Combine the results across the batches.\n",
        "  predictions = np.concatenate(predictions, axis=0)\n",
        "  ids = np.concatenate(ids,axis=0)\n",
        "  # Choose the label with the highest score as our prediction.\n",
        "  preds = np.argmax(predictions, axis=1).flatten()\n",
        "\n",
        "  return ids,preds"
      ],
      "execution_count": 171,
      "outputs": []
    },
    {
      "cell_type": "markdown",
      "metadata": {
        "id": "4IM8r_ddYZZS"
      },
      "source": [
        "### 10) Confusion Matrix Helper Function"
      ]
    },
    {
      "cell_type": "code",
      "metadata": {
        "id": "DqNaS8SrBox5"
      },
      "source": [
        "def show_confusion_matrix(confusion_matrix, class_names):\n",
        "\n",
        "  cm = confusion_matrix.copy()\n",
        "\n",
        "  cell_counts = cm.flatten()\n",
        "\n",
        "  cm_row_norm = cm / cm.sum(axis=1)[:, np.newaxis]\n",
        "\n",
        "  row_percentages = [\"{0:.2f}\".format(value) for value in cm_row_norm.flatten()]\n",
        "\n",
        "  cell_labels = [f\"{cnt}\\n{per}\" for cnt, per in zip(cell_counts, row_percentages)]\n",
        "  cell_labels = np.asarray(cell_labels).reshape(cm.shape[0], cm.shape[1])\n",
        "\n",
        "  df_cm = pd.DataFrame(cm_row_norm, index=class_names, columns=class_names)\n",
        "\n",
        "  hmap = sns.heatmap(df_cm, annot=cell_labels, fmt=\"\", cmap=\"Blues\")\n",
        "  hmap.yaxis.set_ticklabels(hmap.yaxis.get_ticklabels(), rotation=0, ha='right')\n",
        "  hmap.xaxis.set_ticklabels(hmap.xaxis.get_ticklabels(), rotation=30, ha='right')\n",
        "  plt.ylabel('True Value')\n",
        "  plt.xlabel('Predicted Value');"
      ],
      "execution_count": 172,
      "outputs": []
    },
    {
      "cell_type": "markdown",
      "metadata": {
        "id": "OVs3Jb3Vb89i"
      },
      "source": [
        "## Smart Batching of the training data"
      ]
    },
    {
      "cell_type": "code",
      "metadata": {
        "colab": {
          "base_uri": "https://localhost:8080/",
          "height": 162,
          "referenced_widgets": [
            "baf9ab8c52fe43028514cf096f8983bb",
            "08adecd45b0649e4bbcb0c88eaca9abc",
            "952a3446eafa4c3e83c55db121c86711",
            "f26de4cc5d024f25b77573dc31db40b2",
            "d42a97a276ca4be1a4cc33c2aee1ec1b",
            "76281b1472144375ab72bab39271a8b4",
            "cf35c3b863cf4bf29e090c322f94dcd4",
            "29081637b70c46a5a89908b3b0fbbd21",
            "ffd83bee361a42988df20d5cc2707320",
            "1fcdb90e119c476bbdfb050ce3511933",
            "d12afdab44d14c1bbd8ef0f185717bb4",
            "84d18ede19df4682bc473051ef7e764d",
            "5cea36af252344cbb24feaccae53605d",
            "b01e5be0e69b45f78188c845fed2626a",
            "55d4a820803c4d849fa433720621ea9f",
            "dcbc211dd8cc41c3a18ee5cbac226e37",
            "89363084187441e4bb3cb49e36d98833",
            "61c36ce66f734b15b69ff1ea850da354",
            "546dba6c26584604a9a3b88ad8c43907",
            "315e3e5c358245ae81e9820414a3703e",
            "ad8e19a3f04a4e7fb264383f3e022624",
            "3cd24c999e1847c28f8e7dd468023cc1",
            "c2e4f3d6212a4943bc896a8da8c961ff",
            "e374d943d5944002b89f7fd33c820f1d",
            "2d927054a200405aa8b1c883d80e7edd",
            "7f4d18874608410eb3afd4a90e8a5e24",
            "a8437789768d440ba91c396982d61a25",
            "fc501fc0b7c94a34bc3da8af9f102557",
            "8acb9beb535c4b3c955f353fa5f13faf",
            "3cc8450edd91438981bd7b0675fdefa9",
            "21c4cf2861094fdab319b7b5157c1525",
            "24839ffc15df4330a00a980ba748eab7",
            "1d00538a0a7c411d8e0a789436fa66b8",
            "d296b8ca974a4941bbbdf5591054d8dc",
            "a660b4da67ad409188058eeefe9461af",
            "6d527b901ed64091848991a7bad482e3",
            "c17c8b973aaa4fd3b0c0306471d91cbf",
            "792e821fde3149e283e2d37e788125bc",
            "7aa98defd2e34b8582eeba351f218043",
            "46353855be7242488ecef11dcb8fb9b8",
            "ec02cf64e5054420b6c08468d6cd0a9b",
            "3a875280a3b74a88ab58cfdccc2a711c",
            "4dc7772e432848eabf975d76a4150dc0",
            "e29c7aa740a4481ca8ad9e0caf06dc54"
          ]
        },
        "id": "fIlwEvcMb4pb",
        "outputId": "82fe4004-1561-4cb7-fb6f-23aa3565a555"
      },
      "source": [
        "\n",
        "#model_name='sagorsarker/bangla-bert-base'\n",
        "#model_name='csebuetnlp/banglabert'\n",
        "#model_name='xlm-roberta-base'\n",
        "#model_name='neuralspace-reverie/indic-transformers-bn-distilbert'\n",
        "model_name='bert-base-multilingual-cased'\n",
        "# Load the BERT tokenizer.\n",
        "print(f'Loading {model_name} tokenizer...')\n",
        "tokenizer = AutoTokenizer.from_pretrained(model_name, do_lower_case=False)"
      ],
      "execution_count": 173,
      "outputs": [
        {
          "output_type": "stream",
          "name": "stdout",
          "text": [
            "Loading bert-base-multilingual-cased tokenizer...\n"
          ]
        },
        {
          "output_type": "display_data",
          "data": {
            "text/plain": [
              "Downloading (…)okenizer_config.json:   0%|          | 0.00/29.0 [00:00<?, ?B/s]"
            ],
            "application/vnd.jupyter.widget-view+json": {
              "version_major": 2,
              "version_minor": 0,
              "model_id": "baf9ab8c52fe43028514cf096f8983bb"
            }
          },
          "metadata": {}
        },
        {
          "output_type": "display_data",
          "data": {
            "text/plain": [
              "Downloading (…)lve/main/config.json:   0%|          | 0.00/625 [00:00<?, ?B/s]"
            ],
            "application/vnd.jupyter.widget-view+json": {
              "version_major": 2,
              "version_minor": 0,
              "model_id": "84d18ede19df4682bc473051ef7e764d"
            }
          },
          "metadata": {}
        },
        {
          "output_type": "display_data",
          "data": {
            "text/plain": [
              "Downloading (…)solve/main/vocab.txt:   0%|          | 0.00/996k [00:00<?, ?B/s]"
            ],
            "application/vnd.jupyter.widget-view+json": {
              "version_major": 2,
              "version_minor": 0,
              "model_id": "c2e4f3d6212a4943bc896a8da8c961ff"
            }
          },
          "metadata": {}
        },
        {
          "output_type": "display_data",
          "data": {
            "text/plain": [
              "Downloading (…)/main/tokenizer.json:   0%|          | 0.00/1.96M [00:00<?, ?B/s]"
            ],
            "application/vnd.jupyter.widget-view+json": {
              "version_major": 2,
              "version_minor": 0,
              "model_id": "d296b8ca974a4941bbbdf5591054d8dc"
            }
          },
          "metadata": {}
        }
      ]
    },
    {
      "cell_type": "code",
      "metadata": {
        "id": "cWNt4eOLofmF"
      },
      "source": [
        "lengths = []\n",
        "for text in train_sentences:\n",
        "  lengths.append(len(text))"
      ],
      "execution_count": 174,
      "outputs": []
    },
    {
      "cell_type": "code",
      "metadata": {
        "colab": {
          "base_uri": "https://localhost:8080/",
          "height": 592
        },
        "id": "hbdGRA3Bo02O",
        "outputId": "c02aa1f0-2617-4a1d-f7af-9df09498347d"
      },
      "source": [
        "\n",
        "# Use plot styling from seaborn.\n",
        "sns.set(style='darkgrid')\n",
        "\n",
        "# Increase the plot size and font size.\n",
        "sns.set(font_scale=1.5)\n",
        "plt.rcParams[\"figure.figsize\"] = (12,6)\n",
        "\n",
        "plt.scatter(range(0, len(lengths)), lengths, marker=\"|\")\n",
        "\n",
        "plt.xlabel('Sample Number')\n",
        "plt.ylabel('Sequence Length')\n",
        "plt.title('Samples BEFORE Tokenizing')\n",
        "\n",
        "plt.show()"
      ],
      "execution_count": 175,
      "outputs": [
        {
          "output_type": "display_data",
          "data": {
            "text/plain": [
              "<Figure size 1200x600 with 1 Axes>"
            ],
            "image/png": "[encoded data removed]"
          },
          "metadata": {}
        }
      ]
    },
    {
      "cell_type": "markdown",
      "metadata": {
        "id": "9rMhLNhPcZjU"
      },
      "source": [
        "### Tokenizing the sequences"
      ]
    },
    {
      "cell_type": "code",
      "metadata": {
        "id": "t7JsLi3EdEje"
      },
      "source": [
        "max_input_length = 400"
      ],
      "execution_count": 176,
      "outputs": []
    },
    {
      "cell_type": "code",
      "metadata": {
        "colab": {
          "base_uri": "https://localhost:8080/"
        },
        "id": "J968o8RJcUEd",
        "outputId": "8ab121fe-1326-449d-ca7f-e5afa7a78af4"
      },
      "source": [
        "full_input_ids = []\n",
        "labels = []\n",
        "\n",
        "# Tokenize all training examples\n",
        "print('Tokenizing {:,} training samples...'.format(len(train_sentences)))\n",
        "\n",
        "# Choose an interval on which to print progress updates.\n",
        "update_interval = good_update_interval(total_iters=len(train_sentences), num_desired_updates=10)\n",
        "\n",
        "# For each training example...\n",
        "for text in train_sentences:\n",
        "\n",
        "    # Report progress.\n",
        "    if ((len(full_input_ids) % update_interval) == 0):\n",
        "        print('  Tokenized {:,} samples.'.format(len(full_input_ids)))\n",
        "\n",
        "    # Tokenize the sentence.\n",
        "    input_ids = tokenizer.encode(text=text,\n",
        "                                 add_special_tokens=True,\n",
        "                                 max_length=max_input_length,\n",
        "                                 truncation=True,\n",
        "                                 padding=False)\n",
        "\n",
        "    # Add the tokenized result to our list.\n",
        "    full_input_ids.append(input_ids)\n",
        "\n",
        "print('DONE.')\n",
        "print('{:>10,} samples'.format(len(full_input_ids)))"
      ],
      "execution_count": 177,
      "outputs": [
        {
          "output_type": "stream",
          "name": "stdout",
          "text": [
            "Tokenizing 6,602 training samples...\n",
            "  Tokenized 0 samples.\n",
            "  Tokenized 700 samples.\n",
            "  Tokenized 1,400 samples.\n",
            "  Tokenized 2,100 samples.\n",
            "  Tokenized 2,800 samples.\n",
            "  Tokenized 3,500 samples.\n",
            "  Tokenized 4,200 samples.\n",
            "  Tokenized 4,900 samples.\n",
            "  Tokenized 5,600 samples.\n",
            "  Tokenized 6,300 samples.\n",
            "DONE.\n",
            "     6,602 samples\n"
          ]
        }
      ]
    },
    {
      "cell_type": "code",
      "metadata": {
        "id": "rZzhO2tZeXur"
      },
      "source": [
        "# Get all of the lengths.\n",
        "unsorted_lengths = [len(x) for x in full_input_ids]"
      ],
      "execution_count": 178,
      "outputs": []
    },
    {
      "cell_type": "code",
      "metadata": {
        "colab": {
          "base_uri": "https://localhost:8080/",
          "height": 592
        },
        "id": "x7c_mYuVed_H",
        "outputId": "6e6f7b3b-e5a0-4c97-d063-2129934f5868"
      },
      "source": [
        "\n",
        "# Use plot styling from seaborn.\n",
        "sns.set(style='darkgrid')\n",
        "\n",
        "# Increase the plot size and font size.\n",
        "sns.set(font_scale=1.5)\n",
        "plt.rcParams[\"figure.figsize\"] = (12,6)\n",
        "\n",
        "plt.scatter(range(0, len(unsorted_lengths)), unsorted_lengths, marker=\"|\")\n",
        "\n",
        "plt.xlabel('Sample Number')\n",
        "plt.ylabel('Sequence Length')\n",
        "plt.title('Samples BEFORE Sorting')\n",
        "\n",
        "plt.show()"
      ],
      "execution_count": 179,
      "outputs": [
        {
          "output_type": "display_data",
          "data": {
            "text/plain": [
              "<Figure size 1200x600 with 1 Axes>"
            ],
            "image/png": "[encoded data removed]"
          },
          "metadata": {}
        }
      ]
    },
    {
      "cell_type": "code",
      "metadata": {
        "id": "7PaeohUVegmv"
      },
      "source": [
        "# Sort the two lists together by the length of the input sequence.\n",
        "train_samples = sorted(zip(full_input_ids, train_labels), key=lambda x: len(x[0]))"
      ],
      "execution_count": 180,
      "outputs": []
    },
    {
      "cell_type": "code",
      "metadata": {
        "colab": {
          "base_uri": "https://localhost:8080/"
        },
        "id": "_9nyx-BtepE4",
        "outputId": "8d801507-2ac4-4ed9-fe08-083190c4bb81"
      },
      "source": [
        "train_samples[0:5]"
      ],
      "execution_count": 181,
      "outputs": [
        {
          "output_type": "execute_result",
          "data": {
            "text/plain": [
              "[([101, 102], 1),\n",
              " ([101, 102], 1),\n",
              " ([101, 51386, 102], 1),\n",
              " ([101, 106446, 102], 2),\n",
              " ([101, 946, 18243, 102], 1)]"
            ]
          },
          "metadata": {},
          "execution_count": 181
        }
      ]
    },
    {
      "cell_type": "code",
      "metadata": {
        "colab": {
          "base_uri": "https://localhost:8080/"
        },
        "id": "rBxJhEieetFh",
        "outputId": "158b1f97-11bb-4c23-feef-5ea7134f7618"
      },
      "source": [
        "print('Shortest sample:', len(train_samples[0][0]))\n",
        "print('Longest sample:', len(train_samples[-1][0]))"
      ],
      "execution_count": 182,
      "outputs": [
        {
          "output_type": "stream",
          "name": "stdout",
          "text": [
            "Shortest sample: 2\n",
            "Longest sample: 400\n"
          ]
        }
      ]
    },
    {
      "cell_type": "code",
      "metadata": {
        "id": "P44bFOI-e7hW"
      },
      "source": [
        "# Get the new list of lengths after sorting.\n",
        "sorted_lengths = [len(s[0]) for s in train_samples]"
      ],
      "execution_count": 183,
      "outputs": []
    },
    {
      "cell_type": "code",
      "metadata": {
        "colab": {
          "base_uri": "https://localhost:8080/",
          "height": 592
        },
        "id": "9P5ZX99le_G1",
        "outputId": "8800e613-e571-4d0b-9a81-413414abfa98"
      },
      "source": [
        "\n",
        "\n",
        "plt.plot(range(0, len(sorted_lengths)), sorted_lengths)\n",
        "\n",
        "plt.xlabel('Sample Number')\n",
        "plt.ylabel('Sequence Length')\n",
        "plt.title('Samples after Sorting')\n",
        "\n",
        "plt.show()"
      ],
      "execution_count": 184,
      "outputs": [
        {
          "output_type": "display_data",
          "data": {
            "text/plain": [
              "<Figure size 1200x600 with 1 Axes>"
            ],
            "image/png": "[encoded data removed]"
          },
          "metadata": {}
        }
      ]
    },
    {
      "cell_type": "markdown",
      "metadata": {
        "id": "Eh1z0xugfF2t"
      },
      "source": [
        "### Random Batch Selections"
      ]
    },
    {
      "cell_type": "code",
      "metadata": {
        "colab": {
          "base_uri": "https://localhost:8080/"
        },
        "id": "gPrYkFMcgm5H",
        "outputId": "b09deed4-6251-4a8c-f6fe-8dae2de02aa4"
      },
      "source": [
        "train_samples[0]"
      ],
      "execution_count": 185,
      "outputs": [
        {
          "output_type": "execute_result",
          "data": {
            "text/plain": [
              "([101, 102], 1)"
            ]
          },
          "metadata": {},
          "execution_count": 185
        }
      ]
    },
    {
      "cell_type": "code",
      "metadata": {
        "id": "isMxwgezfAvO"
      },
      "source": [
        "batch_size = 16"
      ],
      "execution_count": 186,
      "outputs": []
    },
    {
      "cell_type": "code",
      "metadata": {
        "colab": {
          "base_uri": "https://localhost:8080/"
        },
        "id": "s0tjD8pIfJ0S",
        "outputId": "ef1d338c-80b9-42c0-8e21-798d1534b9da"
      },
      "source": [
        "# List of batches that we'll construct.\n",
        "batch_ordered_sentences = []\n",
        "batch_ordered_labels = []\n",
        "\n",
        "print('Creating training batches of size {:}'.format(batch_size))\n",
        "\n",
        "# Loop over all of the input samples...\n",
        "while len(train_samples) > 0:\n",
        "\n",
        "    # Report progress.\n",
        "    if ((len(batch_ordered_sentences) % 100) == 0):\n",
        "        print('  Selected {:,} batches.'.format(len(batch_ordered_sentences)))\n",
        "\n",
        "    # `to_take` is our actual batch size. It will be `batch_size` until\n",
        "    # we get to the last batch, which may be smaller.\n",
        "    to_take = min(batch_size, len(train_samples))\n",
        "\n",
        "    # Pick a random index in the list of remaining samples to start\n",
        "    # our batch at.\n",
        "    select = random.randint(0, len(train_samples) - to_take)\n",
        "\n",
        "    # Select a contiguous batch of samples starting at `select`.\n",
        "    batch = train_samples[select:(select + to_take)]\n",
        "\n",
        "    # Each sample is a tuple--split them apart to create a separate list of\n",
        "    # sequences and a list of labels for this batch.\n",
        "    batch_ordered_sentences.append([s[0] for s in batch])\n",
        "    batch_ordered_labels.append([s[1] for s in batch])\n",
        "\n",
        "    # Remove these samples from the list.\n",
        "    del train_samples[select:select + to_take]\n",
        "\n",
        "print('\\n  DONE - {:,} batches.'.format(len(batch_ordered_sentences)))"
      ],
      "execution_count": 187,
      "outputs": [
        {
          "output_type": "stream",
          "name": "stdout",
          "text": [
            "Creating training batches of size 16\n",
            "  Selected 0 batches.\n",
            "  Selected 100 batches.\n",
            "  Selected 200 batches.\n",
            "  Selected 300 batches.\n",
            "  Selected 400 batches.\n",
            "\n",
            "  DONE - 413 batches.\n"
          ]
        }
      ]
    },
    {
      "cell_type": "code",
      "metadata": {
        "colab": {
          "base_uri": "https://localhost:8080/"
        },
        "id": "rf91Dd3LhBaP",
        "outputId": "088828a3-87f5-4045-db3d-dce8fee5705e"
      },
      "source": [
        "print(batch_ordered_sentences[0])"
      ],
      "execution_count": 188,
      "outputs": [
        {
          "output_type": "stream",
          "name": "stdout",
          "text": [
            "[[101, 72065, 971, 28725, 12051, 970, 65240, 111240, 15002, 13228, 13104, 11128, 90738, 28777, 920, 108, 29005, 11587, 11281, 38039, 11090, 11233, 12051, 80501, 17511, 15215, 29740, 12235, 99092, 17460, 11248, 106, 106, 106, 29740, 12235, 99092, 978, 64437, 72614, 11128, 12051, 968, 12079, 92910, 22335, 12079, 97303, 960, 55971, 47719, 81323, 12711, 920, 80501, 17511, 15215, 109477, 27790, 41808, 14704, 26788, 15613, 950, 21790, 110153, 13104, 16755, 972, 53294, 61777, 938, 13104, 11128, 111240, 34070, 20513, 20430, 29740, 12235, 99092, 17460, 12711, 920, 946, 40061, 38833, 29740, 12235, 17511, 11128, 111240, 40433, 12051, 14374, 953, 11199, 38695, 12079, 28517, 53761, 119, 119, 119, 950, 80187, 18513, 955, 19910, 944, 36715, 974, 96105, 938, 22335, 113, 946, 26710, 14998, 114, 102], [101, 87664, 967, 68988, 42783, 12051, 938, 37376, 97507, 10595, 10336, 920, 60788, 978, 15002, 111240, 22335, 21790, 29904, 939, 54632, 44990, 20066, 12051, 80501, 17511, 15215, 948, 74501, 20979, 22335, 21790, 15258, 111236, 13542, 20066, 106, 938, 37376, 45201, 966, 18770, 22282, 112, 169, 970, 15215, 72593, 11128, 967, 14998, 35003, 938, 37376, 33478, 10354, 52082, 32144, 971, 110759, 111235, 15010, 18601, 22756, 54253, 970, 27268, 32437, 40349, 20066, 920, 953, 15002, 13542, 79932, 106, 72880, 117, 974, 15002, 111234, 56932, 31803, 117, 973, 64010, 938, 71943, 12235, 107, 59230, 98436, 107, 28943, 937, 11737, 29261, 102433, 13100, 40502, 951, 18513, 15613, 117, 14248, 20266, 95386, 58335, 10116, 118, 59230, 98436, 968, 11199, 15613, 955, 29484, 20725, 12079, 106, 102], [101, 946, 24758, 13458, 117, 938, 55077, 970, 82825, 938, 55631, 18243, 41330, 61216, 24288, 117, 14112, 42579, 119, 12882, 971, 28725, 948, 78639, 78639, 968, 78639, 37903, 17660, 60164, 15613, 938, 37376, 80906, 938, 92910, 97507, 950, 37422, 50537, 58354, 920, 12051, 938, 55631, 18243, 41330, 117, 14112, 979, 112, 975, 970, 12235, 38044, 12235, 971, 28725, 948, 78639, 78639, 968, 78639, 37903, 17660, 60164, 15613, 26788, 13104, 920, 80501, 17511, 15215, 117, 29740, 12235, 99092, 117, 58417, 56078, 117, 41808, 978, 15002, 83924, 976, 27608, 111240, 34070, 102069, 99525, 13228, 10472, 10269, 111691, 25790, 111691, 111044, 110961, 12711, 206, 1807, 25790, 111691, 111044, 110961, 969, 92611, 968, 11199, 15613, 937, 85005, 74080, 28517, 968, 15010, 43468, 26109, 206, 102], [101, 70472, 13542, 75114, 11128, 38833, 93418, 17634, 30510, 11199, 978, 64437, 72614, 11128, 948, 54632, 12235, 976, 22335, 920, 971, 28725, 56078, 60398, 97507, 24288, 15613, 12051, 963, 16166, 34070, 15010, 111230, 52706, 12051, 953, 13104, 28799, 18513, 959, 18770, 32359, 12079, 948, 54632, 12235, 77221, 117, 968, 30831, 72659, 117, 938, 15258, 28799, 938, 37376, 953, 11199, 38695, 12079, 13334, 53574, 12235, 109003, 938, 89437, 11199, 15002, 12051, 969, 30831, 33072, 969, 16166, 38044, 938, 89437, 11199, 15002, 971, 28725, 920, 953, 15002, 45284, 35884, 29740, 12235, 99092, 12051, 971, 28725, 16431, 938, 39427, 40652, 920, 43956, 32144, 969, 30831, 33072, 969, 16166, 38044, 950, 16166, 20513, 29454, 12051, 968, 100764, 74364, 17660, 57963, 15613, 42030, 11737, 920, 102], [101, 944, 36715, 978, 13542, 15215, 12235, 14998, 14374, 971, 28725, 955, 29484, 20725, 12079, 920, 963, 30277, 20979, 74282, 11737, 119, 32144, 938, 39427, 40652, 18262, 971, 28725, 920, 95386, 938, 29904, 39414, 11199, 13228, 19668, 920, 80501, 17511, 15215, 971, 28725, 920, 71083, 14176, 80501, 17511, 15215, 978, 13542, 15215, 12235, 14998, 972, 105495, 77960, 12051, 973, 83807, 15258, 22756, 72177, 50477, 15215, 920, 14112, 955, 29484, 20725, 69145, 12235, 965, 15002, 111240, 76939, 117, 970, 11737, 66199, 16166, 12051, 29740, 12235, 87828, 17634, 971, 28725, 920, 32144, 937, 61596, 15215, 70115, 11128, 967, 13104, 92910, 108560, 978, 64437, 72614, 11128, 119, 119, 119, 119, 119, 938, 55077, 100024, 70295, 53574, 16166, 14998, 968, 53574, 104306, 100, 920, 102], [101, 29740, 12235, 89991, 56078, 966, 27608, 12051, 971, 13228, 111229, 66946, 11128, 20066, 920, 978, 33072, 55971, 12051, 960, 12235, 15002, 968, 102712, 43468, 920, 978, 33072, 55971, 937, 11128, 66199, 55971, 953, 11128, 29806, 12235, 20066, 920, 87519, 10901, 71083, 13104, 70529, 12079, 20066, 107, 946, 26145, 106, 938, 15002, 28410, 14374, 58169, 978, 11128, 19910, 28410, 26145, 56836, 40560, 107, 920, 14192, 52038, 969, 11421, 13542, 967, 41602, 12051, 938, 55631, 16755, 41431, 971, 78639, 59712, 937, 80045, 84466, 12711, 40349, 920, 960, 12235, 15002, 959, 18770, 32359, 12079, 20066, 920, 80501, 63926, 11128, 17634, 14112, 955, 29484, 20725, 12079, 14339, 965, 111236, 30806, 964, 105069, 64437, 920, 17660, 11128, 951, 18513, 32294, 975, 102433, 50537, 920, 102], [101, 938, 37376, 32144, 39893, 20725, 12079, 968, 111240, 28799, 53883, 26788, 971, 40685, 18513, 12051, 978, 15010, 111240, 80045, 15258, 953, 15010, 106203, 954, 92525, 21138, 10929, 958, 81661, 13228, 965, 58354, 20066, 938, 87972, 42339, 920, 938, 37376, 52038, 14998, 76200, 25757, 944, 29993, 72065, 80501, 28410, 22335, 968, 111240, 28799, 53883, 948, 12235, 948, 42651, 53294, 950, 16166, 20513, 29454, 12051, 29740, 12235, 55631, 20513, 51743, 970, 12235, 19910, 21790, 13542, 12711, 920, 50503, 938, 89437, 11199, 15002, 937, 84214, 15010, 28517, 14112, 971, 30277, 968, 53574, 104306, 971, 11128, 45947, 69514, 12235, 20066, 12051, 14374, 971, 102433, 15215, 937, 29904, 56078, 81084, 62285, 920, 978, 13542, 15215, 12235, 14998, 14112, 937, 80214, 45947, 16166, 38695, 920, 102], [101, 80501, 28410, 22335, 965, 16431, 58883, 11737, 117, 937, 61596, 17511, 21790, 18601, 84191, 16755, 920, 968, 21790, 16431, 118, 65288, 22335, 131, 938, 71943, 12235, 107, 941, 99182, 13542, 107, 28517, 953, 18770, 117, 969, 39994, 15691, 27556, 978, 15002, 111240, 22335, 21790, 106352, 13228, 978, 62855, 63297, 17660, 105495, 53294, 11128, 26109, 955, 47719, 11199, 76200, 944, 36715, 978, 16166, 15258, 111240, 22335, 38695, 24288, 21685, 34070, 968, 12079, 107645, 951, 18513, 20979, 15258, 38833, 13458, 971, 28725, 978, 15002, 111240, 29454, 17460, 944, 965, 11199, 109967, 76677, 14704, 32144, 58417, 18513, 978, 111231, 111240, 39427, 28725, 11737, 970, 11421, 33202, 953, 11199, 38695, 12079, 978, 62855, 63297, 97303, 74501, 93418, 40560, 13334, 33151, 40502, 42030, 920, 102], [101, 100024, 18939, 16070, 968, 80187, 95984, 16755, 119, 119, 119, 14770, 17634, 53453, 16070, 48201, 11008, 55400, 938, 19910, 22875, 15215, 13104, 978, 29806, 30831, 38833, 15215, 13104, 11128, 117, 171, 12125, 16740, 117, 978, 16166, 15258, 29806, 101655, 16166, 18939, 16070, 119, 119, 119, 976, 63297, 13458, 29740, 12235, 99092, 119, 119, 119, 978, 15002, 83924, 978, 12079, 22875, 21790, 70373, 968, 56173, 970, 11737, 66199, 98191, 29806, 22335, 83637, 968, 40685, 18243, 24383, 119, 119, 119, 59136, 57189, 89991, 56237, 41939, 49627, 953, 12079, 29740, 12235, 22335, 111236, 11128, 13104, 948, 96397, 11199, 119, 119, 119, 26109, 948, 16431, 92269, 18262, 58347, 46438, 920, 119, 119, 944, 36715, 28777, 36715, 953, 40685, 28799, 111231, 106203, 920, 119, 119, 102], [101, 31803, 970, 11128, 106203, 15215, 920, 938, 37376, 109477, 70295, 97507, 938, 24383, 968, 11199, 15613, 28517, 42030, 26109, 79092, 97507, 14374, 50009, 75247, 949, 100970, 20066, 920, 938, 55631, 18243, 968, 15010, 66946, 43016, 33202, 17634, 109, 10150, 965, 41602, 953, 102712, 61216, 920, 948, 12235, 27790, 24288, 970, 16431, 58883, 106, 123, 71839, 948, 74364, 15258, 55631, 15258, 93915, 920, 938, 37376, 975, 68988, 15215, 13334, 53574, 12235, 87664, 50477, 15215, 75188, 12051, 18601, 111230, 11199, 18601, 111230, 59712, 939, 89362, 110013, 11737, 46085, 16431, 92839, 41431, 972, 63820, 953, 102712, 24355, 920, 14439, 63497, 10112, 12051, 971, 28725, 29956, 71339, 10107, 920, 938, 37376, 971, 28725, 37855, 938, 55077, 31803, 12051, 100945, 52082, 948, 12235, 40560, 920, 102], [101, 52038, 14998, 938, 37376, 950, 89255, 11199, 24383, 970, 13104, 27556, 955, 16166, 86005, 14112, 938, 80214, 20066, 77745, 10911, 119, 119, 10319, 955, 16166, 86005, 938, 19910, 11128, 106203, 20979, 73696, 10245, 978, 15002, 111240, 29454, 41431, 953, 12235, 26145, 33664, 954, 92525, 948, 94686, 27608, 12079, 953, 15002, 13542, 79932, 937, 71416, 15215, 20066, 920, 92839, 969, 28410, 45733, 968, 80198, 12079, 971, 28725, 20066, 117, 89954, 43956, 17660, 20979, 15613, 42030, 944, 36715, 971, 28725, 944, 36715, 14374, 976, 54464, 128, 120, 10150, 20066, 920, 10262, 10341, 17660, 11128, 88213, 15010, 26109, 24288, 950, 105525, 20725, 28725, 41431, 968, 39414, 11199, 37289, 18601, 22756, 15258, 117, 938, 37376, 25757, 14374, 124, 120, 10150, 965, 11199, 49178, 20066, 102], [101, 938, 15002, 28410, 124, 972, 29261, 20725, 27268, 968, 30831, 72659, 938, 87972, 12051, 25757, 41954, 28777, 951, 67366, 12079, 84294, 29740, 12235, 99092, 11737, 14704, 920, 29740, 12235, 99092, 108560, 955, 47719, 11199, 955, 55631, 24758, 13542, 79092, 20066, 26109, 35003, 978, 12079, 89362, 77045, 958, 21790, 40685, 13104, 43956, 83749, 13334, 920, 938, 37376, 32144, 124, 17660, 11128, 61607, 976, 19910, 72614, 972, 11737, 38833, 11128, 117, 35003, 43956, 52038, 14199, 12235, 920, 968, 30831, 72659, 971, 28725, 20066, 117, 35003, 938, 15002, 28410, 968, 30831, 72659, 26788, 15613, 37289, 972, 29261, 20725, 27268, 58347, 22466, 967, 12235, 920, 968, 30831, 72659, 29740, 12235, 55631, 20513, 971, 28725, 20066, 920, 10911, 12871, 10133, 108560, 971, 28725, 20066, 920, 102], [101, 14112, 90177, 11199, 972, 110742, 11199, 63380, 117, 14374, 965, 58354, 111240, 80045, 13104, 979, 11199, 111219, 39427, 58883, 14192, 948, 111240, 34070, 15002, 22875, 97526, 12051, 937, 22335, 83637, 12079, 62855, 14704, 12711, 920, 938, 37376, 14112, 955, 29484, 20725, 12079, 969, 92611, 938, 15258, 15613, 17660, 25757, 978, 16166, 22335, 15010, 102916, 948, 11128, 49178, 26109, 920, 80501, 17511, 15215, 117, 978, 16166, 15258, 29806, 101655, 16166, 17660, 13228, 16166, 15002, 20513, 32359, 13458, 937, 13542, 40685, 56251, 64437, 15691, 35003, 971, 12235, 52706, 949, 16431, 111219, 57963, 946, 29740, 12235, 39427, 107137, 11128, 109477, 70295, 80501, 28410, 22335, 920, 938, 71943, 15010, 978, 11737, 66199, 79858, 12051, 938, 71943, 15010, 100945, 92839, 42783, 970, 15215, 13228, 920, 102], [101, 978, 22756, 20725, 90535, 11128, 17634, 965, 29261, 72614, 60958, 955, 29484, 20725, 12079, 106, 32144, 28943, 978, 22756, 20725, 63297, 97303, 74501, 13100, 938, 14998, 13104, 11737, 104318, 11128, 14374, 950, 18770, 946, 22335, 47719, 18770, 26145, 16431, 950, 102712, 61216, 26788, 108560, 978, 64437, 72614, 11128, 12051, 938, 55077, 968, 70529, 970, 27268, 13458, 950, 18770, 14176, 976, 82825, 15010, 17634, 106, 938, 37376, 59136, 105069, 23866, 950, 100970, 15002, 978, 13542, 15215, 12235, 14998, 59136, 105069, 106, 80501, 17511, 15215, 106, 938, 15002, 28410, 71083, 95080, 80501, 14998, 46406, 14112, 34867, 978, 22756, 20725, 63297, 38583, 80501, 36213, 106, 938, 37376, 106681, 97507, 24288, 15613, 968, 53574, 104306, 948, 11128, 19910, 119, 119, 119, 131, 960, 12235, 102], [101, 955, 29484, 20725, 69145, 12235, 944, 67366, 74364, 117, 978, 29261, 74080, 970, 15215, 106676, 938, 22335, 20725, 80187, 38044, 72567, 920, 968, 15010, 66946, 43016, 45201, 40560, 920, 971, 28725, 970, 15215, 19910, 56251, 18770, 920, 37855, 36715, 965, 58354, 12235, 117, 46406, 976, 60958, 967, 111238, 22875, 61596, 16431, 72061, 11128, 17634, 941, 22335, 84466, 920, 80501, 36213, 14176, 29740, 12235, 99092, 11737, 28517, 97717, 37855, 36715, 31803, 101647, 920, 46406, 80501, 36213, 14176, 976, 28725, 81337, 43956, 968, 21790, 99092, 11421, 31803, 32144, 937, 29904, 39414, 15691, 11199, 976, 16166, 61596, 11199, 39427, 111240, 53574, 12079, 955, 44465, 13228, 117, 26788, 938, 55077, 941, 13458, 111240, 28799, 42651, 28517, 53761, 117, 26788, 965, 29261, 72614, 60958, 920, 102], [101, 978, 13542, 15215, 12235, 14998, 938, 55077, 970, 11737, 66199, 16166, 16755, 20430, 948, 24758, 100703, 11128, 22904, 28777, 36715, 953, 15002, 45284, 35884, 100, 119, 119, 14812, 32465, 113, 10255, 114, 27834, 117, 938, 15002, 28410, 14112, 11135, 14601, 119, 10188, 944, 939, 54632, 44990, 968, 15010, 33072, 12235, 965, 12235, 47356, 14112, 938, 15002, 28410, 14112, 948, 12079, 54632, 11199, 119, 12051, 950, 13542, 58883, 13458, 938, 15002, 28410, 958, 21790, 29484, 12079, 62855, 42620, 11135, 14601, 119, 17551, 80501, 36213, 946, 938, 29904, 39414, 11199, 13228, 19668, 106681, 14374, 939, 54632, 44990, 11199, 938, 13228, 109331, 77221, 958, 21790, 29484, 12079, 62855, 42620, 948, 12079, 54632, 11199, 14339, 971, 28725, 119, 119, 69892, 53372, 119, 119, 119, 102]]\n"
          ]
        }
      ]
    },
    {
      "cell_type": "code",
      "metadata": {
        "colab": {
          "base_uri": "https://localhost:8080/"
        },
        "id": "qmkQK_gVgiTu",
        "outputId": "a77c631d-4407-4e48-895c-51b6e2de0895"
      },
      "source": [
        "batch_ordered_labels[0]"
      ],
      "execution_count": 189,
      "outputs": [
        {
          "output_type": "execute_result",
          "data": {
            "text/plain": [
              "[2, 2, 2, 0, 2, 0, 0, 0, 2, 0, 2, 2, 0, 1, 1, 2]"
            ]
          },
          "metadata": {},
          "execution_count": 189
        }
      ]
    },
    {
      "cell_type": "markdown",
      "metadata": {
        "id": "xZ0TFA8Mfn6m"
      },
      "source": [
        "### Padding"
      ]
    },
    {
      "cell_type": "code",
      "metadata": {
        "id": "c9rdswcpfTip"
      },
      "source": [
        "py_inputs = []\n",
        "py_attn_masks = []\n",
        "py_labels = []\n",
        "\n",
        "# For each batch...\n",
        "for (batch_inputs, batch_labels) in zip(batch_ordered_sentences, batch_ordered_labels):\n",
        "\n",
        "    # New version of the batch, this time with padded sequences and now with\n",
        "    # attention masks defined.\n",
        "    batch_padded_inputs = []\n",
        "    batch_attn_masks = []\n",
        "\n",
        "    # First, find the longest sample in the batch.\n",
        "    # Note that the sequences do currently include the special tokens!\n",
        "    max_size = max([len(sen) for sen in batch_inputs])\n",
        "\n",
        "    #print('Max size:', max_size)\n",
        "\n",
        "    # For each input in this batch...\n",
        "    for sen in batch_inputs:\n",
        "\n",
        "        # How many pad tokens do we need to add?\n",
        "        num_pads = max_size - len(sen)\n",
        "\n",
        "        # Add `num_pads` padding tokens to the end of the sequence.\n",
        "        padded_input = sen + [tokenizer.pad_token_id]*num_pads\n",
        "\n",
        "        # Define the attention mask--it's just a `1` for every real token\n",
        "        # and a `0` for every padding token.\n",
        "        attn_mask = [1] * len(sen) + [0] * num_pads\n",
        "\n",
        "        # Add the padded results to the batch.\n",
        "        batch_padded_inputs.append(padded_input)\n",
        "        batch_attn_masks.append(attn_mask)\n",
        "\n",
        "    # Our batch has been padded, so we need to save this updated batch.\n",
        "    # We also need the inputs to be PyTorch tensors, so we'll do that here.\n",
        "    py_inputs.append(torch.tensor(batch_padded_inputs))\n",
        "    py_attn_masks.append(torch.tensor(batch_attn_masks))\n",
        "    py_labels.append(torch.tensor(batch_labels))\n"
      ],
      "execution_count": 190,
      "outputs": []
    },
    {
      "cell_type": "markdown",
      "metadata": {
        "id": "roS5lLWdX-5J"
      },
      "source": [
        "### Check the number of token reductions because of smart batching"
      ]
    },
    {
      "cell_type": "code",
      "metadata": {
        "colab": {
          "base_uri": "https://localhost:8080/"
        },
        "id": "wlh7cteVfroV",
        "outputId": "ff15772f-a717-49d8-c8c8-530645e618e5"
      },
      "source": [
        "# Get the new list of lengths after sorting.\n",
        "\n",
        "padded_lengths = []\n",
        "\n",
        "# For each batch...\n",
        "for batch in py_inputs:\n",
        "\n",
        "    # For each sample...\n",
        "    for s in batch:\n",
        "\n",
        "        # Record its length.\n",
        "        padded_lengths.append(len(s))\n",
        "\n",
        "# Sum up the lengths to the get the total number of tokens after smart batching.\n",
        "smart_token_count = np.sum(padded_lengths)\n",
        "\n",
        "# To get the total number of tokens in the dataset using fixed padding, it's\n",
        "# as simple as the number of samples times our `max_len` parameter (that we\n",
        "# would pad everything to).\n",
        "fixed_token_count = len(train_sentences) * max_input_length\n",
        "\n",
        "# Calculate the percentage reduction.\n",
        "prcnt_reduced = (fixed_token_count - smart_token_count) / float(fixed_token_count)\n",
        "\n",
        "print('Total tokens:')\n",
        "print('   Fixed Padding: {:,}'.format(fixed_token_count))\n",
        "print('  Smart Batching: {:,}  ({:.1%} less)'.format(smart_token_count, prcnt_reduced))\n"
      ],
      "execution_count": 191,
      "outputs": [
        {
          "output_type": "stream",
          "name": "stdout",
          "text": [
            "Total tokens:\n",
            "   Fixed Padding: 2,640,800\n",
            "  Smart Batching: 614,384  (76.7% less)\n"
          ]
        }
      ]
    },
    {
      "cell_type": "markdown",
      "metadata": {
        "id": "8wgdhsI-YIAL"
      },
      "source": [
        "## Load the model configuration from the transformers library using AutoConfig"
      ]
    },
    {
      "cell_type": "code",
      "metadata": {
        "colab": {
          "base_uri": "https://localhost:8080/"
        },
        "id": "9er7EHvdfudf",
        "outputId": "5c277915-77b9-46c9-c3e8-68cd1fdbe613"
      },
      "source": [
        "# Load the Config object, with an output configured for classification.\n",
        "config = AutoConfig.from_pretrained(pretrained_model_name_or_path=model_name,\n",
        "                                    num_labels=6)\n",
        "\n",
        "print('Config type:', str(type(config)), '\\n')\n"
      ],
      "execution_count": 192,
      "outputs": [
        {
          "output_type": "stream",
          "name": "stdout",
          "text": [
            "Config type: <class 'transformers.models.bert.configuration_bert.BertConfig'> \n",
            "\n"
          ]
        }
      ]
    },
    {
      "cell_type": "code",
      "metadata": {
        "colab": {
          "base_uri": "https://localhost:8080/",
          "height": 156,
          "referenced_widgets": [
            "8bc4cb10133045c886bf33f03956c8f1",
            "65e29705b20d4880824633edca31578b",
            "e0a2723b570343a4a3bd5b6566651c34",
            "af22c1ea5e484c15b6697ff7051a1bf0",
            "160b405092cd4e559caa80a6d9c3d09c",
            "1fc400601a9044e0860a5a4a81a37342",
            "2eb8ce24c25145fb99ea8d4ca2e5aac7",
            "bb0585a1f64c49c2855a800ec24eb565",
            "caf858b79280437f809757ced4f34f13",
            "9a80d1931d114e349f9bf298b628613f",
            "65230188f03d472f957a2017d233eb9c"
          ]
        },
        "id": "bWvc9Ikv4HtD",
        "outputId": "ac8ae4e9-71c6-487e-a22a-444390085ee5"
      },
      "source": [
        "model = AutoModelForSequenceClassification.from_pretrained(pretrained_model_name_or_path=model_name,config = config)"
      ],
      "execution_count": 193,
      "outputs": [
        {
          "output_type": "display_data",
          "data": {
            "text/plain": [
              "Downloading model.safetensors:   0%|          | 0.00/714M [00:00<?, ?B/s]"
            ],
            "application/vnd.jupyter.widget-view+json": {
              "version_major": 2,
              "version_minor": 0,
              "model_id": "8bc4cb10133045c886bf33f03956c8f1"
            }
          },
          "metadata": {}
        },
        {
          "output_type": "stream",
          "name": "stderr",
          "text": [
            "Some weights of the model checkpoint at bert-base-multilingual-cased were not used when initializing BertForSequenceClassification: ['cls.predictions.transform.LayerNorm.weight', 'cls.predictions.bias', 'cls.predictions.transform.LayerNorm.bias', 'cls.predictions.transform.dense.bias', 'cls.seq_relationship.bias', 'cls.seq_relationship.weight', 'cls.predictions.transform.dense.weight']\n",
            "- This IS expected if you are initializing BertForSequenceClassification from the checkpoint of a model trained on another task or with another architecture (e.g. initializing a BertForSequenceClassification model from a BertForPreTraining model).\n",
            "- This IS NOT expected if you are initializing BertForSequenceClassification from the checkpoint of a model that you expect to be exactly identical (initializing a BertForSequenceClassification model from a BertForSequenceClassification model).\n",
            "Some weights of BertForSequenceClassification were not initialized from the model checkpoint at bert-base-multilingual-cased and are newly initialized: ['classifier.bias', 'classifier.weight']\n",
            "You should probably TRAIN this model on a down-stream task to be able to use it for predictions and inference.\n"
          ]
        }
      ]
    },
    {
      "cell_type": "code",
      "metadata": {
        "colab": {
          "base_uri": "https://localhost:8080/"
        },
        "id": "Xouf5M2B55ei",
        "outputId": "896e17c4-428e-437c-eacc-4ede39140c1b"
      },
      "source": [
        "model.cuda()"
      ],
      "execution_count": 194,
      "outputs": [
        {
          "output_type": "execute_result",
          "data": {
            "text/plain": [
              "BertForSequenceClassification(\n",
              "  (bert): BertModel(\n",
              "    (embeddings): BertEmbeddings(\n",
              "      (word_embeddings): Embedding(119547, 768, padding_idx=0)\n",
              "      (position_embeddings): Embedding(512, 768)\n",
              "      (token_type_embeddings): Embedding(2, 768)\n",
              "      (LayerNorm): LayerNorm((768,), eps=1e-12, elementwise_affine=True)\n",
              "      (dropout): Dropout(p=0.1, inplace=False)\n",
              "    )\n",
              "    (encoder): BertEncoder(\n",
              "      (layer): ModuleList(\n",
              "        (0-11): 12 x BertLayer(\n",
              "          (attention): BertAttention(\n",
              "            (self): BertSelfAttention(\n",
              "              (query): Linear(in_features=768, out_features=768, bias=True)\n",
              "              (key): Linear(in_features=768, out_features=768, bias=True)\n",
              "              (value): Linear(in_features=768, out_features=768, bias=True)\n",
              "              (dropout): Dropout(p=0.1, inplace=False)\n",
              "            )\n",
              "            (output): BertSelfOutput(\n",
              "              (dense): Linear(in_features=768, out_features=768, bias=True)\n",
              "              (LayerNorm): LayerNorm((768,), eps=1e-12, elementwise_affine=True)\n",
              "              (dropout): Dropout(p=0.1, inplace=False)\n",
              "            )\n",
              "          )\n",
              "          (intermediate): BertIntermediate(\n",
              "            (dense): Linear(in_features=768, out_features=3072, bias=True)\n",
              "            (intermediate_act_fn): GELUActivation()\n",
              "          )\n",
              "          (output): BertOutput(\n",
              "            (dense): Linear(in_features=3072, out_features=768, bias=True)\n",
              "            (LayerNorm): LayerNorm((768,), eps=1e-12, elementwise_affine=True)\n",
              "            (dropout): Dropout(p=0.1, inplace=False)\n",
              "          )\n",
              "        )\n",
              "      )\n",
              "    )\n",
              "    (pooler): BertPooler(\n",
              "      (dense): Linear(in_features=768, out_features=768, bias=True)\n",
              "      (activation): Tanh()\n",
              "    )\n",
              "  )\n",
              "  (dropout): Dropout(p=0.1, inplace=False)\n",
              "  (classifier): Linear(in_features=768, out_features=6, bias=True)\n",
              ")"
            ]
          },
          "metadata": {},
          "execution_count": 194
        }
      ]
    },
    {
      "cell_type": "markdown",
      "metadata": {
        "id": "SXJHBVlxYR-l"
      },
      "source": [
        "## Load the model from the transformers library using AutoModel"
      ]
    },
    {
      "cell_type": "code",
      "metadata": {
        "id": "n8J4r6KyhveR",
        "colab": {
          "base_uri": "https://localhost:8080/"
        },
        "outputId": "af5d2076-3b8b-4c39-b9df-855edbc2799b"
      },
      "source": [
        "# Load the pre-trained model for classification, passing in the `config` from\n",
        "# above.\n",
        "bert = AutoModel.from_pretrained(\n",
        "    pretrained_model_name_or_path=model_name,\n",
        "    config=config)\n",
        "\n",
        "print('\\nModel type:', str(type(bert)))\n"
      ],
      "execution_count": 195,
      "outputs": [
        {
          "output_type": "stream",
          "name": "stderr",
          "text": [
            "Some weights of the model checkpoint at bert-base-multilingual-cased were not used when initializing BertModel: ['cls.predictions.transform.LayerNorm.weight', 'cls.predictions.bias', 'cls.predictions.transform.LayerNorm.bias', 'cls.predictions.transform.dense.bias', 'cls.seq_relationship.bias', 'cls.seq_relationship.weight', 'cls.predictions.transform.dense.weight']\n",
            "- This IS expected if you are initializing BertModel from the checkpoint of a model trained on another task or with another architecture (e.g. initializing a BertForSequenceClassification model from a BertForPreTraining model).\n",
            "- This IS NOT expected if you are initializing BertModel from the checkpoint of a model that you expect to be exactly identical (initializing a BertForSequenceClassification model from a BertForSequenceClassification model).\n"
          ]
        },
        {
          "output_type": "stream",
          "name": "stdout",
          "text": [
            "\n",
            "Model type: <class 'transformers.models.bert.modeling_bert.BertModel'>\n"
          ]
        }
      ]
    },
    {
      "cell_type": "code",
      "metadata": {
        "id": "RcFMgf5EuPAF"
      },
      "source": [
        "# freeze all the parameters\n",
        "for param in bert.parameters():\n",
        "    param.requires_grad = False"
      ],
      "execution_count": 196,
      "outputs": []
    },
    {
      "cell_type": "markdown",
      "metadata": {
        "id": "evYV0yrQ2u_b"
      },
      "source": [
        "## Loading Optimizer"
      ]
    },
    {
      "cell_type": "code",
      "metadata": {
        "id": "8tAijXBEh7t8",
        "colab": {
          "base_uri": "https://localhost:8080/"
        },
        "outputId": "f57ef1f9-0994-432e-8561-d11ae20e9e46"
      },
      "source": [
        "# Note: AdamW is a class from the huggingface library (as opposed to pytorch)\n",
        "# I believe the 'W' stands for 'Weight Decay fix\"\n",
        "optimizer = AdamW(model.parameters(),\n",
        "                  lr = 2e-5, # This is the value Michael used.\n",
        "                  eps = 1e-8 # args.adam_epsilon  - default is 1e-8.\n",
        "                )\n"
      ],
      "execution_count": 197,
      "outputs": [
        {
          "output_type": "stream",
          "name": "stderr",
          "text": [
            "/usr/local/lib/python3.10/dist-packages/transformers/optimization.py:411: FutureWarning: This implementation of AdamW is deprecated and will be removed in a future version. Use the PyTorch implementation torch.optim.AdamW instead, or set `no_deprecation_warning=True` to disable this warning\n",
            "  warnings.warn(\n"
          ]
        }
      ]
    },
    {
      "cell_type": "markdown",
      "metadata": {
        "id": "s9n3_5jI2ywo"
      },
      "source": [
        "## Loading lr scheduler"
      ]
    },
    {
      "cell_type": "code",
      "metadata": {
        "id": "agidP6D6iBFI"
      },
      "source": [
        "# Number of training epochs. I chose to train for 1 simply because the training\n",
        "# time is long. More epochs may improve the model's accuracy.\n",
        "epochs = 5\n",
        "\n",
        "# Total number of training steps is [number of batches] x [number of epochs].\n",
        "# Note that it's the number of *batches*, not *samples*!\n",
        "total_steps = len(py_inputs) * epochs\n",
        "\n",
        "# Create the learning rate scheduler.\n",
        "scheduler = get_linear_schedule_with_warmup(optimizer,\n",
        "                                            num_warmup_steps = 0, # Default value in run_glue.py\n",
        "                                            num_training_steps = total_steps)"
      ],
      "execution_count": 198,
      "outputs": []
    },
    {
      "cell_type": "markdown",
      "metadata": {
        "id": "MDDp05Cm245e"
      },
      "source": [
        "## Training Loop"
      ]
    },
    {
      "cell_type": "code",
      "metadata": {
        "id": "H4ERR8fBiEJn",
        "colab": {
          "base_uri": "https://localhost:8080/"
        },
        "outputId": "b6925ac1-c90c-4524-8b52-be538af1a1e4"
      },
      "source": [
        "# We'll store a number of quantities such as training and validation loss,\n",
        "# validation accuracy, and timings.\n",
        "training_stats = {\n",
        "    'epoch':[],\n",
        "    'train_loss':[],\n",
        "    'Training Time':[],\n",
        "    'val_loss':[],\n",
        "    'Validation Time':[],\n",
        "    'train_acc':[],\n",
        "    'val_acc':[]\n",
        "}\n",
        "\n",
        "# Update every `update_interval` batches.\n",
        "update_interval = good_update_interval(total_iters=len(py_inputs), num_desired_updates=10)\n",
        "\n",
        "# Measure the total training time for the whole run.\n",
        "total_t0 = time.time()\n",
        "\n",
        "# For each epoch...\n",
        "for epoch_i in range(0, epochs):\n",
        "\n",
        "    predictions = []\n",
        "    true_labels = []\n",
        "\n",
        "    # ========================================\n",
        "    #               Training\n",
        "    # ========================================\n",
        "\n",
        "    # Perform one full pass over the training set.\n",
        "\n",
        "    print(\"\")\n",
        "    print('======== Epoch {:} / {:} ========'.format(epoch_i + 1, epochs))\n",
        "\n",
        "    # At the start of each epoch (except for the first) we need to re-randomize\n",
        "    # our training data.\n",
        "    if epoch_i > 0:\n",
        "        # Use our `make_smart_batches` function (from 6.1.) to re-shuffle the\n",
        "        # dataset into new batches.\n",
        "        (py_inputs, py_attn_masks, py_labels) = make_smart_batches(train_sentences, train_labels, batch_size,tokenizer,max_input_length)\n",
        "\n",
        "    print('Training on {:,} batches...'.format(len(py_inputs)))\n",
        "\n",
        "    # Measure how long the training epoch takes.\n",
        "    t0 = time.time()\n",
        "\n",
        "    # Reset the total loss for this epoch.\n",
        "    total_train_loss = 0\n",
        "\n",
        "    # Put the model into training mode. Don't be mislead--the call to\n",
        "    # `train` just changes the *mode*, it doesn't *perform* the training.\n",
        "    # `dropout` and `batchnorm` layers behave differently during training\n",
        "    # vs. test (source: https://stackoverflow.com/questions/51433378/what-does-model-train-do-in-pytorch)\n",
        "    model.train()\n",
        "\n",
        "    # For each batch of training data...\n",
        "    for step in range(0, len(py_inputs)):\n",
        "\n",
        "        # Progress update every, e.g., 100 batches.\n",
        "        if step % update_interval == 0 and not step == 0:\n",
        "            # Calculate elapsed time in minutes.\n",
        "            elapsed = format_time(time.time() - t0)\n",
        "\n",
        "            # Calculate the time remaining based on our progress.\n",
        "            steps_per_sec = (time.time() - t0) / step\n",
        "            remaining_sec = steps_per_sec * (len(py_inputs) - step)\n",
        "            remaining = format_time(remaining_sec)\n",
        "\n",
        "            # Report progress.\n",
        "            print('  Batch {:>7,}  of  {:>7,}.    Elapsed: {:}.  Remaining: {:}'.format(step, len(py_inputs), elapsed, remaining))\n",
        "\n",
        "        # Copy the current training batch to the GPU using the `to` method.\n",
        "        b_input_ids = py_inputs[step].to(device)\n",
        "        b_input_mask = py_attn_masks[step].to(device)\n",
        "        b_labels = py_labels[step].to(device)\n",
        "\n",
        "        # Always clear any previously calculated gradients before performing a\n",
        "        # backward pass.\n",
        "        model.zero_grad()\n",
        "\n",
        "        # Perform a forward pass (evaluate the model on this training batch).\n",
        "        # The call returns the loss (because we provided labels) and the\n",
        "        # \"logits\"--the model outputs prior to activation.\n",
        "        output = model(b_input_ids,\n",
        "                             token_type_ids=None,\n",
        "                             attention_mask=b_input_mask,\n",
        "                             labels=b_labels)\n",
        "\n",
        "        # Accumulate the training loss over all of the batches so that we can\n",
        "        # calculate the average loss at the end. `loss` is a Tensor containing a\n",
        "        # single value; the `.item()` function just returns the Python value\n",
        "        # from the tensor.\n",
        "        loss = output.loss\n",
        "        logits = output.logits\n",
        "\n",
        "        # Move logits and labels to CPU\n",
        "        logits = logits.detach().cpu().numpy()\n",
        "        label_ids = b_labels.to('cpu').numpy()\n",
        "\n",
        "        # Store predictions and true labels\n",
        "        predictions.append(logits)\n",
        "        true_labels.append(label_ids)\n",
        "\n",
        "        # Accumulate the training loss over all of the batches so that we can\n",
        "        # calculate the average loss at the end. `loss` is a Tensor containing a\n",
        "        # single value; the `.item()` function just returns the Python value\n",
        "        # from the tensor.\n",
        "        total_train_loss += loss.item()\n",
        "\n",
        "        # Perform a backward pass to calculate the gradients.\n",
        "        loss.backward()\n",
        "\n",
        "        # Clip the norm of the gradients to 1.0.\n",
        "        # This is to help prevent the \"exploding gradients\" problem.\n",
        "        torch.nn.utils.clip_grad_norm_(model.parameters(), 1.0)\n",
        "\n",
        "        # Update parameters and take a step using the computed gradient.\n",
        "        # The optimizer dictates the \"update rule\"--how the parameters are\n",
        "        # modified based on their gradients, the learning rate, etc.\n",
        "        optimizer.step()\n",
        "\n",
        "        # Update the learning rate.\n",
        "        scheduler.step()\n",
        "\n",
        "    # Calculate the average loss over all of the batches.\n",
        "    avg_train_loss = total_train_loss / len(py_inputs)\n",
        "\n",
        "    training_accuracy = check_accuracy(predictions,true_labels)\n",
        "\n",
        "    # Measure how long this epoch took.\n",
        "    training_time = format_time(time.time() - t0)\n",
        "\n",
        "    print(\"\")\n",
        "    print(\"  Average training loss: {0:.2f}\".format(avg_train_loss))\n",
        "    print(\"  Training Accuracy: {0:.2f}\".format(training_accuracy))\n",
        "    print(\"  Training epoch took: {:}\".format(training_time))\n",
        "\n",
        "    (py_inputs, py_attn_masks, py_labels) = make_smart_batches(val_sentences, val_labels, batch_size ,tokenizer,max_input_length)\n",
        "    val_loss,val_accuracy,validation_time = eval_model(model,py_inputs, py_attn_masks, py_labels)\n",
        "    # Record all statistics from this epoch.\n",
        "\n",
        "    print(\"\")\n",
        "    print(\"  Average validation loss: {0:.2f}\".format(val_loss))\n",
        "    print(\"  Validation Accuracy: {0:.2f}\".format(val_accuracy))\n",
        "    print(\"  Validation epoch took: {:}\".format(validation_time))\n",
        "\n",
        "\n",
        "    training_stats['epoch'].append(epoch_i + 1)\n",
        "    training_stats['train_loss'].append(avg_train_loss)\n",
        "    training_stats['Training Time'].append(training_time)\n",
        "    training_stats['val_loss'].append(val_loss)\n",
        "    training_stats['Validation Time'].append(validation_time)\n",
        "    training_stats['train_acc'].append(training_accuracy)\n",
        "    training_stats['val_acc'].append(val_accuracy)\n",
        "\n",
        "print(\"\")\n",
        "print(\"Training complete!\")\n",
        "\n",
        "print(\"Total training took {:} (h:mm:ss)\".format(format_time(time.time()-total_t0)))"
      ],
      "execution_count": 199,
      "outputs": [
        {
          "output_type": "stream",
          "name": "stdout",
          "text": [
            "\n",
            "======== Epoch 1 / 5 ========\n",
            "Training on 413 batches...\n",
            "  Batch      40  of      413.    Elapsed: 0:00:14.  Remaining: 0:02:07\n",
            "  Batch      80  of      413.    Elapsed: 0:00:25.  Remaining: 0:01:45\n",
            "  Batch     120  of      413.    Elapsed: 0:00:38.  Remaining: 0:01:32\n",
            "  Batch     160  of      413.    Elapsed: 0:00:51.  Remaining: 0:01:21\n",
            "  Batch     200  of      413.    Elapsed: 0:01:03.  Remaining: 0:01:07\n",
            "  Batch     240  of      413.    Elapsed: 0:01:14.  Remaining: 0:00:54\n",
            "  Batch     280  of      413.    Elapsed: 0:01:24.  Remaining: 0:00:40\n",
            "  Batch     320  of      413.    Elapsed: 0:01:37.  Remaining: 0:00:28\n",
            "  Batch     360  of      413.    Elapsed: 0:01:48.  Remaining: 0:00:16\n",
            "  Batch     400  of      413.    Elapsed: 0:02:00.  Remaining: 0:00:04\n",
            "\n",
            "  Average training loss: 0.62\n",
            "  Training Accuracy: 0.77\n",
            "  Training epoch took: 0:02:06\n",
            "Creating Smart Batches from 2,201 examples with batch size 16...\n",
            "\n",
            "Tokenizing 2,201 samples...\n",
            "  Tokenized 0 samples.\n",
            "  Tokenized 200 samples.\n",
            "  Tokenized 400 samples.\n",
            "  Tokenized 600 samples.\n",
            "  Tokenized 800 samples.\n",
            "  Tokenized 1,000 samples.\n",
            "  Tokenized 1,200 samples.\n",
            "  Tokenized 1,400 samples.\n",
            "  Tokenized 1,600 samples.\n",
            "  Tokenized 1,800 samples.\n",
            "  Tokenized 2,000 samples.\n",
            "  Tokenized 2,200 samples.\n",
            "DONE.\n",
            "     2,201 samples\n",
            "\n",
            "     2,201 samples after sorting\n",
            "\n",
            "Creating batches of size 16...\n",
            "\n",
            "  DONE - Selected 138 batches.\n",
            "\n",
            "Padding out sequences within each batch...\n",
            "  DONE.\n",
            "Doing validation on 138 sentences...\n",
            "  Batch      10  of      138.    Elapsed: 0:00:00.  Remaining: 0:00:06\n",
            "  Batch      20  of      138.    Elapsed: 0:00:02.  Remaining: 0:00:12\n",
            "  Batch      30  of      138.    Elapsed: 0:00:03.  Remaining: 0:00:11\n",
            "  Batch      40  of      138.    Elapsed: 0:00:04.  Remaining: 0:00:10\n",
            "  Batch      50  of      138.    Elapsed: 0:00:05.  Remaining: 0:00:09\n",
            "  Batch      60  of      138.    Elapsed: 0:00:06.  Remaining: 0:00:07\n",
            "  Batch      70  of      138.    Elapsed: 0:00:06.  Remaining: 0:00:06\n",
            "  Batch      80  of      138.    Elapsed: 0:00:07.  Remaining: 0:00:05\n",
            "  Batch      90  of      138.    Elapsed: 0:00:08.  Remaining: 0:00:04\n",
            "  Batch     100  of      138.    Elapsed: 0:00:09.  Remaining: 0:00:03\n",
            "  Batch     110  of      138.    Elapsed: 0:00:09.  Remaining: 0:00:02\n",
            "  Batch     120  of      138.    Elapsed: 0:00:10.  Remaining: 0:00:01\n",
            "  Batch     130  of      138.    Elapsed: 0:00:11.  Remaining: 0:00:01\n",
            "\n",
            "  Average validation loss: 0.44\n",
            "  Validation Accuracy: 0.85\n",
            "  Validation epoch took: 0:00:13\n",
            "\n",
            "======== Epoch 2 / 5 ========\n",
            "Creating Smart Batches from 6,602 examples with batch size 16...\n",
            "\n",
            "Tokenizing 6,602 samples...\n",
            "  Tokenized 0 samples.\n",
            "  Tokenized 700 samples.\n",
            "  Tokenized 1,400 samples.\n",
            "  Tokenized 2,100 samples.\n",
            "  Tokenized 2,800 samples.\n",
            "  Tokenized 3,500 samples.\n",
            "  Tokenized 4,200 samples.\n",
            "  Tokenized 4,900 samples.\n",
            "  Tokenized 5,600 samples.\n",
            "  Tokenized 6,300 samples.\n",
            "DONE.\n",
            "     6,602 samples\n",
            "\n",
            "     6,602 samples after sorting\n",
            "\n",
            "Creating batches of size 16...\n",
            "\n",
            "  DONE - Selected 413 batches.\n",
            "\n",
            "Padding out sequences within each batch...\n",
            "  DONE.\n",
            "Training on 413 batches...\n",
            "  Batch      40  of      413.    Elapsed: 0:00:13.  Remaining: 0:02:03\n",
            "  Batch      80  of      413.    Elapsed: 0:00:25.  Remaining: 0:01:45\n",
            "  Batch     120  of      413.    Elapsed: 0:00:37.  Remaining: 0:01:30\n",
            "  Batch     160  of      413.    Elapsed: 0:00:46.  Remaining: 0:01:13\n",
            "  Batch     200  of      413.    Elapsed: 0:00:59.  Remaining: 0:01:02\n",
            "  Batch     240  of      413.    Elapsed: 0:01:13.  Remaining: 0:00:53\n",
            "  Batch     280  of      413.    Elapsed: 0:01:25.  Remaining: 0:00:40\n",
            "  Batch     320  of      413.    Elapsed: 0:01:36.  Remaining: 0:00:28\n",
            "  Batch     360  of      413.    Elapsed: 0:01:47.  Remaining: 0:00:16\n",
            "  Batch     400  of      413.    Elapsed: 0:01:59.  Remaining: 0:00:04\n",
            "\n",
            "  Average training loss: 0.36\n",
            "  Training Accuracy: 0.88\n",
            "  Training epoch took: 0:02:06\n",
            "Creating Smart Batches from 2,201 examples with batch size 16...\n",
            "\n",
            "Tokenizing 2,201 samples...\n",
            "  Tokenized 0 samples.\n",
            "  Tokenized 200 samples.\n",
            "  Tokenized 400 samples.\n",
            "  Tokenized 600 samples.\n",
            "  Tokenized 800 samples.\n",
            "  Tokenized 1,000 samples.\n",
            "  Tokenized 1,200 samples.\n",
            "  Tokenized 1,400 samples.\n",
            "  Tokenized 1,600 samples.\n",
            "  Tokenized 1,800 samples.\n",
            "  Tokenized 2,000 samples.\n",
            "  Tokenized 2,200 samples.\n",
            "DONE.\n",
            "     2,201 samples\n",
            "\n",
            "     2,201 samples after sorting\n",
            "\n",
            "Creating batches of size 16...\n",
            "\n",
            "  DONE - Selected 138 batches.\n",
            "\n",
            "Padding out sequences within each batch...\n",
            "  DONE.\n",
            "Doing validation on 138 sentences...\n",
            "  Batch      10  of      138.    Elapsed: 0:00:00.  Remaining: 0:00:06\n",
            "  Batch      20  of      138.    Elapsed: 0:00:01.  Remaining: 0:00:08\n",
            "  Batch      30  of      138.    Elapsed: 0:00:02.  Remaining: 0:00:07\n",
            "  Batch      40  of      138.    Elapsed: 0:00:03.  Remaining: 0:00:07\n",
            "  Batch      50  of      138.    Elapsed: 0:00:04.  Remaining: 0:00:07\n",
            "  Batch      60  of      138.    Elapsed: 0:00:05.  Remaining: 0:00:06\n",
            "  Batch      70  of      138.    Elapsed: 0:00:06.  Remaining: 0:00:05\n",
            "  Batch      80  of      138.    Elapsed: 0:00:07.  Remaining: 0:00:05\n",
            "  Batch      90  of      138.    Elapsed: 0:00:08.  Remaining: 0:00:04\n",
            "  Batch     100  of      138.    Elapsed: 0:00:08.  Remaining: 0:00:03\n",
            "  Batch     110  of      138.    Elapsed: 0:00:09.  Remaining: 0:00:02\n",
            "  Batch     120  of      138.    Elapsed: 0:00:10.  Remaining: 0:00:02\n",
            "  Batch     130  of      138.    Elapsed: 0:00:11.  Remaining: 0:00:01\n",
            "\n",
            "  Average validation loss: 0.37\n",
            "  Validation Accuracy: 0.87\n",
            "  Validation epoch took: 0:00:13\n",
            "\n",
            "======== Epoch 3 / 5 ========\n",
            "Creating Smart Batches from 6,602 examples with batch size 16...\n",
            "\n",
            "Tokenizing 6,602 samples...\n",
            "  Tokenized 0 samples.\n",
            "  Tokenized 700 samples.\n",
            "  Tokenized 1,400 samples.\n",
            "  Tokenized 2,100 samples.\n",
            "  Tokenized 2,800 samples.\n",
            "  Tokenized 3,500 samples.\n",
            "  Tokenized 4,200 samples.\n",
            "  Tokenized 4,900 samples.\n",
            "  Tokenized 5,600 samples.\n",
            "  Tokenized 6,300 samples.\n",
            "DONE.\n",
            "     6,602 samples\n",
            "\n",
            "     6,602 samples after sorting\n",
            "\n",
            "Creating batches of size 16...\n",
            "\n",
            "  DONE - Selected 413 batches.\n",
            "\n",
            "Padding out sequences within each batch...\n",
            "  DONE.\n",
            "Training on 413 batches...\n",
            "  Batch      40  of      413.    Elapsed: 0:00:13.  Remaining: 0:01:59\n",
            "  Batch      80  of      413.    Elapsed: 0:00:27.  Remaining: 0:01:52\n",
            "  Batch     120  of      413.    Elapsed: 0:00:37.  Remaining: 0:01:31\n",
            "  Batch     160  of      413.    Elapsed: 0:00:46.  Remaining: 0:01:13\n",
            "  Batch     200  of      413.    Elapsed: 0:01:03.  Remaining: 0:01:07\n",
            "  Batch     240  of      413.    Elapsed: 0:01:14.  Remaining: 0:00:53\n",
            "  Batch     280  of      413.    Elapsed: 0:01:24.  Remaining: 0:00:40\n",
            "  Batch     320  of      413.    Elapsed: 0:01:36.  Remaining: 0:00:28\n",
            "  Batch     360  of      413.    Elapsed: 0:01:46.  Remaining: 0:00:16\n",
            "  Batch     400  of      413.    Elapsed: 0:01:58.  Remaining: 0:00:04\n",
            "\n",
            "  Average training loss: 0.25\n",
            "  Training Accuracy: 0.92\n",
            "  Training epoch took: 0:02:05\n",
            "Creating Smart Batches from 2,201 examples with batch size 16...\n",
            "\n",
            "Tokenizing 2,201 samples...\n",
            "  Tokenized 0 samples.\n",
            "  Tokenized 200 samples.\n",
            "  Tokenized 400 samples.\n",
            "  Tokenized 600 samples.\n",
            "  Tokenized 800 samples.\n",
            "  Tokenized 1,000 samples.\n",
            "  Tokenized 1,200 samples.\n",
            "  Tokenized 1,400 samples.\n",
            "  Tokenized 1,600 samples.\n",
            "  Tokenized 1,800 samples.\n",
            "  Tokenized 2,000 samples.\n",
            "  Tokenized 2,200 samples.\n",
            "DONE.\n",
            "     2,201 samples\n",
            "\n",
            "     2,201 samples after sorting\n",
            "\n",
            "Creating batches of size 16...\n",
            "\n",
            "  DONE - Selected 138 batches.\n",
            "\n",
            "Padding out sequences within each batch...\n",
            "  DONE.\n",
            "Doing validation on 138 sentences...\n",
            "  Batch      10  of      138.    Elapsed: 0:00:01.  Remaining: 0:00:14\n",
            "  Batch      20  of      138.    Elapsed: 0:00:02.  Remaining: 0:00:12\n",
            "  Batch      30  of      138.    Elapsed: 0:00:03.  Remaining: 0:00:11\n",
            "  Batch      40  of      138.    Elapsed: 0:00:04.  Remaining: 0:00:09\n",
            "  Batch      50  of      138.    Elapsed: 0:00:05.  Remaining: 0:00:08\n",
            "  Batch      60  of      138.    Elapsed: 0:00:05.  Remaining: 0:00:07\n",
            "  Batch      70  of      138.    Elapsed: 0:00:06.  Remaining: 0:00:06\n",
            "  Batch      80  of      138.    Elapsed: 0:00:07.  Remaining: 0:00:05\n",
            "  Batch      90  of      138.    Elapsed: 0:00:08.  Remaining: 0:00:04\n",
            "  Batch     100  of      138.    Elapsed: 0:00:08.  Remaining: 0:00:03\n",
            "  Batch     110  of      138.    Elapsed: 0:00:09.  Remaining: 0:00:02\n",
            "  Batch     120  of      138.    Elapsed: 0:00:10.  Remaining: 0:00:02\n",
            "  Batch     130  of      138.    Elapsed: 0:00:12.  Remaining: 0:00:01\n",
            "\n",
            "  Average validation loss: 0.50\n",
            "  Validation Accuracy: 0.85\n",
            "  Validation epoch took: 0:00:13\n",
            "\n",
            "======== Epoch 4 / 5 ========\n",
            "Creating Smart Batches from 6,602 examples with batch size 16...\n",
            "\n",
            "Tokenizing 6,602 samples...\n",
            "  Tokenized 0 samples.\n",
            "  Tokenized 700 samples.\n",
            "  Tokenized 1,400 samples.\n",
            "  Tokenized 2,100 samples.\n",
            "  Tokenized 2,800 samples.\n",
            "  Tokenized 3,500 samples.\n",
            "  Tokenized 4,200 samples.\n",
            "  Tokenized 4,900 samples.\n",
            "  Tokenized 5,600 samples.\n",
            "  Tokenized 6,300 samples.\n",
            "DONE.\n",
            "     6,602 samples\n",
            "\n",
            "     6,602 samples after sorting\n",
            "\n",
            "Creating batches of size 16...\n",
            "\n",
            "  DONE - Selected 413 batches.\n",
            "\n",
            "Padding out sequences within each batch...\n",
            "  DONE.\n",
            "Training on 413 batches...\n",
            "  Batch      40  of      413.    Elapsed: 0:00:11.  Remaining: 0:01:43\n",
            "  Batch      80  of      413.    Elapsed: 0:00:25.  Remaining: 0:01:44\n",
            "  Batch     120  of      413.    Elapsed: 0:00:38.  Remaining: 0:01:32\n",
            "  Batch     160  of      413.    Elapsed: 0:00:49.  Remaining: 0:01:18\n",
            "  Batch     200  of      413.    Elapsed: 0:01:02.  Remaining: 0:01:06\n",
            "  Batch     240  of      413.    Elapsed: 0:01:13.  Remaining: 0:00:53\n",
            "  Batch     280  of      413.    Elapsed: 0:01:21.  Remaining: 0:00:39\n",
            "  Batch     320  of      413.    Elapsed: 0:01:32.  Remaining: 0:00:27\n",
            "  Batch     360  of      413.    Elapsed: 0:01:46.  Remaining: 0:00:16\n",
            "  Batch     400  of      413.    Elapsed: 0:01:59.  Remaining: 0:00:04\n",
            "\n",
            "  Average training loss: 0.17\n",
            "  Training Accuracy: 0.95\n",
            "  Training epoch took: 0:02:05\n",
            "Creating Smart Batches from 2,201 examples with batch size 16...\n",
            "\n",
            "Tokenizing 2,201 samples...\n",
            "  Tokenized 0 samples.\n",
            "  Tokenized 200 samples.\n",
            "  Tokenized 400 samples.\n",
            "  Tokenized 600 samples.\n",
            "  Tokenized 800 samples.\n",
            "  Tokenized 1,000 samples.\n",
            "  Tokenized 1,200 samples.\n",
            "  Tokenized 1,400 samples.\n",
            "  Tokenized 1,600 samples.\n",
            "  Tokenized 1,800 samples.\n",
            "  Tokenized 2,000 samples.\n",
            "  Tokenized 2,200 samples.\n",
            "DONE.\n",
            "     2,201 samples\n",
            "\n",
            "     2,201 samples after sorting\n",
            "\n",
            "Creating batches of size 16...\n",
            "\n",
            "  DONE - Selected 138 batches.\n",
            "\n",
            "Padding out sequences within each batch...\n",
            "  DONE.\n",
            "Doing validation on 138 sentences...\n",
            "  Batch      10  of      138.    Elapsed: 0:00:01.  Remaining: 0:00:07\n",
            "  Batch      20  of      138.    Elapsed: 0:00:01.  Remaining: 0:00:07\n",
            "  Batch      30  of      138.    Elapsed: 0:00:02.  Remaining: 0:00:07\n",
            "  Batch      40  of      138.    Elapsed: 0:00:03.  Remaining: 0:00:06\n",
            "  Batch      50  of      138.    Elapsed: 0:00:03.  Remaining: 0:00:06\n",
            "  Batch      60  of      138.    Elapsed: 0:00:04.  Remaining: 0:00:06\n",
            "  Batch      70  of      138.    Elapsed: 0:00:05.  Remaining: 0:00:05\n",
            "  Batch      80  of      138.    Elapsed: 0:00:06.  Remaining: 0:00:04\n",
            "  Batch      90  of      138.    Elapsed: 0:00:07.  Remaining: 0:00:04\n",
            "  Batch     100  of      138.    Elapsed: 0:00:08.  Remaining: 0:00:03\n",
            "  Batch     110  of      138.    Elapsed: 0:00:09.  Remaining: 0:00:02\n",
            "  Batch     120  of      138.    Elapsed: 0:00:10.  Remaining: 0:00:02\n",
            "  Batch     130  of      138.    Elapsed: 0:00:11.  Remaining: 0:00:01\n",
            "\n",
            "  Average validation loss: 0.45\n",
            "  Validation Accuracy: 0.89\n",
            "  Validation epoch took: 0:00:13\n",
            "\n",
            "======== Epoch 5 / 5 ========\n",
            "Creating Smart Batches from 6,602 examples with batch size 16...\n",
            "\n",
            "Tokenizing 6,602 samples...\n",
            "  Tokenized 0 samples.\n",
            "  Tokenized 700 samples.\n",
            "  Tokenized 1,400 samples.\n",
            "  Tokenized 2,100 samples.\n",
            "  Tokenized 2,800 samples.\n",
            "  Tokenized 3,500 samples.\n",
            "  Tokenized 4,200 samples.\n",
            "  Tokenized 4,900 samples.\n",
            "  Tokenized 5,600 samples.\n",
            "  Tokenized 6,300 samples.\n",
            "DONE.\n",
            "     6,602 samples\n",
            "\n",
            "     6,602 samples after sorting\n",
            "\n",
            "Creating batches of size 16...\n",
            "\n",
            "  DONE - Selected 413 batches.\n",
            "\n",
            "Padding out sequences within each batch...\n",
            "  DONE.\n",
            "Training on 413 batches...\n",
            "  Batch      40  of      413.    Elapsed: 0:00:11.  Remaining: 0:01:47\n",
            "  Batch      80  of      413.    Elapsed: 0:00:21.  Remaining: 0:01:29\n",
            "  Batch     120  of      413.    Elapsed: 0:00:34.  Remaining: 0:01:22\n",
            "  Batch     160  of      413.    Elapsed: 0:00:48.  Remaining: 0:01:16\n",
            "  Batch     200  of      413.    Elapsed: 0:01:00.  Remaining: 0:01:04\n",
            "  Batch     240  of      413.    Elapsed: 0:01:13.  Remaining: 0:00:53\n",
            "  Batch     280  of      413.    Elapsed: 0:01:26.  Remaining: 0:00:41\n",
            "  Batch     320  of      413.    Elapsed: 0:01:37.  Remaining: 0:00:28\n",
            "  Batch     360  of      413.    Elapsed: 0:01:48.  Remaining: 0:00:16\n",
            "  Batch     400  of      413.    Elapsed: 0:02:01.  Remaining: 0:00:04\n",
            "\n",
            "  Average training loss: 0.12\n",
            "  Training Accuracy: 0.97\n",
            "  Training epoch took: 0:02:04\n",
            "Creating Smart Batches from 2,201 examples with batch size 16...\n",
            "\n",
            "Tokenizing 2,201 samples...\n",
            "  Tokenized 0 samples.\n",
            "  Tokenized 200 samples.\n",
            "  Tokenized 400 samples.\n",
            "  Tokenized 600 samples.\n",
            "  Tokenized 800 samples.\n",
            "  Tokenized 1,000 samples.\n",
            "  Tokenized 1,200 samples.\n",
            "  Tokenized 1,400 samples.\n",
            "  Tokenized 1,600 samples.\n",
            "  Tokenized 1,800 samples.\n",
            "  Tokenized 2,000 samples.\n",
            "  Tokenized 2,200 samples.\n",
            "DONE.\n",
            "     2,201 samples\n",
            "\n",
            "     2,201 samples after sorting\n",
            "\n",
            "Creating batches of size 16...\n",
            "\n",
            "  DONE - Selected 138 batches.\n",
            "\n",
            "Padding out sequences within each batch...\n",
            "  DONE.\n",
            "Doing validation on 138 sentences...\n",
            "  Batch      10  of      138.    Elapsed: 0:00:01.  Remaining: 0:00:13\n",
            "  Batch      20  of      138.    Elapsed: 0:00:02.  Remaining: 0:00:13\n",
            "  Batch      30  of      138.    Elapsed: 0:00:03.  Remaining: 0:00:12\n",
            "  Batch      40  of      138.    Elapsed: 0:00:04.  Remaining: 0:00:09\n",
            "  Batch      50  of      138.    Elapsed: 0:00:05.  Remaining: 0:00:08\n",
            "  Batch      60  of      138.    Elapsed: 0:00:05.  Remaining: 0:00:07\n",
            "  Batch      70  of      138.    Elapsed: 0:00:06.  Remaining: 0:00:06\n",
            "  Batch      80  of      138.    Elapsed: 0:00:07.  Remaining: 0:00:05\n",
            "  Batch      90  of      138.    Elapsed: 0:00:09.  Remaining: 0:00:05\n",
            "  Batch     100  of      138.    Elapsed: 0:00:09.  Remaining: 0:00:04\n",
            "  Batch     110  of      138.    Elapsed: 0:00:10.  Remaining: 0:00:03\n",
            "  Batch     120  of      138.    Elapsed: 0:00:11.  Remaining: 0:00:02\n",
            "  Batch     130  of      138.    Elapsed: 0:00:12.  Remaining: 0:00:01\n",
            "\n",
            "  Average validation loss: 0.51\n",
            "  Validation Accuracy: 0.89\n",
            "  Validation epoch took: 0:00:12\n",
            "\n",
            "Training complete!\n",
            "Total training took 0:11:46 (h:mm:ss)\n"
          ]
        }
      ]
    },
    {
      "cell_type": "code",
      "metadata": {
        "id": "GOmua_S1eXNM",
        "colab": {
          "base_uri": "https://localhost:8080/",
          "height": 592
        },
        "outputId": "b2ddcb58-0356-42b4-ecb3-2fcfc65c0c8c"
      },
      "source": [
        "plot_training_history(training_stats)"
      ],
      "execution_count": 200,
      "outputs": [
        {
          "output_type": "display_data",
          "data": {
            "text/plain": [
              "<Figure size 1800x600 with 2 Axes>"
            ],
            "image/png": "[encoded data removed]"
          },
          "metadata": {}
        }
      ]
    },
    {
      "cell_type": "markdown",
      "metadata": {
        "id": "3c-6bOIxVyrM"
      },
      "source": [
        "## Evaluating Performance Over Training Set"
      ]
    },
    {
      "cell_type": "code",
      "metadata": {
        "id": "2QmKPNAeWHkZ",
        "colab": {
          "base_uri": "https://localhost:8080/"
        },
        "outputId": "062495d7-fa74-4208-e601-ef8282d4c93d"
      },
      "source": [
        "(py_inputs, py_attn_masks, py_labels) = make_smart_batches(train_sentences, train_labels, batch_size ,tokenizer,max_input_length)\n",
        "\n",
        "y_pred , y_true = get_predictions(py_inputs, py_attn_masks, py_labels)\n"
      ],
      "execution_count": 201,
      "outputs": [
        {
          "output_type": "stream",
          "name": "stdout",
          "text": [
            "Creating Smart Batches from 6,602 examples with batch size 16...\n",
            "\n",
            "Tokenizing 6,602 samples...\n",
            "  Tokenized 0 samples.\n",
            "  Tokenized 700 samples.\n",
            "  Tokenized 1,400 samples.\n",
            "  Tokenized 2,100 samples.\n",
            "  Tokenized 2,800 samples.\n",
            "  Tokenized 3,500 samples.\n",
            "  Tokenized 4,200 samples.\n",
            "  Tokenized 4,900 samples.\n",
            "  Tokenized 5,600 samples.\n",
            "  Tokenized 6,300 samples.\n",
            "DONE.\n",
            "     6,602 samples\n",
            "\n",
            "     6,602 samples after sorting\n",
            "\n",
            "Creating batches of size 16...\n",
            "\n",
            "  DONE - Selected 413 batches.\n",
            "\n",
            "Padding out sequences within each batch...\n",
            "  DONE.\n",
            "Predicting labels for 413 test batches...\n",
            "  Batch      40  of      413.    Elapsed: 0:00:04.  Remaining: 0:00:35\n",
            "  Batch      80  of      413.    Elapsed: 0:00:07.  Remaining: 0:00:31\n",
            "  Batch     120  of      413.    Elapsed: 0:00:11.  Remaining: 0:00:27\n",
            "  Batch     160  of      413.    Elapsed: 0:00:15.  Remaining: 0:00:24\n",
            "  Batch     200  of      413.    Elapsed: 0:00:17.  Remaining: 0:00:18\n",
            "  Batch     240  of      413.    Elapsed: 0:00:21.  Remaining: 0:00:15\n",
            "  Batch     280  of      413.    Elapsed: 0:00:25.  Remaining: 0:00:12\n",
            "  Batch     320  of      413.    Elapsed: 0:00:28.  Remaining: 0:00:08\n",
            "  Batch     360  of      413.    Elapsed: 0:00:31.  Remaining: 0:00:05\n",
            "  Batch     400  of      413.    Elapsed: 0:00:35.  Remaining: 0:00:01\n"
          ]
        }
      ]
    },
    {
      "cell_type": "code",
      "metadata": {
        "id": "uXsVn0wngZhv",
        "colab": {
          "base_uri": "https://localhost:8080/"
        },
        "outputId": "0a0183dd-7f4e-4555-f8e4-006082e47de1"
      },
      "source": [
        "print(classification_report(y_true, y_pred, target_names=class_names))"
      ],
      "execution_count": 202,
      "outputs": [
        {
          "output_type": "stream",
          "name": "stdout",
          "text": [
            "              precision    recall  f1-score   support\n",
            "\n",
            "    positive       0.99      0.97      0.98      2647\n",
            "    negative       0.98      0.99      0.98       610\n",
            "     neutral       0.97      0.99      0.98      3345\n",
            "\n",
            "    accuracy                           0.98      6602\n",
            "   macro avg       0.98      0.98      0.98      6602\n",
            "weighted avg       0.98      0.98      0.98      6602\n",
            "\n"
          ]
        }
      ]
    },
    {
      "cell_type": "code",
      "metadata": {
        "id": "guClUdRhYPql",
        "colab": {
          "base_uri": "https://localhost:8080/",
          "height": 611
        },
        "outputId": "41588385-d838-4325-c8bd-c36deddf8de1"
      },
      "source": [
        "cm = confusion_matrix(y_true, y_pred)\n",
        "show_confusion_matrix(cm, class_names)"
      ],
      "execution_count": 203,
      "outputs": [
        {
          "output_type": "display_data",
          "data": {
            "text/plain": [
              "<Figure size 1200x600 with 2 Axes>"
            ],
            "image/png": "[encoded data removed]"
          },
          "metadata": {}
        }
      ]
    },
    {
      "cell_type": "markdown",
      "metadata": {
        "id": "VM2N-X1tV3il"
      },
      "source": [
        "## Evaluating Performance Over Validation Set"
      ]
    },
    {
      "cell_type": "code",
      "metadata": {
        "id": "BnadNvtxWIYw",
        "colab": {
          "base_uri": "https://localhost:8080/"
        },
        "outputId": "61d61b92-2d51-4c10-c417-747c4bb2f4af"
      },
      "source": [
        "(py_inputs, py_attn_masks, py_labels) = make_smart_batches(val_sentences, val_labels, batch_size ,tokenizer,max_input_length)\n",
        "\n",
        "y_pred , y_true = get_predictions(py_inputs, py_attn_masks, py_labels)"
      ],
      "execution_count": 204,
      "outputs": [
        {
          "output_type": "stream",
          "name": "stdout",
          "text": [
            "Creating Smart Batches from 2,201 examples with batch size 16...\n",
            "\n",
            "Tokenizing 2,201 samples...\n",
            "  Tokenized 0 samples.\n",
            "  Tokenized 200 samples.\n",
            "  Tokenized 400 samples.\n",
            "  Tokenized 600 samples.\n",
            "  Tokenized 800 samples.\n",
            "  Tokenized 1,000 samples.\n",
            "  Tokenized 1,200 samples.\n",
            "  Tokenized 1,400 samples.\n",
            "  Tokenized 1,600 samples.\n",
            "  Tokenized 1,800 samples.\n",
            "  Tokenized 2,000 samples.\n",
            "  Tokenized 2,200 samples.\n",
            "DONE.\n",
            "     2,201 samples\n",
            "\n",
            "     2,201 samples after sorting\n",
            "\n",
            "Creating batches of size 16...\n",
            "\n",
            "  DONE - Selected 138 batches.\n",
            "\n",
            "Padding out sequences within each batch...\n",
            "  DONE.\n",
            "Predicting labels for 138 test batches...\n",
            "  Batch      10  of      138.    Elapsed: 0:00:01.  Remaining: 0:00:12\n",
            "  Batch      20  of      138.    Elapsed: 0:00:02.  Remaining: 0:00:11\n",
            "  Batch      30  of      138.    Elapsed: 0:00:03.  Remaining: 0:00:09\n",
            "  Batch      40  of      138.    Elapsed: 0:00:04.  Remaining: 0:00:10\n",
            "  Batch      50  of      138.    Elapsed: 0:00:05.  Remaining: 0:00:09\n",
            "  Batch      60  of      138.    Elapsed: 0:00:06.  Remaining: 0:00:08\n",
            "  Batch      70  of      138.    Elapsed: 0:00:07.  Remaining: 0:00:06\n",
            "  Batch      80  of      138.    Elapsed: 0:00:07.  Remaining: 0:00:05\n",
            "  Batch      90  of      138.    Elapsed: 0:00:08.  Remaining: 0:00:04\n",
            "  Batch     100  of      138.    Elapsed: 0:00:09.  Remaining: 0:00:03\n",
            "  Batch     110  of      138.    Elapsed: 0:00:09.  Remaining: 0:00:02\n",
            "  Batch     120  of      138.    Elapsed: 0:00:10.  Remaining: 0:00:02\n",
            "  Batch     130  of      138.    Elapsed: 0:00:11.  Remaining: 0:00:01\n"
          ]
        }
      ]
    },
    {
      "cell_type": "code",
      "metadata": {
        "id": "wAjlATBPgh7c",
        "colab": {
          "base_uri": "https://localhost:8080/"
        },
        "outputId": "2220e41b-019e-4109-91f5-7e3f968f4519"
      },
      "source": [
        "print(classification_report(y_true, y_pred, target_names=class_names))"
      ],
      "execution_count": 205,
      "outputs": [
        {
          "output_type": "stream",
          "name": "stdout",
          "text": [
            "              precision    recall  f1-score   support\n",
            "\n",
            "    positive       0.86      0.89      0.88       896\n",
            "    negative       0.85      0.84      0.84       181\n",
            "     neutral       0.91      0.89      0.90      1124\n",
            "\n",
            "    accuracy                           0.89      2201\n",
            "   macro avg       0.87      0.87      0.87      2201\n",
            "weighted avg       0.89      0.89      0.89      2201\n",
            "\n"
          ]
        }
      ]
    },
    {
      "cell_type": "code",
      "metadata": {
        "id": "7nELY57NYshD",
        "colab": {
          "base_uri": "https://localhost:8080/",
          "height": 611
        },
        "outputId": "846455c8-423a-4246-a9eb-f8163283cdad"
      },
      "source": [
        "cm = confusion_matrix(y_true, y_pred)\n",
        "show_confusion_matrix(cm, class_names)"
      ],
      "execution_count": 206,
      "outputs": [
        {
          "output_type": "display_data",
          "data": {
            "text/plain": [
              "<Figure size 1200x600 with 2 Axes>"
            ],
            "image/png": "[encoded data removed]"
          },
          "metadata": {}
        }
      ]
    },
    {
      "cell_type": "markdown",
      "metadata": {
        "id": "tF9cMcFsQcsN"
      },
      "source": [
        "## Making Predictions on Test Set"
      ]
    },
    {
      "cell_type": "code",
      "metadata": {
        "id": "xEiUHfwcQcsO"
      },
      "source": [
        "# test_df_path = join(dataset_dir,'tamil_offensive_full_test.csv')\n",
        "test_df = pd.read_csv('/content/drive/MyDrive/Colab Notebooks/ariful/test_data.csv')"
      ],
      "execution_count": 207,
      "outputs": []
    },
    {
      "cell_type": "code",
      "metadata": {
        "id": "55swDrKUQcsP",
        "colab": {
          "base_uri": "https://localhost:8080/",
          "height": 423
        },
        "outputId": "ffddeba1-ed5e-41d2-a6fe-309c69c2cad4"
      },
      "source": [
        "test_df"
      ],
      "execution_count": 208,
      "outputs": [
        {
          "output_type": "execute_result",
          "data": {
            "text/plain": [
              "       PID                                               text    labels\n",
              "0     1499                     ভোজন রসিক জন্য ভালো .. (ওয়াই)  positive\n",
              "1     5287  আমি তাদের খাদ্য মতো, তারা তাদের গ্রাহক খুব সহা...  positive\n",
              "2     7546  যখন Tempe, বাজারে জায়গা একত্র করা হচ্ছে ... আ...  negative\n",
              "3     3232  জট্টিল Nachos, বিশেষ করে B.B.Q Nachos। আমি এটা...  positive\n",
              "4      715  এটা শুধু অসাধারন জায়গা। খাদ্য স্বাদ এবং গুণমা...  positive\n",
              "...    ...                                                ...       ...\n",
              "2196  5323  পরিবার ঘুরাঘুরি এর জন্য সবচেয়ে ভাল জায়গা। আর...  positive\n",
              "2197  4975                            খাদ্যে তাই সুস্বাদু হয়  positive\n",
              "2198  8492  আমি আগে তাই আমি অনুমান আমি এটা তুলনা নেই থাই খ...  negative\n",
              "2199  7821  :( আমি সত্যিই পছন্দ করেন এই জাগা করতে চেয়েছিল...  negative\n",
              "2200  5227  জনাব wooper ছিল মহান !!! খিলগাঁও ভাল বার্গার এ...  positive\n",
              "\n",
              "[2201 rows x 3 columns]"
            ],
            "text/html": [
              "\n",
              "\n",
              "  <div id=\"df-52a2bbf7-49ca-4ec4-88ae-90f606690e26\">\n",
              "    <div class=\"colab-df-container\">\n",
              "      <div>\n",
              "<style scoped>\n",
              "    .dataframe tbody tr th:only-of-type {\n",
              "        vertical-align: middle;\n",
              "    }\n",
              "\n",
              "    .dataframe tbody tr th {\n",
              "        vertical-align: top;\n",
              "    }\n",
              "\n",
              "    .dataframe thead th {\n",
              "        text-align: right;\n",
              "    }\n",
              "</style>\n",
              "<table border=\"1\" class=\"dataframe\">\n",
              "  <thead>\n",
              "    <tr style=\"text-align: right;\">\n",
              "      <th></th>\n",
              "      <th>PID</th>\n",
              "      <th>text</th>\n",
              "      <th>labels</th>\n",
              "    </tr>\n",
              "  </thead>\n",
              "  <tbody>\n",
              "    <tr>\n",
              "      <th>0</th>\n",
              "      <td>1499</td>\n",
              "      <td>ভোজন রসিক জন্য ভালো .. (ওয়াই)</td>\n",
              "      <td>positive</td>\n",
              "    </tr>\n",
              "    <tr>\n",
              "      <th>1</th>\n",
              "      <td>5287</td>\n",
              "      <td>আমি তাদের খাদ্য মতো, তারা তাদের গ্রাহক খুব সহা...</td>\n",
              "      <td>positive</td>\n",
              "    </tr>\n",
              "    <tr>\n",
              "      <th>2</th>\n",
              "      <td>7546</td>\n",
              "      <td>যখন Tempe, বাজারে জায়গা একত্র করা হচ্ছে ... আ...</td>\n",
              "      <td>negative</td>\n",
              "    </tr>\n",
              "    <tr>\n",
              "      <th>3</th>\n",
              "      <td>3232</td>\n",
              "      <td>জট্টিল Nachos, বিশেষ করে B.B.Q Nachos। আমি এটা...</td>\n",
              "      <td>positive</td>\n",
              "    </tr>\n",
              "    <tr>\n",
              "      <th>4</th>\n",
              "      <td>715</td>\n",
              "      <td>এটা শুধু অসাধারন জায়গা। খাদ্য স্বাদ এবং গুণমা...</td>\n",
              "      <td>positive</td>\n",
              "    </tr>\n",
              "    <tr>\n",
              "      <th>...</th>\n",
              "      <td>...</td>\n",
              "      <td>...</td>\n",
              "      <td>...</td>\n",
              "    </tr>\n",
              "    <tr>\n",
              "      <th>2196</th>\n",
              "      <td>5323</td>\n",
              "      <td>পরিবার ঘুরাঘুরি এর জন্য সবচেয়ে ভাল জায়গা। আর...</td>\n",
              "      <td>positive</td>\n",
              "    </tr>\n",
              "    <tr>\n",
              "      <th>2197</th>\n",
              "      <td>4975</td>\n",
              "      <td>খাদ্যে তাই সুস্বাদু হয়</td>\n",
              "      <td>positive</td>\n",
              "    </tr>\n",
              "    <tr>\n",
              "      <th>2198</th>\n",
              "      <td>8492</td>\n",
              "      <td>আমি আগে তাই আমি অনুমান আমি এটা তুলনা নেই থাই খ...</td>\n",
              "      <td>negative</td>\n",
              "    </tr>\n",
              "    <tr>\n",
              "      <th>2199</th>\n",
              "      <td>7821</td>\n",
              "      <td>:( আমি সত্যিই পছন্দ করেন এই জাগা করতে চেয়েছিল...</td>\n",
              "      <td>negative</td>\n",
              "    </tr>\n",
              "    <tr>\n",
              "      <th>2200</th>\n",
              "      <td>5227</td>\n",
              "      <td>জনাব wooper ছিল মহান !!! খিলগাঁও ভাল বার্গার এ...</td>\n",
              "      <td>positive</td>\n",
              "    </tr>\n",
              "  </tbody>\n",
              "</table>\n",
              "<p>2201 rows × 3 columns</p>\n",
              "</div>\n",
              "      <button class=\"colab-df-convert\" onclick=\"convertToInteractive('df-52a2bbf7-49ca-4ec4-88ae-90f606690e26')\"\n",
              "              title=\"Convert this dataframe to an interactive table.\"\n",
              "              style=\"display:none;\">\n",
              "\n",
              "  <svg xmlns=\"http://www.w3.org/2000/svg\" height=\"24px\"viewBox=\"0 0 24 24\"\n",
              "       width=\"24px\">\n",
              "    <path d=\"M0 0h24v24H0V0z\" fill=\"none\"/>\n",
              "    <path d=\"M18.56 5.44l.94 2.06.94-2.06 2.06-.94-2.06-.94-.94-2.06-.94 2.06-2.06.94zm-11 1L8.5 8.5l.94-2.06 2.06-.94-2.06-.94L8.5 2.5l-.94 2.06-2.06.94zm10 10l.94 2.06.94-2.06 2.06-.94-2.06-.94-.94-2.06-.94 2.06-2.06.94z\"/><path d=\"M17.41 7.96l-1.37-1.37c-.4-.4-.92-.59-1.43-.59-.52 0-1.04.2-1.43.59L10.3 9.45l-7.72 7.72c-.78.78-.78 2.05 0 2.83L4 21.41c.39.39.9.59 1.41.59.51 0 1.02-.2 1.41-.59l7.78-7.78 2.81-2.81c.8-.78.8-2.07 0-2.86zM5.41 20L4 18.59l7.72-7.72 1.47 1.35L5.41 20z\"/>\n",
              "  </svg>\n",
              "      </button>\n",
              "\n",
              "\n",
              "\n",
              "    <div id=\"df-525f6016-0cb7-4392-8ee0-5d8407abfdee\">\n",
              "      <button class=\"colab-df-quickchart\" onclick=\"quickchart('df-525f6016-0cb7-4392-8ee0-5d8407abfdee')\"\n",
              "              title=\"Suggest charts.\"\n",
              "              style=\"display:none;\">\n",
              "\n",
              "<svg xmlns=\"http://www.w3.org/2000/svg\" height=\"24px\"viewBox=\"0 0 24 24\"\n",
              "     width=\"24px\">\n",
              "    <g>\n",
              "        <path d=\"M19 3H5c-1.1 0-2 .9-2 2v14c0 1.1.9 2 2 2h14c1.1 0 2-.9 2-2V5c0-1.1-.9-2-2-2zM9 17H7v-7h2v7zm4 0h-2V7h2v10zm4 0h-2v-4h2v4z\"/>\n",
              "    </g>\n",
              "</svg>\n",
              "      </button>\n",
              "    </div>\n",
              "\n",
              "<style>\n",
              "  .colab-df-quickchart {\n",
              "    background-color: #E8F0FE;\n",
              "    border: none;\n",
              "    border-radius: 50%;\n",
              "    cursor: pointer;\n",
              "    display: none;\n",
              "    fill: #1967D2;\n",
              "    height: 32px;\n",
              "    padding: 0 0 0 0;\n",
              "    width: 32px;\n",
              "  }\n",
              "\n",
              "  .colab-df-quickchart:hover {\n",
              "    background-color: #E2EBFA;\n",
              "    box-shadow: 0px 1px 2px rgba(60, 64, 67, 0.3), 0px 1px 3px 1px rgba(60, 64, 67, 0.15);\n",
              "    fill: #174EA6;\n",
              "  }\n",
              "\n",
              "  [theme=dark] .colab-df-quickchart {\n",
              "    background-color: #3B4455;\n",
              "    fill: #D2E3FC;\n",
              "  }\n",
              "\n",
              "  [theme=dark] .colab-df-quickchart:hover {\n",
              "    background-color: #434B5C;\n",
              "    box-shadow: 0px 1px 3px 1px rgba(0, 0, 0, 0.15);\n",
              "    filter: drop-shadow(0px 1px 2px rgba(0, 0, 0, 0.3));\n",
              "    fill: #FFFFFF;\n",
              "  }\n",
              "</style>\n",
              "\n",
              "    <script>\n",
              "      async function quickchart(key) {\n",
              "        const containerElement = document.querySelector('#' + key);\n",
              "        const charts = await google.colab.kernel.invokeFunction(\n",
              "            'suggestCharts', [key], {});\n",
              "      }\n",
              "    </script>\n",
              "\n",
              "      <script>\n",
              "\n",
              "function displayQuickchartButton(domScope) {\n",
              "  let quickchartButtonEl =\n",
              "    domScope.querySelector('#df-525f6016-0cb7-4392-8ee0-5d8407abfdee button.colab-df-quickchart');\n",
              "  quickchartButtonEl.style.display =\n",
              "    google.colab.kernel.accessAllowed ? 'block' : 'none';\n",
              "}\n",
              "\n",
              "        displayQuickchartButton(document);\n",
              "      </script>\n",
              "      <style>\n",
              "    .colab-df-container {\n",
              "      display:flex;\n",
              "      flex-wrap:wrap;\n",
              "      gap: 12px;\n",
              "    }\n",
              "\n",
              "    .colab-df-convert {\n",
              "      background-color: #E8F0FE;\n",
              "      border: none;\n",
              "      border-radius: 50%;\n",
              "      cursor: pointer;\n",
              "      display: none;\n",
              "      fill: #1967D2;\n",
              "      height: 32px;\n",
              "      padding: 0 0 0 0;\n",
              "      width: 32px;\n",
              "    }\n",
              "\n",
              "    .colab-df-convert:hover {\n",
              "      background-color: #E2EBFA;\n",
              "      box-shadow: 0px 1px 2px rgba(60, 64, 67, 0.3), 0px 1px 3px 1px rgba(60, 64, 67, 0.15);\n",
              "      fill: #174EA6;\n",
              "    }\n",
              "\n",
              "    [theme=dark] .colab-df-convert {\n",
              "      background-color: #3B4455;\n",
              "      fill: #D2E3FC;\n",
              "    }\n",
              "\n",
              "    [theme=dark] .colab-df-convert:hover {\n",
              "      background-color: #434B5C;\n",
              "      box-shadow: 0px 1px 3px 1px rgba(0, 0, 0, 0.15);\n",
              "      filter: drop-shadow(0px 1px 2px rgba(0, 0, 0, 0.3));\n",
              "      fill: #FFFFFF;\n",
              "    }\n",
              "  </style>\n",
              "\n",
              "      <script>\n",
              "        const buttonEl =\n",
              "          document.querySelector('#df-52a2bbf7-49ca-4ec4-88ae-90f606690e26 button.colab-df-convert');\n",
              "        buttonEl.style.display =\n",
              "          google.colab.kernel.accessAllowed ? 'block' : 'none';\n",
              "\n",
              "        async function convertToInteractive(key) {\n",
              "          const element = document.querySelector('#df-52a2bbf7-49ca-4ec4-88ae-90f606690e26');\n",
              "          const dataTable =\n",
              "            await google.colab.kernel.invokeFunction('convertToInteractive',\n",
              "                                                     [key], {});\n",
              "          if (!dataTable) return;\n",
              "\n",
              "          const docLinkHtml = 'Like what you see? Visit the ' +\n",
              "            '<a target=\"_blank\" href=https://colab.research.google.com/notebooks/data_table.ipynb>data table notebook</a>'\n",
              "            + ' to learn more about interactive tables.';\n",
              "          element.innerHTML = '';\n",
              "          dataTable['output_type'] = 'display_data';\n",
              "          await google.colab.output.renderOutput(dataTable, element);\n",
              "          const docLink = document.createElement('div');\n",
              "          docLink.innerHTML = docLinkHtml;\n",
              "          element.appendChild(docLink);\n",
              "        }\n",
              "      </script>\n",
              "    </div>\n",
              "  </div>\n"
            ]
          },
          "metadata": {},
          "execution_count": 208
        }
      ]
    },
    {
      "cell_type": "markdown",
      "metadata": {
        "id": "7jLPpljYQcsQ"
      },
      "source": [
        "## Loading `test_sentences`"
      ]
    },
    {
      "cell_type": "code",
      "metadata": {
        "id": "QEVoAhgIQcsR"
      },
      "source": [
        "test_sentences = test_df['text'].values\n",
        "test_labels = test_df['labels'].values\n",
        "test_ids = test_df.index.values"
      ],
      "execution_count": 209,
      "outputs": []
    },
    {
      "cell_type": "code",
      "source": [
        "test_ids"
      ],
      "metadata": {
        "id": "RKCAEAI2NPpC",
        "colab": {
          "base_uri": "https://localhost:8080/"
        },
        "outputId": "806e626d-65c6-41a9-f0b6-13bf27d1c655"
      },
      "execution_count": 210,
      "outputs": [
        {
          "output_type": "execute_result",
          "data": {
            "text/plain": [
              "array([   0,    1,    2, ..., 2198, 2199, 2200])"
            ]
          },
          "metadata": {},
          "execution_count": 210
        }
      ]
    },
    {
      "cell_type": "code",
      "source": [
        "(py_inputs, py_attn_masks,py_ids) = make_smart_batches_on_test(test_sentences,test_ids, 16,tokenizer,max_input_length)"
      ],
      "metadata": {
        "id": "Le9QoujnNP4x",
        "colab": {
          "base_uri": "https://localhost:8080/"
        },
        "outputId": "aa51b3a2-7e7a-4574-c51a-61ed5d74860c"
      },
      "execution_count": 211,
      "outputs": [
        {
          "output_type": "stream",
          "name": "stdout",
          "text": [
            "Creating Smart Batches from 2,201 examples with batch size 16...\n",
            "\n",
            "Tokenizing 2,201 samples...\n",
            "  Tokenized 0 samples.\n",
            "  Tokenized 200 samples.\n",
            "  Tokenized 400 samples.\n",
            "  Tokenized 600 samples.\n",
            "  Tokenized 800 samples.\n",
            "  Tokenized 1,000 samples.\n",
            "  Tokenized 1,200 samples.\n",
            "  Tokenized 1,400 samples.\n",
            "  Tokenized 1,600 samples.\n",
            "  Tokenized 1,800 samples.\n",
            "  Tokenized 2,000 samples.\n",
            "  Tokenized 2,200 samples.\n",
            "DONE.\n",
            "     2,201 samples\n",
            "\n",
            "     2,201 samples after sorting\n",
            "\n",
            "Creating batches of size 16...\n",
            "\n",
            "  DONE - Selected 138 batches.\n",
            "\n",
            "Padding out sequences within each batch...\n",
            "  DONE.\n"
          ]
        }
      ]
    },
    {
      "cell_type": "code",
      "metadata": {
        "id": "slovGuCRThW1",
        "colab": {
          "base_uri": "https://localhost:8080/"
        },
        "outputId": "746131dd-c47e-4ec3-ca3a-7c4c5f68bc91"
      },
      "source": [
        "y_ids,y_preds  = get_predictions_test(py_inputs, py_attn_masks,py_ids)\n"
      ],
      "execution_count": 212,
      "outputs": [
        {
          "output_type": "stream",
          "name": "stdout",
          "text": [
            "Predicting labels for 138 test batches...\n",
            "  Batch      10  of      138.    Elapsed: 0:00:01.  Remaining: 0:00:10\n",
            "  Batch      20  of      138.    Elapsed: 0:00:02.  Remaining: 0:00:09\n",
            "  Batch      30  of      138.    Elapsed: 0:00:02.  Remaining: 0:00:09\n",
            "  Batch      40  of      138.    Elapsed: 0:00:03.  Remaining: 0:00:07\n",
            "  Batch      50  of      138.    Elapsed: 0:00:04.  Remaining: 0:00:07\n",
            "  Batch      60  of      138.    Elapsed: 0:00:05.  Remaining: 0:00:06\n",
            "  Batch      70  of      138.    Elapsed: 0:00:06.  Remaining: 0:00:05\n",
            "  Batch      80  of      138.    Elapsed: 0:00:07.  Remaining: 0:00:05\n",
            "  Batch      90  of      138.    Elapsed: 0:00:07.  Remaining: 0:00:04\n",
            "  Batch     100  of      138.    Elapsed: 0:00:09.  Remaining: 0:00:03\n",
            "  Batch     110  of      138.    Elapsed: 0:00:09.  Remaining: 0:00:02\n",
            "  Batch     120  of      138.    Elapsed: 0:00:10.  Remaining: 0:00:02\n",
            "  Batch     130  of      138.    Elapsed: 0:00:11.  Remaining: 0:00:01\n"
          ]
        }
      ]
    },
    {
      "cell_type": "code",
      "metadata": {
        "id": "gL7aCG2HTjv6",
        "colab": {
          "base_uri": "https://localhost:8080/"
        },
        "outputId": "03f79f0c-d3ec-4297-e268-2652f6191d37"
      },
      "source": [
        "\n",
        "test_sentences"
      ],
      "execution_count": 213,
      "outputs": [
        {
          "output_type": "execute_result",
          "data": {
            "text/plain": [
              "array(['ভোজন রসিক জন্য ভালো .. (ওয়াই)',\n",
              "       'আমি তাদের খাদ্য মতো, তারা তাদের গ্রাহক খুব সহায়ক।',\n",
              "       \"যখন Tempe, বাজারে জায়গা একত্র করা হচ্ছে ... আমি যদিও ওয়াও একটি চট্পটে জায়গা যেখানে কলেজ বাচ্চাদের এবং পাড়া ফিরে প্রাপ্তবয়স্কদের একসাথে পেতে এবং নিজেদের ভোগ করতে পারে। ক্যাডিল্যাক খামারবাড়ি নির্মিত হচ্ছে ছিল ... এবং প্রতারণা গরম আপনি একটি সময় খাবার এগিয়ে কিনতে করতে যথেষ্ট ছিল। রিভিউ পড়ুন কিন্তু চিন্তার ... তারা হেই দেয় কি এটা চেষ্টা। আর এখন আমি দেখতে কেন এটিকে দুটি স্টার আছে ... অন্যান্য yelpers শোনার উচিত -_-... গিয়েছিলাম গুড OLE নেই 'Rada, ভেবেছিলাম এটা চমৎকার হবে দিন বাহিরে উপভোগ করতে। প্রায় misters এর প্রশস্ত পরিমাণ দ্বারা নিমজ্জিত। স্ব বলে মনে করা ... হুম ভাল অন্তত খাদ্য ভাল হওয়া উচিত। স্লাইডার খাবার অর্ডার দেওয়া ... তারা হয়তো মাংস উপর দুর্লভ ছিল, কিন্তু স্লাইডার পাটিয়ে রূপা ডলার, সুস্বাদু কিন্তু ছোট আকার ছিল। হ্যাঁ সেবা ধীর ছিল; আমার কাচ দ্রুত প্রকৃত ওয়েটার চেয়ে misters দ্বারা পুনরায় ভরাট পেয়ে ছিল। এটা তোলে পরিষেবা এবং সামগ্রিক অভিজ্ঞতা (লাঞ্চের জন্য যে) জন্য আমার বই দুটি স্টার পায়। আপনি কি আপনার 11 BUCKS জন্য for..and বেতন পেতে, একটি দম্পতি বার্বি মানুষের আকার পোঁদ মধ্যে পাটিয়ে মাপের একজন না, তাই 'Ahh' খাদ্যের কোকাকোলা ও আংগুর-রস (এবং 2.00 খুশীর সময় চুক্তি যে এর) 5 রহমান ... ধরনের উপযুক্ত বলে মনে হয়।\\n \\n \\n \\n আমি এই কথা বলতে যদি আপনি Tempe, বাজারে জায়গা প্রায় আটকে ঝুলন্ত এবং আপনি পূর্ণ কাছাকাছি চলে মত মাত্র কয়েক ডলার এবং মনে ...\\n \\n \\n \\n এবং এখন আমি মনে করি যে: Tempe বাজারে জায়গা মিল Ave নগরী: এর কবজ গ্রহণ ... এবং তারা ASU এবং Tempe, আউট স্পট একটি একবার সুশোভিত শীতলতা হত্যা ক্ষতিপূরণ বাড়ানো প্রয়োজন। কেনাকাটা ভাল ... আমরা deff সম্ভবত শাকন জন্য সি আর প্রতিস্থাপন করতে পারে? কে জানে...\\n \\n \\n \\n বিদায় এখন জন্য!\",\n",
              "       ...,\n",
              "       'আমি আগে তাই আমি অনুমান আমি এটা তুলনা নেই থাই খাদ্য ছিল না করেছি, কিন্তু এই রেস্তোরাঁর খুব সুস্বাদু খাদ্য পরিবেশন করা হয়নি। হয়তো এটা আমি কি নির্দেশ দেয়া হয়। আমি জানি না। প্লাস এটা একটা মজার গন্ধ ছিল। এটা তোলে ভয়ানক ছিল না কিন্তু আমি ফিরে যাচ্ছি।',\n",
              "       ':( আমি সত্যিই পছন্দ করেন এই জাগা করতে চেয়েছিলেন। আমি পুঙ্খানুপুঙ্খভাবে খামার আস্বাদিত, কিন্তু আমি এটা আলাদাভাবে পর্যালোচনা করব। আমরা একটি ব্যস্ত ওয়েটার যারা দ্রুত তীক্ষ্ন দ্বারা greeted হয় স্ব-পরিবেশন পানীয় (কফি, চা, পানি এবং সরবৎ) এবং বন্ধ দৌড়ে । আমরা আমাদের নিজেদের কিছু কফি এবং সরবৎ আগে আমরা আমাদের মেনু পেয়েছি করতে সাহায্য করেছিলেন যা বিবৃত প্রতিটি পানীয় $ 2.75 ছিল। আমি ডিম ধাতুর (সাদা Truffles আমার পছন্দের হয়)। আমি এই থালা মধ্যে কন্দজাতীয় ছত্রাক নিষ্কর্ষ এক বিট নির্ধারণ করতে পারি নি সাদা scrambled truffled আদেশ । আমার বাগদত্তের কাউবয় ব্রেকফাস্ট আদেশ দেন। এটা দিয়ে কাঁচা মরিচ ও ডিমের উপরে নিচে watered মত ছিল। কোন মহান। ধারণা মহান, কিন্তু উপায় যা খাদ্য প্রস্তুত করা হয় সুপার হতাশাজনক।',\n",
              "       'জনাব wooper ছিল মহান !!! খিলগাঁও ভাল বার্গার এক। কিন্তু 2nd এক, মুরগির পনির বার্গার একটি সামান্য বিট রসহীন ছিল। বিটি আমি সন্তুষ্ট'],\n",
              "      dtype=object)"
            ]
          },
          "metadata": {},
          "execution_count": 213
        }
      ]
    },
    {
      "cell_type": "code",
      "metadata": {
        "id": "b9dgO1m3QcsU",
        "colab": {
          "base_uri": "https://localhost:8080/"
        },
        "outputId": "88e0c4ac-f226-4c28-ce7c-18039a0251bf"
      },
      "source": [
        "(py_inputs, py_attn_masks,py_ids) = make_smart_batches_on_test(test_sentences,test_ids, 16,tokenizer,max_input_length)\n",
        "y_pred , y_true = get_predictions(py_inputs, py_attn_masks, py_labels)"
      ],
      "execution_count": 214,
      "outputs": [
        {
          "output_type": "stream",
          "name": "stdout",
          "text": [
            "Creating Smart Batches from 2,201 examples with batch size 16...\n",
            "\n",
            "Tokenizing 2,201 samples...\n",
            "  Tokenized 0 samples.\n",
            "  Tokenized 200 samples.\n",
            "  Tokenized 400 samples.\n",
            "  Tokenized 600 samples.\n",
            "  Tokenized 800 samples.\n",
            "  Tokenized 1,000 samples.\n",
            "  Tokenized 1,200 samples.\n",
            "  Tokenized 1,400 samples.\n",
            "  Tokenized 1,600 samples.\n",
            "  Tokenized 1,800 samples.\n",
            "  Tokenized 2,000 samples.\n",
            "  Tokenized 2,200 samples.\n",
            "DONE.\n",
            "     2,201 samples\n",
            "\n",
            "     2,201 samples after sorting\n",
            "\n",
            "Creating batches of size 16...\n",
            "\n",
            "  DONE - Selected 138 batches.\n",
            "\n",
            "Padding out sequences within each batch...\n",
            "  DONE.\n",
            "Predicting labels for 138 test batches...\n",
            "  Batch      10  of      138.    Elapsed: 0:00:01.  Remaining: 0:00:08\n",
            "  Batch      20  of      138.    Elapsed: 0:00:01.  Remaining: 0:00:07\n",
            "  Batch      30  of      138.    Elapsed: 0:00:02.  Remaining: 0:00:06\n",
            "  Batch      40  of      138.    Elapsed: 0:00:03.  Remaining: 0:00:08\n",
            "  Batch      50  of      138.    Elapsed: 0:00:04.  Remaining: 0:00:08\n",
            "  Batch      60  of      138.    Elapsed: 0:00:06.  Remaining: 0:00:07\n",
            "  Batch      70  of      138.    Elapsed: 0:00:07.  Remaining: 0:00:06\n",
            "  Batch      80  of      138.    Elapsed: 0:00:07.  Remaining: 0:00:05\n",
            "  Batch      90  of      138.    Elapsed: 0:00:08.  Remaining: 0:00:04\n",
            "  Batch     100  of      138.    Elapsed: 0:00:09.  Remaining: 0:00:03\n",
            "  Batch     110  of      138.    Elapsed: 0:00:09.  Remaining: 0:00:02\n",
            "  Batch     120  of      138.    Elapsed: 0:00:10.  Remaining: 0:00:01\n",
            "  Batch     130  of      138.    Elapsed: 0:00:11.  Remaining: 0:00:01\n"
          ]
        }
      ]
    },
    {
      "cell_type": "markdown",
      "metadata": {
        "id": "vjsjqQpRQcsV"
      },
      "source": [
        "## Evaluating accuracy over test set"
      ]
    },
    {
      "cell_type": "code",
      "metadata": {
        "id": "rwkx-30AQcsV",
        "colab": {
          "base_uri": "https://localhost:8080/"
        },
        "outputId": "d6127ca4-156f-4996-e136-36c3b336f77b"
      },
      "source": [
        "y_ids,y_preds  = get_predictions_test(py_inputs, py_attn_masks,py_ids)\n"
      ],
      "execution_count": 215,
      "outputs": [
        {
          "output_type": "stream",
          "name": "stdout",
          "text": [
            "Predicting labels for 138 test batches...\n",
            "  Batch      10  of      138.    Elapsed: 0:00:01.  Remaining: 0:00:08\n",
            "  Batch      20  of      138.    Elapsed: 0:00:01.  Remaining: 0:00:07\n",
            "  Batch      30  of      138.    Elapsed: 0:00:02.  Remaining: 0:00:06\n",
            "  Batch      40  of      138.    Elapsed: 0:00:03.  Remaining: 0:00:08\n",
            "  Batch      50  of      138.    Elapsed: 0:00:05.  Remaining: 0:00:08\n",
            "  Batch      60  of      138.    Elapsed: 0:00:06.  Remaining: 0:00:07\n",
            "  Batch      70  of      138.    Elapsed: 0:00:07.  Remaining: 0:00:06\n",
            "  Batch      80  of      138.    Elapsed: 0:00:07.  Remaining: 0:00:05\n",
            "  Batch      90  of      138.    Elapsed: 0:00:08.  Remaining: 0:00:04\n",
            "  Batch     100  of      138.    Elapsed: 0:00:09.  Remaining: 0:00:03\n",
            "  Batch     110  of      138.    Elapsed: 0:00:09.  Remaining: 0:00:02\n",
            "  Batch     120  of      138.    Elapsed: 0:00:10.  Remaining: 0:00:01\n",
            "  Batch     130  of      138.    Elapsed: 0:00:11.  Remaining: 0:00:01\n"
          ]
        }
      ]
    },
    {
      "cell_type": "code",
      "metadata": {
        "id": "pDM-cnDHQcsW",
        "colab": {
          "base_uri": "https://localhost:8080/"
        },
        "outputId": "9b5706e0-3552-4f35-b00a-1c0f2f59c153"
      },
      "source": [
        "print(y_preds)"
      ],
      "execution_count": 216,
      "outputs": [
        {
          "output_type": "stream",
          "name": "stdout",
          "text": [
            "[2 0 0 ... 0 0 0]\n"
          ]
        }
      ]
    },
    {
      "cell_type": "code",
      "metadata": {
        "id": "kWWWjz7eUPc7",
        "colab": {
          "base_uri": "https://localhost:8080/"
        },
        "outputId": "daa4742d-b107-453f-b3cd-3fb59725f917"
      },
      "source": [
        "print(y_ids)"
      ],
      "execution_count": 217,
      "outputs": [
        {
          "output_type": "stream",
          "name": "stdout",
          "text": [
            "[ 373  429  463 ... 2042 2050 2175]\n"
          ]
        }
      ]
    },
    {
      "cell_type": "code",
      "metadata": {
        "id": "u2ybbsAoQcsY",
        "colab": {
          "base_uri": "https://localhost:8080/"
        },
        "outputId": "5d7e550d-89b8-4aa2-a144-851c62f28101"
      },
      "source": [
        "le.inverse_transform(y_preds)"
      ],
      "execution_count": 218,
      "outputs": [
        {
          "output_type": "execute_result",
          "data": {
            "text/plain": [
              "array(['positive', 'negative', 'negative', ..., 'negative', 'negative',\n",
              "       'negative'], dtype=object)"
            ]
          },
          "metadata": {},
          "execution_count": 218
        }
      ]
    },
    {
      "cell_type": "code",
      "metadata": {
        "id": "kSMb6sCLQcsZ",
        "colab": {
          "base_uri": "https://localhost:8080/",
          "height": 581
        },
        "outputId": "40c4903f-5891-4f7d-b1e7-8b43eab216b5"
      },
      "source": [
        "sns.countplot(y =le.inverse_transform(y_preds))"
      ],
      "execution_count": 219,
      "outputs": [
        {
          "output_type": "execute_result",
          "data": {
            "text/plain": [
              "<Axes: xlabel='count'>"
            ]
          },
          "metadata": {},
          "execution_count": 219
        },
        {
          "output_type": "display_data",
          "data": {
            "text/plain": [
              "<Figure size 1200x600 with 1 Axes>"
            ],
            "image/png": "[encoded data removed]"
          },
          "metadata": {}
        }
      ]
    },
    {
      "cell_type": "code",
      "metadata": {
        "id": "4KXOXwH9U2MT",
        "colab": {
          "base_uri": "https://localhost:8080/"
        },
        "outputId": "8a2c05d4-c3fb-4de0-cb7b-73771de50d3b"
      },
      "source": [
        "len(y_ids)"
      ],
      "execution_count": 220,
      "outputs": [
        {
          "output_type": "execute_result",
          "data": {
            "text/plain": [
              "2201"
            ]
          },
          "metadata": {},
          "execution_count": 220
        }
      ]
    },
    {
      "cell_type": "code",
      "metadata": {
        "id": "9-fkBgOxU4bX",
        "colab": {
          "base_uri": "https://localhost:8080/"
        },
        "outputId": "039e094b-a252-424a-bf13-83c8420851ed"
      },
      "source": [
        "y_pred=le.inverse_transform(y_preds)\n",
        "y_pred"
      ],
      "execution_count": 221,
      "outputs": [
        {
          "output_type": "execute_result",
          "data": {
            "text/plain": [
              "array(['positive', 'negative', 'negative', ..., 'negative', 'negative',\n",
              "       'negative'], dtype=object)"
            ]
          },
          "metadata": {},
          "execution_count": 221
        }
      ]
    },
    {
      "cell_type": "code",
      "source": [
        "len(y_pred)"
      ],
      "metadata": {
        "id": "7gd3aojHPyBQ",
        "colab": {
          "base_uri": "https://localhost:8080/"
        },
        "outputId": "775bd26c-097d-4285-9f76-287904cc5314"
      },
      "execution_count": 222,
      "outputs": [
        {
          "output_type": "execute_result",
          "data": {
            "text/plain": [
              "2201"
            ]
          },
          "metadata": {},
          "execution_count": 222
        }
      ]
    },
    {
      "cell_type": "code",
      "source": [
        "test_labels"
      ],
      "metadata": {
        "id": "VQqg0xg2Osr9",
        "colab": {
          "base_uri": "https://localhost:8080/"
        },
        "outputId": "ebe33328-3629-4e39-fb02-7a7e88164289"
      },
      "execution_count": 223,
      "outputs": [
        {
          "output_type": "execute_result",
          "data": {
            "text/plain": [
              "array(['positive', 'positive', 'negative', ..., 'negative', 'negative',\n",
              "       'positive'], dtype=object)"
            ]
          },
          "metadata": {},
          "execution_count": 223
        }
      ]
    },
    {
      "cell_type": "code",
      "source": [
        "len(y_preds)"
      ],
      "metadata": {
        "id": "MjllHM85PP31",
        "colab": {
          "base_uri": "https://localhost:8080/"
        },
        "outputId": "df6210e2-1465-44e4-9d0d-6760721aee2e"
      },
      "execution_count": 224,
      "outputs": [
        {
          "output_type": "execute_result",
          "data": {
            "text/plain": [
              "2201"
            ]
          },
          "metadata": {},
          "execution_count": 224
        }
      ]
    },
    {
      "cell_type": "markdown",
      "metadata": {
        "id": "sWPDqogJrjIZ"
      },
      "source": [
        "## Creating Submission DataFrame"
      ]
    },
    {
      "cell_type": "code",
      "metadata": {
        "id": "o4Hb7RD1yHol"
      },
      "source": [
        "\n",
        "\n",
        "df_new = pd.DataFrame({\n",
        "    'id':y_ids,\n",
        "    'plabels':le.inverse_transform(y_preds)\n",
        "})"
      ],
      "execution_count": 225,
      "outputs": []
    },
    {
      "cell_type": "code",
      "metadata": {
        "id": "twQAkVzcn4Lg"
      },
      "source": [
        "\n",
        "test_df['id'] = test_df.index"
      ],
      "execution_count": 226,
      "outputs": []
    },
    {
      "cell_type": "code",
      "metadata": {
        "id": "qov36eWmqawv",
        "colab": {
          "base_uri": "https://localhost:8080/",
          "height": 423
        },
        "outputId": "43ebc797-7b89-491f-a375-41029ddeb00a"
      },
      "source": [
        "df_new"
      ],
      "execution_count": 227,
      "outputs": [
        {
          "output_type": "execute_result",
          "data": {
            "text/plain": [
              "        id   plabels\n",
              "0      373  positive\n",
              "1      429  negative\n",
              "2      463  negative\n",
              "3      491  negative\n",
              "4      544   neutral\n",
              "...    ...       ...\n",
              "2196  2014  negative\n",
              "2197  2035  negative\n",
              "2198  2042  negative\n",
              "2199  2050  negative\n",
              "2200  2175  negative\n",
              "\n",
              "[2201 rows x 2 columns]"
            ],
            "text/html": [
              "\n",
              "\n",
              "  <div id=\"df-05822ce0-cb98-4aa8-8bcb-1e621060718d\">\n",
              "    <div class=\"colab-df-container\">\n",
              "      <div>\n",
              "<style scoped>\n",
              "    .dataframe tbody tr th:only-of-type {\n",
              "        vertical-align: middle;\n",
              "    }\n",
              "\n",
              "    .dataframe tbody tr th {\n",
              "        vertical-align: top;\n",
              "    }\n",
              "\n",
              "    .dataframe thead th {\n",
              "        text-align: right;\n",
              "    }\n",
              "</style>\n",
              "<table border=\"1\" class=\"dataframe\">\n",
              "  <thead>\n",
              "    <tr style=\"text-align: right;\">\n",
              "      <th></th>\n",
              "      <th>id</th>\n",
              "      <th>plabels</th>\n",
              "    </tr>\n",
              "  </thead>\n",
              "  <tbody>\n",
              "    <tr>\n",
              "      <th>0</th>\n",
              "      <td>373</td>\n",
              "      <td>positive</td>\n",
              "    </tr>\n",
              "    <tr>\n",
              "      <th>1</th>\n",
              "      <td>429</td>\n",
              "      <td>negative</td>\n",
              "    </tr>\n",
              "    <tr>\n",
              "      <th>2</th>\n",
              "      <td>463</td>\n",
              "      <td>negative</td>\n",
              "    </tr>\n",
              "    <tr>\n",
              "      <th>3</th>\n",
              "      <td>491</td>\n",
              "      <td>negative</td>\n",
              "    </tr>\n",
              "    <tr>\n",
              "      <th>4</th>\n",
              "      <td>544</td>\n",
              "      <td>neutral</td>\n",
              "    </tr>\n",
              "    <tr>\n",
              "      <th>...</th>\n",
              "      <td>...</td>\n",
              "      <td>...</td>\n",
              "    </tr>\n",
              "    <tr>\n",
              "      <th>2196</th>\n",
              "      <td>2014</td>\n",
              "      <td>negative</td>\n",
              "    </tr>\n",
              "    <tr>\n",
              "      <th>2197</th>\n",
              "      <td>2035</td>\n",
              "      <td>negative</td>\n",
              "    </tr>\n",
              "    <tr>\n",
              "      <th>2198</th>\n",
              "      <td>2042</td>\n",
              "      <td>negative</td>\n",
              "    </tr>\n",
              "    <tr>\n",
              "      <th>2199</th>\n",
              "      <td>2050</td>\n",
              "      <td>negative</td>\n",
              "    </tr>\n",
              "    <tr>\n",
              "      <th>2200</th>\n",
              "      <td>2175</td>\n",
              "      <td>negative</td>\n",
              "    </tr>\n",
              "  </tbody>\n",
              "</table>\n",
              "<p>2201 rows × 2 columns</p>\n",
              "</div>\n",
              "      <button class=\"colab-df-convert\" onclick=\"convertToInteractive('df-05822ce0-cb98-4aa8-8bcb-1e621060718d')\"\n",
              "              title=\"Convert this dataframe to an interactive table.\"\n",
              "              style=\"display:none;\">\n",
              "\n",
              "  <svg xmlns=\"http://www.w3.org/2000/svg\" height=\"24px\"viewBox=\"0 0 24 24\"\n",
              "       width=\"24px\">\n",
              "    <path d=\"M0 0h24v24H0V0z\" fill=\"none\"/>\n",
              "    <path d=\"M18.56 5.44l.94 2.06.94-2.06 2.06-.94-2.06-.94-.94-2.06-.94 2.06-2.06.94zm-11 1L8.5 8.5l.94-2.06 2.06-.94-2.06-.94L8.5 2.5l-.94 2.06-2.06.94zm10 10l.94 2.06.94-2.06 2.06-.94-2.06-.94-.94-2.06-.94 2.06-2.06.94z\"/><path d=\"M17.41 7.96l-1.37-1.37c-.4-.4-.92-.59-1.43-.59-.52 0-1.04.2-1.43.59L10.3 9.45l-7.72 7.72c-.78.78-.78 2.05 0 2.83L4 21.41c.39.39.9.59 1.41.59.51 0 1.02-.2 1.41-.59l7.78-7.78 2.81-2.81c.8-.78.8-2.07 0-2.86zM5.41 20L4 18.59l7.72-7.72 1.47 1.35L5.41 20z\"/>\n",
              "  </svg>\n",
              "      </button>\n",
              "\n",
              "\n",
              "\n",
              "    <div id=\"df-79492318-e1f4-4169-a53a-f678db406681\">\n",
              "      <button class=\"colab-df-quickchart\" onclick=\"quickchart('df-79492318-e1f4-4169-a53a-f678db406681')\"\n",
              "              title=\"Suggest charts.\"\n",
              "              style=\"display:none;\">\n",
              "\n",
              "<svg xmlns=\"http://www.w3.org/2000/svg\" height=\"24px\"viewBox=\"0 0 24 24\"\n",
              "     width=\"24px\">\n",
              "    <g>\n",
              "        <path d=\"M19 3H5c-1.1 0-2 .9-2 2v14c0 1.1.9 2 2 2h14c1.1 0 2-.9 2-2V5c0-1.1-.9-2-2-2zM9 17H7v-7h2v7zm4 0h-2V7h2v10zm4 0h-2v-4h2v4z\"/>\n",
              "    </g>\n",
              "</svg>\n",
              "      </button>\n",
              "    </div>\n",
              "\n",
              "<style>\n",
              "  .colab-df-quickchart {\n",
              "    background-color: #E8F0FE;\n",
              "    border: none;\n",
              "    border-radius: 50%;\n",
              "    cursor: pointer;\n",
              "    display: none;\n",
              "    fill: #1967D2;\n",
              "    height: 32px;\n",
              "    padding: 0 0 0 0;\n",
              "    width: 32px;\n",
              "  }\n",
              "\n",
              "  .colab-df-quickchart:hover {\n",
              "    background-color: #E2EBFA;\n",
              "    box-shadow: 0px 1px 2px rgba(60, 64, 67, 0.3), 0px 1px 3px 1px rgba(60, 64, 67, 0.15);\n",
              "    fill: #174EA6;\n",
              "  }\n",
              "\n",
              "  [theme=dark] .colab-df-quickchart {\n",
              "    background-color: #3B4455;\n",
              "    fill: #D2E3FC;\n",
              "  }\n",
              "\n",
              "  [theme=dark] .colab-df-quickchart:hover {\n",
              "    background-color: #434B5C;\n",
              "    box-shadow: 0px 1px 3px 1px rgba(0, 0, 0, 0.15);\n",
              "    filter: drop-shadow(0px 1px 2px rgba(0, 0, 0, 0.3));\n",
              "    fill: #FFFFFF;\n",
              "  }\n",
              "</style>\n",
              "\n",
              "    <script>\n",
              "      async function quickchart(key) {\n",
              "        const containerElement = document.querySelector('#' + key);\n",
              "        const charts = await google.colab.kernel.invokeFunction(\n",
              "            'suggestCharts', [key], {});\n",
              "      }\n",
              "    </script>\n",
              "\n",
              "      <script>\n",
              "\n",
              "function displayQuickchartButton(domScope) {\n",
              "  let quickchartButtonEl =\n",
              "    domScope.querySelector('#df-79492318-e1f4-4169-a53a-f678db406681 button.colab-df-quickchart');\n",
              "  quickchartButtonEl.style.display =\n",
              "    google.colab.kernel.accessAllowed ? 'block' : 'none';\n",
              "}\n",
              "\n",
              "        displayQuickchartButton(document);\n",
              "      </script>\n",
              "      <style>\n",
              "    .colab-df-container {\n",
              "      display:flex;\n",
              "      flex-wrap:wrap;\n",
              "      gap: 12px;\n",
              "    }\n",
              "\n",
              "    .colab-df-convert {\n",
              "      background-color: #E8F0FE;\n",
              "      border: none;\n",
              "      border-radius: 50%;\n",
              "      cursor: pointer;\n",
              "      display: none;\n",
              "      fill: #1967D2;\n",
              "      height: 32px;\n",
              "      padding: 0 0 0 0;\n",
              "      width: 32px;\n",
              "    }\n",
              "\n",
              "    .colab-df-convert:hover {\n",
              "      background-color: #E2EBFA;\n",
              "      box-shadow: 0px 1px 2px rgba(60, 64, 67, 0.3), 0px 1px 3px 1px rgba(60, 64, 67, 0.15);\n",
              "      fill: #174EA6;\n",
              "    }\n",
              "\n",
              "    [theme=dark] .colab-df-convert {\n",
              "      background-color: #3B4455;\n",
              "      fill: #D2E3FC;\n",
              "    }\n",
              "\n",
              "    [theme=dark] .colab-df-convert:hover {\n",
              "      background-color: #434B5C;\n",
              "      box-shadow: 0px 1px 3px 1px rgba(0, 0, 0, 0.15);\n",
              "      filter: drop-shadow(0px 1px 2px rgba(0, 0, 0, 0.3));\n",
              "      fill: #FFFFFF;\n",
              "    }\n",
              "  </style>\n",
              "\n",
              "      <script>\n",
              "        const buttonEl =\n",
              "          document.querySelector('#df-05822ce0-cb98-4aa8-8bcb-1e621060718d button.colab-df-convert');\n",
              "        buttonEl.style.display =\n",
              "          google.colab.kernel.accessAllowed ? 'block' : 'none';\n",
              "\n",
              "        async function convertToInteractive(key) {\n",
              "          const element = document.querySelector('#df-05822ce0-cb98-4aa8-8bcb-1e621060718d');\n",
              "          const dataTable =\n",
              "            await google.colab.kernel.invokeFunction('convertToInteractive',\n",
              "                                                     [key], {});\n",
              "          if (!dataTable) return;\n",
              "\n",
              "          const docLinkHtml = 'Like what you see? Visit the ' +\n",
              "            '<a target=\"_blank\" href=https://colab.research.google.com/notebooks/data_table.ipynb>data table notebook</a>'\n",
              "            + ' to learn more about interactive tables.';\n",
              "          element.innerHTML = '';\n",
              "          dataTable['output_type'] = 'display_data';\n",
              "          await google.colab.output.renderOutput(dataTable, element);\n",
              "          const docLink = document.createElement('div');\n",
              "          docLink.innerHTML = docLinkHtml;\n",
              "          element.appendChild(docLink);\n",
              "        }\n",
              "      </script>\n",
              "    </div>\n",
              "  </div>\n"
            ]
          },
          "metadata": {},
          "execution_count": 227
        }
      ]
    },
    {
      "cell_type": "code",
      "metadata": {
        "id": "z0CEApHmqdLr",
        "colab": {
          "base_uri": "https://localhost:8080/",
          "height": 423
        },
        "outputId": "388a62ec-a0bf-434e-a97d-a6444327bc0f"
      },
      "source": [
        "test_df"
      ],
      "execution_count": 228,
      "outputs": [
        {
          "output_type": "execute_result",
          "data": {
            "text/plain": [
              "       PID                                               text    labels    id\n",
              "0     1499                     ভোজন রসিক জন্য ভালো .. (ওয়াই)  positive     0\n",
              "1     5287  আমি তাদের খাদ্য মতো, তারা তাদের গ্রাহক খুব সহা...  positive     1\n",
              "2     7546  যখন Tempe, বাজারে জায়গা একত্র করা হচ্ছে ... আ...  negative     2\n",
              "3     3232  জট্টিল Nachos, বিশেষ করে B.B.Q Nachos। আমি এটা...  positive     3\n",
              "4      715  এটা শুধু অসাধারন জায়গা। খাদ্য স্বাদ এবং গুণমা...  positive     4\n",
              "...    ...                                                ...       ...   ...\n",
              "2196  5323  পরিবার ঘুরাঘুরি এর জন্য সবচেয়ে ভাল জায়গা। আর...  positive  2196\n",
              "2197  4975                            খাদ্যে তাই সুস্বাদু হয়  positive  2197\n",
              "2198  8492  আমি আগে তাই আমি অনুমান আমি এটা তুলনা নেই থাই খ...  negative  2198\n",
              "2199  7821  :( আমি সত্যিই পছন্দ করেন এই জাগা করতে চেয়েছিল...  negative  2199\n",
              "2200  5227  জনাব wooper ছিল মহান !!! খিলগাঁও ভাল বার্গার এ...  positive  2200\n",
              "\n",
              "[2201 rows x 4 columns]"
            ],
            "text/html": [
              "\n",
              "\n",
              "  <div id=\"df-db892848-e268-4499-bc70-a428df60310c\">\n",
              "    <div class=\"colab-df-container\">\n",
              "      <div>\n",
              "<style scoped>\n",
              "    .dataframe tbody tr th:only-of-type {\n",
              "        vertical-align: middle;\n",
              "    }\n",
              "\n",
              "    .dataframe tbody tr th {\n",
              "        vertical-align: top;\n",
              "    }\n",
              "\n",
              "    .dataframe thead th {\n",
              "        text-align: right;\n",
              "    }\n",
              "</style>\n",
              "<table border=\"1\" class=\"dataframe\">\n",
              "  <thead>\n",
              "    <tr style=\"text-align: right;\">\n",
              "      <th></th>\n",
              "      <th>PID</th>\n",
              "      <th>text</th>\n",
              "      <th>labels</th>\n",
              "      <th>id</th>\n",
              "    </tr>\n",
              "  </thead>\n",
              "  <tbody>\n",
              "    <tr>\n",
              "      <th>0</th>\n",
              "      <td>1499</td>\n",
              "      <td>ভোজন রসিক জন্য ভালো .. (ওয়াই)</td>\n",
              "      <td>positive</td>\n",
              "      <td>0</td>\n",
              "    </tr>\n",
              "    <tr>\n",
              "      <th>1</th>\n",
              "      <td>5287</td>\n",
              "      <td>আমি তাদের খাদ্য মতো, তারা তাদের গ্রাহক খুব সহা...</td>\n",
              "      <td>positive</td>\n",
              "      <td>1</td>\n",
              "    </tr>\n",
              "    <tr>\n",
              "      <th>2</th>\n",
              "      <td>7546</td>\n",
              "      <td>যখন Tempe, বাজারে জায়গা একত্র করা হচ্ছে ... আ...</td>\n",
              "      <td>negative</td>\n",
              "      <td>2</td>\n",
              "    </tr>\n",
              "    <tr>\n",
              "      <th>3</th>\n",
              "      <td>3232</td>\n",
              "      <td>জট্টিল Nachos, বিশেষ করে B.B.Q Nachos। আমি এটা...</td>\n",
              "      <td>positive</td>\n",
              "      <td>3</td>\n",
              "    </tr>\n",
              "    <tr>\n",
              "      <th>4</th>\n",
              "      <td>715</td>\n",
              "      <td>এটা শুধু অসাধারন জায়গা। খাদ্য স্বাদ এবং গুণমা...</td>\n",
              "      <td>positive</td>\n",
              "      <td>4</td>\n",
              "    </tr>\n",
              "    <tr>\n",
              "      <th>...</th>\n",
              "      <td>...</td>\n",
              "      <td>...</td>\n",
              "      <td>...</td>\n",
              "      <td>...</td>\n",
              "    </tr>\n",
              "    <tr>\n",
              "      <th>2196</th>\n",
              "      <td>5323</td>\n",
              "      <td>পরিবার ঘুরাঘুরি এর জন্য সবচেয়ে ভাল জায়গা। আর...</td>\n",
              "      <td>positive</td>\n",
              "      <td>2196</td>\n",
              "    </tr>\n",
              "    <tr>\n",
              "      <th>2197</th>\n",
              "      <td>4975</td>\n",
              "      <td>খাদ্যে তাই সুস্বাদু হয়</td>\n",
              "      <td>positive</td>\n",
              "      <td>2197</td>\n",
              "    </tr>\n",
              "    <tr>\n",
              "      <th>2198</th>\n",
              "      <td>8492</td>\n",
              "      <td>আমি আগে তাই আমি অনুমান আমি এটা তুলনা নেই থাই খ...</td>\n",
              "      <td>negative</td>\n",
              "      <td>2198</td>\n",
              "    </tr>\n",
              "    <tr>\n",
              "      <th>2199</th>\n",
              "      <td>7821</td>\n",
              "      <td>:( আমি সত্যিই পছন্দ করেন এই জাগা করতে চেয়েছিল...</td>\n",
              "      <td>negative</td>\n",
              "      <td>2199</td>\n",
              "    </tr>\n",
              "    <tr>\n",
              "      <th>2200</th>\n",
              "      <td>5227</td>\n",
              "      <td>জনাব wooper ছিল মহান !!! খিলগাঁও ভাল বার্গার এ...</td>\n",
              "      <td>positive</td>\n",
              "      <td>2200</td>\n",
              "    </tr>\n",
              "  </tbody>\n",
              "</table>\n",
              "<p>2201 rows × 4 columns</p>\n",
              "</div>\n",
              "      <button class=\"colab-df-convert\" onclick=\"convertToInteractive('df-db892848-e268-4499-bc70-a428df60310c')\"\n",
              "              title=\"Convert this dataframe to an interactive table.\"\n",
              "              style=\"display:none;\">\n",
              "\n",
              "  <svg xmlns=\"http://www.w3.org/2000/svg\" height=\"24px\"viewBox=\"0 0 24 24\"\n",
              "       width=\"24px\">\n",
              "    <path d=\"M0 0h24v24H0V0z\" fill=\"none\"/>\n",
              "    <path d=\"M18.56 5.44l.94 2.06.94-2.06 2.06-.94-2.06-.94-.94-2.06-.94 2.06-2.06.94zm-11 1L8.5 8.5l.94-2.06 2.06-.94-2.06-.94L8.5 2.5l-.94 2.06-2.06.94zm10 10l.94 2.06.94-2.06 2.06-.94-2.06-.94-.94-2.06-.94 2.06-2.06.94z\"/><path d=\"M17.41 7.96l-1.37-1.37c-.4-.4-.92-.59-1.43-.59-.52 0-1.04.2-1.43.59L10.3 9.45l-7.72 7.72c-.78.78-.78 2.05 0 2.83L4 21.41c.39.39.9.59 1.41.59.51 0 1.02-.2 1.41-.59l7.78-7.78 2.81-2.81c.8-.78.8-2.07 0-2.86zM5.41 20L4 18.59l7.72-7.72 1.47 1.35L5.41 20z\"/>\n",
              "  </svg>\n",
              "      </button>\n",
              "\n",
              "\n",
              "\n",
              "    <div id=\"df-b841a708-627f-4dc0-93d4-2c355b770bba\">\n",
              "      <button class=\"colab-df-quickchart\" onclick=\"quickchart('df-b841a708-627f-4dc0-93d4-2c355b770bba')\"\n",
              "              title=\"Suggest charts.\"\n",
              "              style=\"display:none;\">\n",
              "\n",
              "<svg xmlns=\"http://www.w3.org/2000/svg\" height=\"24px\"viewBox=\"0 0 24 24\"\n",
              "     width=\"24px\">\n",
              "    <g>\n",
              "        <path d=\"M19 3H5c-1.1 0-2 .9-2 2v14c0 1.1.9 2 2 2h14c1.1 0 2-.9 2-2V5c0-1.1-.9-2-2-2zM9 17H7v-7h2v7zm4 0h-2V7h2v10zm4 0h-2v-4h2v4z\"/>\n",
              "    </g>\n",
              "</svg>\n",
              "      </button>\n",
              "    </div>\n",
              "\n",
              "<style>\n",
              "  .colab-df-quickchart {\n",
              "    background-color: #E8F0FE;\n",
              "    border: none;\n",
              "    border-radius: 50%;\n",
              "    cursor: pointer;\n",
              "    display: none;\n",
              "    fill: #1967D2;\n",
              "    height: 32px;\n",
              "    padding: 0 0 0 0;\n",
              "    width: 32px;\n",
              "  }\n",
              "\n",
              "  .colab-df-quickchart:hover {\n",
              "    background-color: #E2EBFA;\n",
              "    box-shadow: 0px 1px 2px rgba(60, 64, 67, 0.3), 0px 1px 3px 1px rgba(60, 64, 67, 0.15);\n",
              "    fill: #174EA6;\n",
              "  }\n",
              "\n",
              "  [theme=dark] .colab-df-quickchart {\n",
              "    background-color: #3B4455;\n",
              "    fill: #D2E3FC;\n",
              "  }\n",
              "\n",
              "  [theme=dark] .colab-df-quickchart:hover {\n",
              "    background-color: #434B5C;\n",
              "    box-shadow: 0px 1px 3px 1px rgba(0, 0, 0, 0.15);\n",
              "    filter: drop-shadow(0px 1px 2px rgba(0, 0, 0, 0.3));\n",
              "    fill: #FFFFFF;\n",
              "  }\n",
              "</style>\n",
              "\n",
              "    <script>\n",
              "      async function quickchart(key) {\n",
              "        const containerElement = document.querySelector('#' + key);\n",
              "        const charts = await google.colab.kernel.invokeFunction(\n",
              "            'suggestCharts', [key], {});\n",
              "      }\n",
              "    </script>\n",
              "\n",
              "      <script>\n",
              "\n",
              "function displayQuickchartButton(domScope) {\n",
              "  let quickchartButtonEl =\n",
              "    domScope.querySelector('#df-b841a708-627f-4dc0-93d4-2c355b770bba button.colab-df-quickchart');\n",
              "  quickchartButtonEl.style.display =\n",
              "    google.colab.kernel.accessAllowed ? 'block' : 'none';\n",
              "}\n",
              "\n",
              "        displayQuickchartButton(document);\n",
              "      </script>\n",
              "      <style>\n",
              "    .colab-df-container {\n",
              "      display:flex;\n",
              "      flex-wrap:wrap;\n",
              "      gap: 12px;\n",
              "    }\n",
              "\n",
              "    .colab-df-convert {\n",
              "      background-color: #E8F0FE;\n",
              "      border: none;\n",
              "      border-radius: 50%;\n",
              "      cursor: pointer;\n",
              "      display: none;\n",
              "      fill: #1967D2;\n",
              "      height: 32px;\n",
              "      padding: 0 0 0 0;\n",
              "      width: 32px;\n",
              "    }\n",
              "\n",
              "    .colab-df-convert:hover {\n",
              "      background-color: #E2EBFA;\n",
              "      box-shadow: 0px 1px 2px rgba(60, 64, 67, 0.3), 0px 1px 3px 1px rgba(60, 64, 67, 0.15);\n",
              "      fill: #174EA6;\n",
              "    }\n",
              "\n",
              "    [theme=dark] .colab-df-convert {\n",
              "      background-color: #3B4455;\n",
              "      fill: #D2E3FC;\n",
              "    }\n",
              "\n",
              "    [theme=dark] .colab-df-convert:hover {\n",
              "      background-color: #434B5C;\n",
              "      box-shadow: 0px 1px 3px 1px rgba(0, 0, 0, 0.15);\n",
              "      filter: drop-shadow(0px 1px 2px rgba(0, 0, 0, 0.3));\n",
              "      fill: #FFFFFF;\n",
              "    }\n",
              "  </style>\n",
              "\n",
              "      <script>\n",
              "        const buttonEl =\n",
              "          document.querySelector('#df-db892848-e268-4499-bc70-a428df60310c button.colab-df-convert');\n",
              "        buttonEl.style.display =\n",
              "          google.colab.kernel.accessAllowed ? 'block' : 'none';\n",
              "\n",
              "        async function convertToInteractive(key) {\n",
              "          const element = document.querySelector('#df-db892848-e268-4499-bc70-a428df60310c');\n",
              "          const dataTable =\n",
              "            await google.colab.kernel.invokeFunction('convertToInteractive',\n",
              "                                                     [key], {});\n",
              "          if (!dataTable) return;\n",
              "\n",
              "          const docLinkHtml = 'Like what you see? Visit the ' +\n",
              "            '<a target=\"_blank\" href=https://colab.research.google.com/notebooks/data_table.ipynb>data table notebook</a>'\n",
              "            + ' to learn more about interactive tables.';\n",
              "          element.innerHTML = '';\n",
              "          dataTable['output_type'] = 'display_data';\n",
              "          await google.colab.output.renderOutput(dataTable, element);\n",
              "          const docLink = document.createElement('div');\n",
              "          docLink.innerHTML = docLinkHtml;\n",
              "          element.appendChild(docLink);\n",
              "        }\n",
              "      </script>\n",
              "    </div>\n",
              "  </div>\n"
            ]
          },
          "metadata": {},
          "execution_count": 228
        }
      ]
    },
    {
      "cell_type": "code",
      "metadata": {
        "id": "vxReWWmxn7Hj",
        "colab": {
          "base_uri": "https://localhost:8080/",
          "height": 423
        },
        "outputId": "255b36c5-8e66-4751-f702-c280c242c7fe"
      },
      "source": [
        "df_f = pd.merge(test_df,df_new,on = 'id')\n",
        "df_f"
      ],
      "execution_count": 229,
      "outputs": [
        {
          "output_type": "execute_result",
          "data": {
            "text/plain": [
              "       PID                                               text    labels    id  \\\n",
              "0     1499                     ভোজন রসিক জন্য ভালো .. (ওয়াই)  positive     0   \n",
              "1     5287  আমি তাদের খাদ্য মতো, তারা তাদের গ্রাহক খুব সহা...  positive     1   \n",
              "2     7546  যখন Tempe, বাজারে জায়গা একত্র করা হচ্ছে ... আ...  negative     2   \n",
              "3     3232  জট্টিল Nachos, বিশেষ করে B.B.Q Nachos। আমি এটা...  positive     3   \n",
              "4      715  এটা শুধু অসাধারন জায়গা। খাদ্য স্বাদ এবং গুণমা...  positive     4   \n",
              "...    ...                                                ...       ...   ...   \n",
              "2196  5323  পরিবার ঘুরাঘুরি এর জন্য সবচেয়ে ভাল জায়গা। আর...  positive  2196   \n",
              "2197  4975                            খাদ্যে তাই সুস্বাদু হয়  positive  2197   \n",
              "2198  8492  আমি আগে তাই আমি অনুমান আমি এটা তুলনা নেই থাই খ...  negative  2198   \n",
              "2199  7821  :( আমি সত্যিই পছন্দ করেন এই জাগা করতে চেয়েছিল...  negative  2199   \n",
              "2200  5227  জনাব wooper ছিল মহান !!! খিলগাঁও ভাল বার্গার এ...  positive  2200   \n",
              "\n",
              "       plabels  \n",
              "0     positive  \n",
              "1     negative  \n",
              "2     negative  \n",
              "3     positive  \n",
              "4     positive  \n",
              "...        ...  \n",
              "2196  positive  \n",
              "2197  positive  \n",
              "2198  negative  \n",
              "2199  negative  \n",
              "2200  positive  \n",
              "\n",
              "[2201 rows x 5 columns]"
            ],
            "text/html": [
              "\n",
              "\n",
              "  <div id=\"df-3a445295-ace3-496c-80f1-4fe69acc8868\">\n",
              "    <div class=\"colab-df-container\">\n",
              "      <div>\n",
              "<style scoped>\n",
              "    .dataframe tbody tr th:only-of-type {\n",
              "        vertical-align: middle;\n",
              "    }\n",
              "\n",
              "    .dataframe tbody tr th {\n",
              "        vertical-align: top;\n",
              "    }\n",
              "\n",
              "    .dataframe thead th {\n",
              "        text-align: right;\n",
              "    }\n",
              "</style>\n",
              "<table border=\"1\" class=\"dataframe\">\n",
              "  <thead>\n",
              "    <tr style=\"text-align: right;\">\n",
              "      <th></th>\n",
              "      <th>PID</th>\n",
              "      <th>text</th>\n",
              "      <th>labels</th>\n",
              "      <th>id</th>\n",
              "      <th>plabels</th>\n",
              "    </tr>\n",
              "  </thead>\n",
              "  <tbody>\n",
              "    <tr>\n",
              "      <th>0</th>\n",
              "      <td>1499</td>\n",
              "      <td>ভোজন রসিক জন্য ভালো .. (ওয়াই)</td>\n",
              "      <td>positive</td>\n",
              "      <td>0</td>\n",
              "      <td>positive</td>\n",
              "    </tr>\n",
              "    <tr>\n",
              "      <th>1</th>\n",
              "      <td>5287</td>\n",
              "      <td>আমি তাদের খাদ্য মতো, তারা তাদের গ্রাহক খুব সহা...</td>\n",
              "      <td>positive</td>\n",
              "      <td>1</td>\n",
              "      <td>negative</td>\n",
              "    </tr>\n",
              "    <tr>\n",
              "      <th>2</th>\n",
              "      <td>7546</td>\n",
              "      <td>যখন Tempe, বাজারে জায়গা একত্র করা হচ্ছে ... আ...</td>\n",
              "      <td>negative</td>\n",
              "      <td>2</td>\n",
              "      <td>negative</td>\n",
              "    </tr>\n",
              "    <tr>\n",
              "      <th>3</th>\n",
              "      <td>3232</td>\n",
              "      <td>জট্টিল Nachos, বিশেষ করে B.B.Q Nachos। আমি এটা...</td>\n",
              "      <td>positive</td>\n",
              "      <td>3</td>\n",
              "      <td>positive</td>\n",
              "    </tr>\n",
              "    <tr>\n",
              "      <th>4</th>\n",
              "      <td>715</td>\n",
              "      <td>এটা শুধু অসাধারন জায়গা। খাদ্য স্বাদ এবং গুণমা...</td>\n",
              "      <td>positive</td>\n",
              "      <td>4</td>\n",
              "      <td>positive</td>\n",
              "    </tr>\n",
              "    <tr>\n",
              "      <th>...</th>\n",
              "      <td>...</td>\n",
              "      <td>...</td>\n",
              "      <td>...</td>\n",
              "      <td>...</td>\n",
              "      <td>...</td>\n",
              "    </tr>\n",
              "    <tr>\n",
              "      <th>2196</th>\n",
              "      <td>5323</td>\n",
              "      <td>পরিবার ঘুরাঘুরি এর জন্য সবচেয়ে ভাল জায়গা। আর...</td>\n",
              "      <td>positive</td>\n",
              "      <td>2196</td>\n",
              "      <td>positive</td>\n",
              "    </tr>\n",
              "    <tr>\n",
              "      <th>2197</th>\n",
              "      <td>4975</td>\n",
              "      <td>খাদ্যে তাই সুস্বাদু হয়</td>\n",
              "      <td>positive</td>\n",
              "      <td>2197</td>\n",
              "      <td>positive</td>\n",
              "    </tr>\n",
              "    <tr>\n",
              "      <th>2198</th>\n",
              "      <td>8492</td>\n",
              "      <td>আমি আগে তাই আমি অনুমান আমি এটা তুলনা নেই থাই খ...</td>\n",
              "      <td>negative</td>\n",
              "      <td>2198</td>\n",
              "      <td>negative</td>\n",
              "    </tr>\n",
              "    <tr>\n",
              "      <th>2199</th>\n",
              "      <td>7821</td>\n",
              "      <td>:( আমি সত্যিই পছন্দ করেন এই জাগা করতে চেয়েছিল...</td>\n",
              "      <td>negative</td>\n",
              "      <td>2199</td>\n",
              "      <td>negative</td>\n",
              "    </tr>\n",
              "    <tr>\n",
              "      <th>2200</th>\n",
              "      <td>5227</td>\n",
              "      <td>জনাব wooper ছিল মহান !!! খিলগাঁও ভাল বার্গার এ...</td>\n",
              "      <td>positive</td>\n",
              "      <td>2200</td>\n",
              "      <td>positive</td>\n",
              "    </tr>\n",
              "  </tbody>\n",
              "</table>\n",
              "<p>2201 rows × 5 columns</p>\n",
              "</div>\n",
              "      <button class=\"colab-df-convert\" onclick=\"convertToInteractive('df-3a445295-ace3-496c-80f1-4fe69acc8868')\"\n",
              "              title=\"Convert this dataframe to an interactive table.\"\n",
              "              style=\"display:none;\">\n",
              "\n",
              "  <svg xmlns=\"http://www.w3.org/2000/svg\" height=\"24px\"viewBox=\"0 0 24 24\"\n",
              "       width=\"24px\">\n",
              "    <path d=\"M0 0h24v24H0V0z\" fill=\"none\"/>\n",
              "    <path d=\"M18.56 5.44l.94 2.06.94-2.06 2.06-.94-2.06-.94-.94-2.06-.94 2.06-2.06.94zm-11 1L8.5 8.5l.94-2.06 2.06-.94-2.06-.94L8.5 2.5l-.94 2.06-2.06.94zm10 10l.94 2.06.94-2.06 2.06-.94-2.06-.94-.94-2.06-.94 2.06-2.06.94z\"/><path d=\"M17.41 7.96l-1.37-1.37c-.4-.4-.92-.59-1.43-.59-.52 0-1.04.2-1.43.59L10.3 9.45l-7.72 7.72c-.78.78-.78 2.05 0 2.83L4 21.41c.39.39.9.59 1.41.59.51 0 1.02-.2 1.41-.59l7.78-7.78 2.81-2.81c.8-.78.8-2.07 0-2.86zM5.41 20L4 18.59l7.72-7.72 1.47 1.35L5.41 20z\"/>\n",
              "  </svg>\n",
              "      </button>\n",
              "\n",
              "\n",
              "\n",
              "    <div id=\"df-0eb0f8d8-7632-4943-afb0-610724404a5b\">\n",
              "      <button class=\"colab-df-quickchart\" onclick=\"quickchart('df-0eb0f8d8-7632-4943-afb0-610724404a5b')\"\n",
              "              title=\"Suggest charts.\"\n",
              "              style=\"display:none;\">\n",
              "\n",
              "<svg xmlns=\"http://www.w3.org/2000/svg\" height=\"24px\"viewBox=\"0 0 24 24\"\n",
              "     width=\"24px\">\n",
              "    <g>\n",
              "        <path d=\"M19 3H5c-1.1 0-2 .9-2 2v14c0 1.1.9 2 2 2h14c1.1 0 2-.9 2-2V5c0-1.1-.9-2-2-2zM9 17H7v-7h2v7zm4 0h-2V7h2v10zm4 0h-2v-4h2v4z\"/>\n",
              "    </g>\n",
              "</svg>\n",
              "      </button>\n",
              "    </div>\n",
              "\n",
              "<style>\n",
              "  .colab-df-quickchart {\n",
              "    background-color: #E8F0FE;\n",
              "    border: none;\n",
              "    border-radius: 50%;\n",
              "    cursor: pointer;\n",
              "    display: none;\n",
              "    fill: #1967D2;\n",
              "    height: 32px;\n",
              "    padding: 0 0 0 0;\n",
              "    width: 32px;\n",
              "  }\n",
              "\n",
              "  .colab-df-quickchart:hover {\n",
              "    background-color: #E2EBFA;\n",
              "    box-shadow: 0px 1px 2px rgba(60, 64, 67, 0.3), 0px 1px 3px 1px rgba(60, 64, 67, 0.15);\n",
              "    fill: #174EA6;\n",
              "  }\n",
              "\n",
              "  [theme=dark] .colab-df-quickchart {\n",
              "    background-color: #3B4455;\n",
              "    fill: #D2E3FC;\n",
              "  }\n",
              "\n",
              "  [theme=dark] .colab-df-quickchart:hover {\n",
              "    background-color: #434B5C;\n",
              "    box-shadow: 0px 1px 3px 1px rgba(0, 0, 0, 0.15);\n",
              "    filter: drop-shadow(0px 1px 2px rgba(0, 0, 0, 0.3));\n",
              "    fill: #FFFFFF;\n",
              "  }\n",
              "</style>\n",
              "\n",
              "    <script>\n",
              "      async function quickchart(key) {\n",
              "        const containerElement = document.querySelector('#' + key);\n",
              "        const charts = await google.colab.kernel.invokeFunction(\n",
              "            'suggestCharts', [key], {});\n",
              "      }\n",
              "    </script>\n",
              "\n",
              "      <script>\n",
              "\n",
              "function displayQuickchartButton(domScope) {\n",
              "  let quickchartButtonEl =\n",
              "    domScope.querySelector('#df-0eb0f8d8-7632-4943-afb0-610724404a5b button.colab-df-quickchart');\n",
              "  quickchartButtonEl.style.display =\n",
              "    google.colab.kernel.accessAllowed ? 'block' : 'none';\n",
              "}\n",
              "\n",
              "        displayQuickchartButton(document);\n",
              "      </script>\n",
              "      <style>\n",
              "    .colab-df-container {\n",
              "      display:flex;\n",
              "      flex-wrap:wrap;\n",
              "      gap: 12px;\n",
              "    }\n",
              "\n",
              "    .colab-df-convert {\n",
              "      background-color: #E8F0FE;\n",
              "      border: none;\n",
              "      border-radius: 50%;\n",
              "      cursor: pointer;\n",
              "      display: none;\n",
              "      fill: #1967D2;\n",
              "      height: 32px;\n",
              "      padding: 0 0 0 0;\n",
              "      width: 32px;\n",
              "    }\n",
              "\n",
              "    .colab-df-convert:hover {\n",
              "      background-color: #E2EBFA;\n",
              "      box-shadow: 0px 1px 2px rgba(60, 64, 67, 0.3), 0px 1px 3px 1px rgba(60, 64, 67, 0.15);\n",
              "      fill: #174EA6;\n",
              "    }\n",
              "\n",
              "    [theme=dark] .colab-df-convert {\n",
              "      background-color: #3B4455;\n",
              "      fill: #D2E3FC;\n",
              "    }\n",
              "\n",
              "    [theme=dark] .colab-df-convert:hover {\n",
              "      background-color: #434B5C;\n",
              "      box-shadow: 0px 1px 3px 1px rgba(0, 0, 0, 0.15);\n",
              "      filter: drop-shadow(0px 1px 2px rgba(0, 0, 0, 0.3));\n",
              "      fill: #FFFFFF;\n",
              "    }\n",
              "  </style>\n",
              "\n",
              "      <script>\n",
              "        const buttonEl =\n",
              "          document.querySelector('#df-3a445295-ace3-496c-80f1-4fe69acc8868 button.colab-df-convert');\n",
              "        buttonEl.style.display =\n",
              "          google.colab.kernel.accessAllowed ? 'block' : 'none';\n",
              "\n",
              "        async function convertToInteractive(key) {\n",
              "          const element = document.querySelector('#df-3a445295-ace3-496c-80f1-4fe69acc8868');\n",
              "          const dataTable =\n",
              "            await google.colab.kernel.invokeFunction('convertToInteractive',\n",
              "                                                     [key], {});\n",
              "          if (!dataTable) return;\n",
              "\n",
              "          const docLinkHtml = 'Like what you see? Visit the ' +\n",
              "            '<a target=\"_blank\" href=https://colab.research.google.com/notebooks/data_table.ipynb>data table notebook</a>'\n",
              "            + ' to learn more about interactive tables.';\n",
              "          element.innerHTML = '';\n",
              "          dataTable['output_type'] = 'display_data';\n",
              "          await google.colab.output.renderOutput(dataTable, element);\n",
              "          const docLink = document.createElement('div');\n",
              "          docLink.innerHTML = docLinkHtml;\n",
              "          element.appendChild(docLink);\n",
              "        }\n",
              "      </script>\n",
              "    </div>\n",
              "  </div>\n"
            ]
          },
          "metadata": {},
          "execution_count": 229
        }
      ]
    },
    {
      "cell_type": "code",
      "metadata": {
        "id": "1kuASymYn9aV"
      },
      "source": [
        "df_f = df_f[['PID','plabels']]\n",
        "final_label=df_f['plabels']"
      ],
      "execution_count": 230,
      "outputs": []
    },
    {
      "cell_type": "code",
      "source": [
        "final_label"
      ],
      "metadata": {
        "id": "t9bf7-atewd4",
        "colab": {
          "base_uri": "https://localhost:8080/"
        },
        "outputId": "d68c71b2-cc69-4460-ea9c-6785b77b4a1f"
      },
      "execution_count": 231,
      "outputs": [
        {
          "output_type": "execute_result",
          "data": {
            "text/plain": [
              "0       positive\n",
              "1       negative\n",
              "2       negative\n",
              "3       positive\n",
              "4       positive\n",
              "          ...   \n",
              "2196    positive\n",
              "2197    positive\n",
              "2198    negative\n",
              "2199    negative\n",
              "2200    positive\n",
              "Name: plabels, Length: 2201, dtype: object"
            ]
          },
          "metadata": {},
          "execution_count": 231
        }
      ]
    },
    {
      "cell_type": "code",
      "source": [
        "print(classification_report(test_labels, final_label, target_names=class_names, digits=4))"
      ],
      "metadata": {
        "id": "5MZ-Bj3We2s3",
        "colab": {
          "base_uri": "https://localhost:8080/"
        },
        "outputId": "591ef214-f3c1-4199-bc22-b725271fd7c0"
      },
      "execution_count": 232,
      "outputs": [
        {
          "output_type": "stream",
          "name": "stdout",
          "text": [
            "              precision    recall  f1-score   support\n",
            "\n",
            "    positive     0.8753    0.8987    0.8868       859\n",
            "    negative     0.8384    0.8783    0.8579       189\n",
            "     neutral     0.9206    0.8951    0.9077      1153\n",
            "\n",
            "    accuracy                         0.8950      2201\n",
            "   macro avg     0.8781    0.8907    0.8841      2201\n",
            "weighted avg     0.8959    0.8950    0.8953      2201\n",
            "\n"
          ]
        }
      ]
    },
    {
      "cell_type": "code",
      "source": [
        "cm = confusion_matrix(test_labels, final_label)\n",
        "show_confusion_matrix(cm, class_names)"
      ],
      "metadata": {
        "id": "VbRK0QRre8j-",
        "colab": {
          "base_uri": "https://localhost:8080/",
          "height": 611
        },
        "outputId": "a4406ccd-963d-478e-8373-bdc4026b1fa0"
      },
      "execution_count": 233,
      "outputs": [
        {
          "output_type": "display_data",
          "data": {
            "text/plain": [
              "<Figure size 1200x600 with 2 Axes>"
            ],
            "image/png": "[encoded data removed]"
          },
          "metadata": {}
        }
      ]
    },
    {
      "cell_type": "code",
      "source": [],
      "metadata": {
        "id": "Fy4FwnfUqYsb"
      },
      "execution_count": 233,
      "outputs": []
    }
  ]
}